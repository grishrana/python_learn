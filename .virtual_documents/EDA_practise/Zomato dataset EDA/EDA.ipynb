


import pandas as pd
import numpy as np
import matplotlib.pyplot as plt
import seaborn as sns


df=pd.read_csv('Zomatodataset/zomato.csv',encoding='latin-1')


df.head()


df.columns


df.info()


df.describe()





df.shape


df.isnull().sum()


[features for features in df.columns if df[features].isnull().sum() > 0]


sns.heatmap(df.isnull(),yticklabels=False,cbar=False,cmap='viridis')


df_country=pd.read_excel('Zomatodataset/Country-Code.xlsx')
df_country.head()


final_df=pd.merge(df,df_country,on=['Country Code'], how='left')


final_df.head()


final_df.dtypes


final_df.columns


final_df.Country.value_counts()


country_names=final_df.Country.value_counts().index


country_values=final_df.Country.value_counts().values


plt.pie(country_values[:3],labels=country_names[:3],autopct='%1.2f%%')





final_df.columns


ratings = final_df.groupby(by=['Aggregate rating', 'Rating color', 'Rating text']).size().reset_index().rename(columns={0:'Rating Count'})


ratings





plt.figsize=(12,6)
sns.barplot(data=ratings,x="Aggregate rating",y="Rating Count")


plt.figsize=(12,6)
sns.barplot(data=ratings,x="Aggregate rating",y="Rating Count",hue="Rating color",palette=['violet','red','orange','yellow','green','blue'])
