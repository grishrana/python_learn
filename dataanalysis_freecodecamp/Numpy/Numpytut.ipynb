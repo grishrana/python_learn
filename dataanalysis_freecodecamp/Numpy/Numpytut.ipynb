{
 "cells": [
  {
   "cell_type": "code",
   "execution_count": 2,
   "id": "30c31051-3ba6-4130-9ff9-591ec5b50993",
   "metadata": {},
   "outputs": [],
   "source": [
    "import sys\n",
    "import numpy as np"
   ]
  },
  {
   "cell_type": "markdown",
   "id": "e14476bb-bc08-4bf8-af1f-97d381c5ebfd",
   "metadata": {},
   "source": [
    "## __Basic Numpy Array__"
   ]
  },
  {
   "cell_type": "code",
   "execution_count": 3,
   "id": "116a7684-80b3-4d9f-8a7f-3d4bae674161",
   "metadata": {},
   "outputs": [],
   "source": [
    "a = np.array([1,2,3,4,5])"
   ]
  },
  {
   "cell_type": "code",
   "execution_count": 4,
   "id": "7bbf905c-87d4-42bb-87f6-4a0038a1e5ba",
   "metadata": {},
   "outputs": [],
   "source": [
    "b = np.array([\"Hello\",1])"
   ]
  },
  {
   "cell_type": "code",
   "execution_count": 5,
   "id": "39d89cd9-6fa3-4ea0-8f80-f4e4be859b36",
   "metadata": {},
   "outputs": [
    {
     "data": {
      "text/plain": [
       "2"
      ]
     },
     "execution_count": 5,
     "metadata": {},
     "output_type": "execute_result"
    }
   ],
   "source": [
    "a[1]"
   ]
  },
  {
   "cell_type": "code",
   "execution_count": 8,
   "id": "19badf58-03f6-4742-bae6-a7e26e9f55ed",
   "metadata": {},
   "outputs": [
    {
     "data": {
      "text/plain": [
       "array(['Hello', '1'], dtype='<U11')"
      ]
     },
     "execution_count": 8,
     "metadata": {},
     "output_type": "execute_result"
    }
   ],
   "source": [
    "b[[0,1]]"
   ]
  },
  {
   "cell_type": "code",
   "execution_count": 9,
   "id": "ba8dcf3f-7280-44c2-8149-7876955f02e1",
   "metadata": {},
   "outputs": [
    {
     "data": {
      "text/plain": [
       "dtype('int32')"
      ]
     },
     "execution_count": 9,
     "metadata": {},
     "output_type": "execute_result"
    }
   ],
   "source": [
    "a.dtype"
   ]
  },
  {
   "cell_type": "code",
   "execution_count": 12,
   "id": "bd812d21-b465-4ba6-a3d6-842d74f9b69c",
   "metadata": {},
   "outputs": [
    {
     "data": {
      "text/plain": [
       "array([1., 2., 3., 4.])"
      ]
     },
     "execution_count": 12,
     "metadata": {},
     "output_type": "execute_result"
    }
   ],
   "source": [
    "np.array([1,2,3,4], dtype=float)"
   ]
  },
  {
   "cell_type": "code",
   "execution_count": 14,
   "id": "f7ed5465-2d75-4d27-ac9f-291e70d94bdc",
   "metadata": {},
   "outputs": [],
   "source": [
    "a = np.array([1,2,3,4,5], dtype=np.int8)"
   ]
  },
  {
   "cell_type": "code",
   "execution_count": 15,
   "id": "7869fe16-466a-43c5-8975-ccda3b2d2998",
   "metadata": {},
   "outputs": [
    {
     "data": {
      "text/plain": [
       "dtype('int8')"
      ]
     },
     "execution_count": 15,
     "metadata": {},
     "output_type": "execute_result"
    }
   ],
   "source": [
    "a.dtype"
   ]
  },
  {
   "cell_type": "markdown",
   "id": "d335065e-34d6-4bb7-a5e5-2cdcc7fa1515",
   "metadata": {},
   "source": [
    "## __Dimensions and shape__"
   ]
  },
  {
   "cell_type": "code",
   "execution_count": 42,
   "id": "1ef969d3-6ee5-46e2-b159-c4953bd78f8b",
   "metadata": {},
   "outputs": [],
   "source": [
    "A=np.array([\n",
    "    #0,1,2\n",
    "    [1,2,3],#0\n",
    "    [4,5,6],#1\n",
    "    [7,8,9]#3\n",
    "])"
   ]
  },
  {
   "cell_type": "code",
   "execution_count": 25,
   "id": "39ea8985-8745-4fae-8831-5a3024796751",
   "metadata": {},
   "outputs": [
    {
     "data": {
      "text/plain": [
       "(2, 3)"
      ]
     },
     "execution_count": 25,
     "metadata": {},
     "output_type": "execute_result"
    }
   ],
   "source": [
    "A.shape #gives rows and columns"
   ]
  },
  {
   "cell_type": "code",
   "execution_count": 23,
   "id": "8c777f7b-114d-43d2-a204-d000e99b953e",
   "metadata": {},
   "outputs": [
    {
     "data": {
      "text/plain": [
       "2"
      ]
     },
     "execution_count": 23,
     "metadata": {},
     "output_type": "execute_result"
    }
   ],
   "source": [
    "A.ndim #gives dimension here we have 1 vertical and one horizontal so 2 "
   ]
  },
  {
   "cell_type": "code",
   "execution_count": 24,
   "id": "67234e49-8aa0-4c13-a874-57ef6bd76209",
   "metadata": {},
   "outputs": [
    {
     "data": {
      "text/plain": [
       "6"
      ]
     },
     "execution_count": 24,
     "metadata": {},
     "output_type": "execute_result"
    }
   ],
   "source": [
    "A.size #no. of elements we have"
   ]
  },
  {
   "cell_type": "code",
   "execution_count": 27,
   "id": "94812136-ae86-4693-92cd-322955df04f3",
   "metadata": {},
   "outputs": [],
   "source": [
    "B=np.array([\n",
    "    [\n",
    "        [1,2],\n",
    "        [2,3]\n",
    "    ],\n",
    "    [\n",
    "        [3,4],\n",
    "        [4,5]\n",
    "    ]\n",
    "])"
   ]
  },
  {
   "cell_type": "code",
   "execution_count": 28,
   "id": "61babc82-d77c-4905-9657-2cf111d1bddb",
   "metadata": {},
   "outputs": [
    {
     "data": {
      "text/plain": [
       "(2, 2, 2)"
      ]
     },
     "execution_count": 28,
     "metadata": {},
     "output_type": "execute_result"
    }
   ],
   "source": [
    "B.shape"
   ]
  },
  {
   "cell_type": "code",
   "execution_count": 29,
   "id": "80c236bd-162f-454e-8c5a-8c1e5d4aa4a2",
   "metadata": {},
   "outputs": [
    {
     "data": {
      "text/plain": [
       "3"
      ]
     },
     "execution_count": 29,
     "metadata": {},
     "output_type": "execute_result"
    }
   ],
   "source": [
    "B.ndim"
   ]
  },
  {
   "cell_type": "code",
   "execution_count": 30,
   "id": "c9e56230-1d2c-42f0-a505-d45d071b53d6",
   "metadata": {},
   "outputs": [
    {
     "data": {
      "text/plain": [
       "8"
      ]
     },
     "execution_count": 30,
     "metadata": {},
     "output_type": "execute_result"
    }
   ],
   "source": [
    "B.size"
   ]
  },
  {
   "cell_type": "code",
   "execution_count": 38,
   "id": "624e0208-4e5c-48aa-8a3e-a676166f3997",
   "metadata": {},
   "outputs": [
    {
     "data": {
      "text/plain": [
       "1"
      ]
     },
     "execution_count": 38,
     "metadata": {},
     "output_type": "execute_result"
    }
   ],
   "source": [
    "B[0][0][0]"
   ]
  },
  {
   "cell_type": "code",
   "execution_count": 40,
   "id": "c3755c08-4ee1-4d75-bbc9-c8e6575fdc10",
   "metadata": {},
   "outputs": [
    {
     "data": {
      "text/plain": [
       "1"
      ]
     },
     "execution_count": 40,
     "metadata": {},
     "output_type": "execute_result"
    }
   ],
   "source": [
    "B[0,0,0]"
   ]
  },
  {
   "cell_type": "code",
   "execution_count": 43,
   "id": "ed236e56-d22f-45a6-8ca4-74a95e9876e1",
   "metadata": {},
   "outputs": [
    {
     "data": {
      "text/plain": [
       "array([[1, 2, 3],\n",
       "       [4, 5, 6]])"
      ]
     },
     "execution_count": 43,
     "metadata": {},
     "output_type": "execute_result"
    }
   ],
   "source": [
    "A[0:2]"
   ]
  },
  {
   "cell_type": "code",
   "execution_count": 53,
   "id": "e47d1a05-08d0-4d5a-a967-b3a783fee418",
   "metadata": {},
   "outputs": [
    {
     "data": {
      "text/plain": [
       "array([[1, 2],\n",
       "       [4, 5],\n",
       "       [7, 8]])"
      ]
     },
     "execution_count": 53,
     "metadata": {},
     "output_type": "execute_result"
    }
   ],
   "source": [
    "A[:,:2] #from all row[0,2] upto column [0,1] as the 2 in {:2} is not included "
   ]
  },
  {
   "cell_type": "code",
   "execution_count": 51,
   "id": "8a480a45-0e6f-4e08-a876-3cb164eb0600",
   "metadata": {},
   "outputs": [
    {
     "data": {
      "text/plain": [
       "array([[1, 3],\n",
       "       [4, 6],\n",
       "       [7, 9]])"
      ]
     },
     "execution_count": 51,
     "metadata": {},
     "output_type": "execute_result"
    }
   ],
   "source": [
    "A[:,0::2] #if not understood slicing tut must be read "
   ]
  },
  {
   "cell_type": "code",
   "execution_count": 52,
   "id": "b0b63963-774f-43e8-93fb-b1d645a8db03",
   "metadata": {},
   "outputs": [
    {
     "data": {
      "text/plain": [
       "array([[1, 2, 3],\n",
       "       [4, 5, 6]])"
      ]
     },
     "execution_count": 52,
     "metadata": {},
     "output_type": "execute_result"
    }
   ],
   "source": [
    "A[:2,:]"
   ]
  },
  {
   "cell_type": "code",
   "execution_count": 58,
   "id": "d6966e18-da88-4688-8f04-d8c68e60587a",
   "metadata": {},
   "outputs": [],
   "source": [
    "A[0]=np.array([0,0,0]) #modifing the 1st row of a to be [0,0,0]"
   ]
  },
  {
   "cell_type": "code",
   "execution_count": 55,
   "id": "4bfc22f6-05f2-42f2-acf6-a4f83240a8b0",
   "metadata": {},
   "outputs": [],
   "source": [
    "A[1]=np.array([1,1,1])"
   ]
  },
  {
   "cell_type": "code",
   "execution_count": 56,
   "id": "9ef228ef-09be-47b2-b56e-9da744f3641d",
   "metadata": {},
   "outputs": [],
   "source": [
    "A[2]=np.array([2,2,2])"
   ]
  },
  {
   "cell_type": "code",
   "execution_count": 57,
   "id": "78ad11b4-caa4-4c8d-b9ec-ec31f1f1fb64",
   "metadata": {},
   "outputs": [
    {
     "data": {
      "text/plain": [
       "array([[0, 0, 0],\n",
       "       [1, 1, 1],\n",
       "       [2, 2, 2]])"
      ]
     },
     "execution_count": 57,
     "metadata": {},
     "output_type": "execute_result"
    }
   ],
   "source": [
    "A"
   ]
  },
  {
   "cell_type": "code",
   "execution_count": 61,
   "id": "b2847324-56f4-4795-ae52-9e86df22d107",
   "metadata": {},
   "outputs": [],
   "source": [
    "A[2]=22 #numpy will modify every value at 3rd row of A to 22"
   ]
  },
  {
   "cell_type": "code",
   "execution_count": 60,
   "id": "b944a33c-c9e3-4884-a892-c74323f0d705",
   "metadata": {},
   "outputs": [
    {
     "data": {
      "text/plain": [
       "array([[ 0,  0,  0],\n",
       "       [ 1,  1,  1],\n",
       "       [22, 22, 22]])"
      ]
     },
     "execution_count": 60,
     "metadata": {},
     "output_type": "execute_result"
    }
   ],
   "source": [
    "A"
   ]
  },
  {
   "cell_type": "markdown",
   "id": "3ec93ca9-fd4b-4cc3-9d19-87473159f838",
   "metadata": {},
   "source": [
    "## __Statistics__"
   ]
  },
  {
   "cell_type": "code",
   "execution_count": 3,
   "id": "e805c53d-9620-4238-89a2-ef97bf7d14b6",
   "metadata": {},
   "outputs": [],
   "source": [
    "a = np.array([1,2,3,4,5])"
   ]
  },
  {
   "cell_type": "code",
   "execution_count": 62,
   "id": "d9d9763d-b846-4c58-828d-a3a6a853a117",
   "metadata": {},
   "outputs": [
    {
     "data": {
      "text/plain": [
       "15"
      ]
     },
     "execution_count": 62,
     "metadata": {},
     "output_type": "execute_result"
    }
   ],
   "source": [
    "a.sum()"
   ]
  },
  {
   "cell_type": "code",
   "execution_count": 63,
   "id": "23499799-3a06-4d69-aa09-d6f3ba5b330c",
   "metadata": {},
   "outputs": [
    {
     "data": {
      "text/plain": [
       "3.0"
      ]
     },
     "execution_count": 63,
     "metadata": {},
     "output_type": "execute_result"
    }
   ],
   "source": [
    "a.mean()"
   ]
  },
  {
   "cell_type": "code",
   "execution_count": 64,
   "id": "6a1d6d20-29e1-446d-a344-f8ec2718d6fd",
   "metadata": {},
   "outputs": [
    {
     "data": {
      "text/plain": [
       "1.4142135623730951"
      ]
     },
     "execution_count": 64,
     "metadata": {},
     "output_type": "execute_result"
    }
   ],
   "source": [
    "a.std()"
   ]
  },
  {
   "cell_type": "code",
   "execution_count": 65,
   "id": "ef935c5c-0bc4-41ed-b20c-3c9d7e0f5729",
   "metadata": {},
   "outputs": [
    {
     "data": {
      "text/plain": [
       "2.0"
      ]
     },
     "execution_count": 65,
     "metadata": {},
     "output_type": "execute_result"
    }
   ],
   "source": [
    "a.var()"
   ]
  },
  {
   "cell_type": "code",
   "execution_count": 69,
   "id": "48676b9f-9cc6-42df-a41b-3c2a6f4692f6",
   "metadata": {},
   "outputs": [],
   "source": [
    "A=np.array([\n",
    "    #0,1,2\n",
    "    [1,2,3],#0\n",
    "    [4,5,6],#1\n",
    "    [7,8,9]#3\n",
    "])"
   ]
  },
  {
   "cell_type": "code",
   "execution_count": 70,
   "id": "44799edf-704f-41c7-acb4-f97b0b3989de",
   "metadata": {},
   "outputs": [
    {
     "data": {
      "text/plain": [
       "array([12, 15, 18])"
      ]
     },
     "execution_count": 70,
     "metadata": {},
     "output_type": "execute_result"
    }
   ],
   "source": [
    "A.sum(axis=0) #axis[0]==column"
   ]
  },
  {
   "cell_type": "code",
   "execution_count": 71,
   "id": "de4fd8a8-cfbc-4f48-b388-34b636ac4f2f",
   "metadata": {},
   "outputs": [
    {
     "data": {
      "text/plain": [
       "array([ 6, 15, 24])"
      ]
     },
     "execution_count": 71,
     "metadata": {},
     "output_type": "execute_result"
    }
   ],
   "source": [
    "A.sum(axis=1) #axis[1]==row"
   ]
  },
  {
   "cell_type": "code",
   "execution_count": 72,
   "id": "8ee5dcc1-110a-4dd0-bfac-d69f9e679cdb",
   "metadata": {},
   "outputs": [
    {
     "data": {
      "text/plain": [
       "array([4., 5., 6.])"
      ]
     },
     "execution_count": 72,
     "metadata": {},
     "output_type": "execute_result"
    }
   ],
   "source": [
    "A.mean(axis=0)"
   ]
  },
  {
   "cell_type": "code",
   "execution_count": 74,
   "id": "9371a5bc-45d8-4902-8ef5-b166cb63d92e",
   "metadata": {},
   "outputs": [],
   "source": [
    "B=np.array([\n",
    "    [[1,2],[2,3]],\n",
    "    [[3,4],[4,5]]\n",
    "])"
   ]
  },
  {
   "cell_type": "code",
   "execution_count": 75,
   "id": "dba9a542-d8ca-431c-93ad-473db94e9dc7",
   "metadata": {},
   "outputs": [
    {
     "data": {
      "text/plain": [
       "array([[4, 6],\n",
       "       [6, 8]])"
      ]
     },
     "execution_count": 75,
     "metadata": {},
     "output_type": "execute_result"
    }
   ],
   "source": [
    "B.sum(axis=0)"
   ]
  },
  {
   "cell_type": "code",
   "execution_count": 76,
   "id": "cc8c485a-e71b-41c7-8300-53b13d61098f",
   "metadata": {},
   "outputs": [
    {
     "data": {
      "text/plain": [
       "array([[3, 5],\n",
       "       [7, 9]])"
      ]
     },
     "execution_count": 76,
     "metadata": {},
     "output_type": "execute_result"
    }
   ],
   "source": [
    "B.sum(axis=1)"
   ]
  },
  {
   "cell_type": "code",
   "execution_count": 78,
   "id": "53feb0f5-31f0-45ce-a886-9bdf135ee3ad",
   "metadata": {},
   "outputs": [
    {
     "data": {
      "text/plain": [
       "array([3, 5])"
      ]
     },
     "execution_count": 78,
     "metadata": {},
     "output_type": "execute_result"
    }
   ],
   "source": [
    "B[0].sum(axis=0)"
   ]
  },
  {
   "cell_type": "code",
   "execution_count": null,
   "id": "ce319a2e-b3cf-46a9-89d5-fa6d81570871",
   "metadata": {},
   "outputs": [],
   "source": []
  }
 ],
 "metadata": {
  "kernelspec": {
   "display_name": "Python 3 (ipykernel)",
   "language": "python",
   "name": "python3"
  },
  "language_info": {
   "codemirror_mode": {
    "name": "ipython",
    "version": 3
   },
   "file_extension": ".py",
   "mimetype": "text/x-python",
   "name": "python",
   "nbconvert_exporter": "python",
   "pygments_lexer": "ipython3",
   "version": "3.12.0"
  }
 },
 "nbformat": 4,
 "nbformat_minor": 5
}
