{
 "cells": [
  {
   "cell_type": "code",
   "execution_count": 2,
   "id": "30c31051-3ba6-4130-9ff9-591ec5b50993",
   "metadata": {},
   "outputs": [],
   "source": [
    "import sys\n",
    "import numpy as np"
   ]
  },
  {
   "cell_type": "markdown",
   "id": "e14476bb-bc08-4bf8-af1f-97d381c5ebfd",
   "metadata": {},
   "source": [
    "## __Basic Numpy Array__"
   ]
  },
  {
   "cell_type": "code",
   "execution_count": 3,
   "id": "116a7684-80b3-4d9f-8a7f-3d4bae674161",
   "metadata": {},
   "outputs": [],
   "source": [
    "a = np.array([1,2,3,4,5])"
   ]
  },
  {
   "cell_type": "code",
   "execution_count": 4,
   "id": "7bbf905c-87d4-42bb-87f6-4a0038a1e5ba",
   "metadata": {},
   "outputs": [],
   "source": [
    "b = np.array([\"Hello\",1])"
   ]
  },
  {
   "cell_type": "code",
   "execution_count": 5,
   "id": "39d89cd9-6fa3-4ea0-8f80-f4e4be859b36",
   "metadata": {},
   "outputs": [
    {
     "data": {
      "text/plain": [
       "2"
      ]
     },
     "execution_count": 5,
     "metadata": {},
     "output_type": "execute_result"
    }
   ],
   "source": [
    "a[1]"
   ]
  },
  {
   "cell_type": "code",
   "execution_count": 8,
   "id": "19badf58-03f6-4742-bae6-a7e26e9f55ed",
   "metadata": {},
   "outputs": [
    {
     "data": {
      "text/plain": [
       "array(['Hello', '1'], dtype='<U11')"
      ]
     },
     "execution_count": 8,
     "metadata": {},
     "output_type": "execute_result"
    }
   ],
   "source": [
    "b[[0,1]]"
   ]
  },
  {
   "cell_type": "code",
   "execution_count": 9,
   "id": "ba8dcf3f-7280-44c2-8149-7876955f02e1",
   "metadata": {},
   "outputs": [
    {
     "data": {
      "text/plain": [
       "dtype('int32')"
      ]
     },
     "execution_count": 9,
     "metadata": {},
     "output_type": "execute_result"
    }
   ],
   "source": [
    "a.dtype"
   ]
  },
  {
   "cell_type": "code",
   "execution_count": 12,
   "id": "bd812d21-b465-4ba6-a3d6-842d74f9b69c",
   "metadata": {},
   "outputs": [
    {
     "data": {
      "text/plain": [
       "array([1., 2., 3., 4.])"
      ]
     },
     "execution_count": 12,
     "metadata": {},
     "output_type": "execute_result"
    }
   ],
   "source": [
    "np.array([1,2,3,4], dtype=float)"
   ]
  },
  {
   "cell_type": "code",
   "execution_count": 14,
   "id": "f7ed5465-2d75-4d27-ac9f-291e70d94bdc",
   "metadata": {},
   "outputs": [],
   "source": [
    "a = np.array([1,2,3,4,5], dtype=np.int8)"
   ]
  },
  {
   "cell_type": "code",
   "execution_count": 15,
   "id": "7869fe16-466a-43c5-8975-ccda3b2d2998",
   "metadata": {},
   "outputs": [
    {
     "data": {
      "text/plain": [
       "dtype('int8')"
      ]
     },
     "execution_count": 15,
     "metadata": {},
     "output_type": "execute_result"
    }
   ],
   "source": [
    "a.dtype"
   ]
  },
  {
   "cell_type": "markdown",
   "id": "d335065e-34d6-4bb7-a5e5-2cdcc7fa1515",
   "metadata": {},
   "source": [
    "## __Dimensions and shape__"
   ]
  },
  {
   "cell_type": "code",
   "execution_count": 42,
   "id": "1ef969d3-6ee5-46e2-b159-c4953bd78f8b",
   "metadata": {},
   "outputs": [],
   "source": [
    "A=np.array([\n",
    "    #0,1,2\n",
    "    [1,2,3],#0\n",
    "    [4,5,6],#1\n",
    "    [7,8,9]#3\n",
    "])"
   ]
  },
  {
   "cell_type": "code",
   "execution_count": 25,
   "id": "39ea8985-8745-4fae-8831-5a3024796751",
   "metadata": {},
   "outputs": [
    {
     "data": {
      "text/plain": [
       "(2, 3)"
      ]
     },
     "execution_count": 25,
     "metadata": {},
     "output_type": "execute_result"
    }
   ],
   "source": [
    "A.shape #gives rows and columns"
   ]
  },
  {
   "cell_type": "code",
   "execution_count": 23,
   "id": "8c777f7b-114d-43d2-a204-d000e99b953e",
   "metadata": {},
   "outputs": [
    {
     "data": {
      "text/plain": [
       "2"
      ]
     },
     "execution_count": 23,
     "metadata": {},
     "output_type": "execute_result"
    }
   ],
   "source": [
    "A.ndim #gives dimension here we have 1 vertical and one horizontal so 2 "
   ]
  },
  {
   "cell_type": "code",
   "execution_count": 24,
   "id": "67234e49-8aa0-4c13-a874-57ef6bd76209",
   "metadata": {},
   "outputs": [
    {
     "data": {
      "text/plain": [
       "6"
      ]
     },
     "execution_count": 24,
     "metadata": {},
     "output_type": "execute_result"
    }
   ],
   "source": [
    "A.size #no. of elements we have"
   ]
  },
  {
   "cell_type": "code",
   "execution_count": 27,
   "id": "94812136-ae86-4693-92cd-322955df04f3",
   "metadata": {},
   "outputs": [],
   "source": [
    "B=np.array([\n",
    "    [\n",
    "        [1,2],\n",
    "        [2,3]\n",
    "    ],\n",
    "    [\n",
    "        [3,4],\n",
    "        [4,5]\n",
    "    ]\n",
    "])"
   ]
  },
  {
   "cell_type": "code",
   "execution_count": 28,
   "id": "61babc82-d77c-4905-9657-2cf111d1bddb",
   "metadata": {},
   "outputs": [
    {
     "data": {
      "text/plain": [
       "(2, 2, 2)"
      ]
     },
     "execution_count": 28,
     "metadata": {},
     "output_type": "execute_result"
    }
   ],
   "source": [
    "B.shape"
   ]
  },
  {
   "cell_type": "code",
   "execution_count": 29,
   "id": "80c236bd-162f-454e-8c5a-8c1e5d4aa4a2",
   "metadata": {},
   "outputs": [
    {
     "data": {
      "text/plain": [
       "3"
      ]
     },
     "execution_count": 29,
     "metadata": {},
     "output_type": "execute_result"
    }
   ],
   "source": [
    "B.ndim"
   ]
  },
  {
   "cell_type": "code",
   "execution_count": 30,
   "id": "c9e56230-1d2c-42f0-a505-d45d071b53d6",
   "metadata": {},
   "outputs": [
    {
     "data": {
      "text/plain": [
       "8"
      ]
     },
     "execution_count": 30,
     "metadata": {},
     "output_type": "execute_result"
    }
   ],
   "source": [
    "B.size"
   ]
  },
  {
   "cell_type": "code",
   "execution_count": 38,
   "id": "624e0208-4e5c-48aa-8a3e-a676166f3997",
   "metadata": {},
   "outputs": [
    {
     "data": {
      "text/plain": [
       "1"
      ]
     },
     "execution_count": 38,
     "metadata": {},
     "output_type": "execute_result"
    }
   ],
   "source": [
    "B[0][0][0]"
   ]
  },
  {
   "cell_type": "code",
   "execution_count": 40,
   "id": "c3755c08-4ee1-4d75-bbc9-c8e6575fdc10",
   "metadata": {},
   "outputs": [
    {
     "data": {
      "text/plain": [
       "1"
      ]
     },
     "execution_count": 40,
     "metadata": {},
     "output_type": "execute_result"
    }
   ],
   "source": [
    "B[0,0,0]"
   ]
  },
  {
   "cell_type": "code",
   "execution_count": 43,
   "id": "ed236e56-d22f-45a6-8ca4-74a95e9876e1",
   "metadata": {},
   "outputs": [
    {
     "data": {
      "text/plain": [
       "array([[1, 2, 3],\n",
       "       [4, 5, 6]])"
      ]
     },
     "execution_count": 43,
     "metadata": {},
     "output_type": "execute_result"
    }
   ],
   "source": [
    "A[0:2]"
   ]
  },
  {
   "cell_type": "code",
   "execution_count": 53,
   "id": "e47d1a05-08d0-4d5a-a967-b3a783fee418",
   "metadata": {},
   "outputs": [
    {
     "data": {
      "text/plain": [
       "array([[1, 2],\n",
       "       [4, 5],\n",
       "       [7, 8]])"
      ]
     },
     "execution_count": 53,
     "metadata": {},
     "output_type": "execute_result"
    }
   ],
   "source": [
    "A[:,:2] #from all row[0,2] upto column [0,1] as the 2 in {:2} is not included "
   ]
  },
  {
   "cell_type": "code",
   "execution_count": 51,
   "id": "8a480a45-0e6f-4e08-a876-3cb164eb0600",
   "metadata": {},
   "outputs": [
    {
     "data": {
      "text/plain": [
       "array([[1, 3],\n",
       "       [4, 6],\n",
       "       [7, 9]])"
      ]
     },
     "execution_count": 51,
     "metadata": {},
     "output_type": "execute_result"
    }
   ],
   "source": [
    "A[:,0::2] #if not understood slicing tut must be read "
   ]
  },
  {
   "cell_type": "code",
   "execution_count": 52,
   "id": "b0b63963-774f-43e8-93fb-b1d645a8db03",
   "metadata": {},
   "outputs": [
    {
     "data": {
      "text/plain": [
       "array([[1, 2, 3],\n",
       "       [4, 5, 6]])"
      ]
     },
     "execution_count": 52,
     "metadata": {},
     "output_type": "execute_result"
    }
   ],
   "source": [
    "A[:2,:]"
   ]
  },
  {
   "cell_type": "code",
   "execution_count": 58,
   "id": "d6966e18-da88-4688-8f04-d8c68e60587a",
   "metadata": {},
   "outputs": [],
   "source": [
    "A[0]=np.array([0,0,0]) #modifing the 1st row of a to be [0,0,0]"
   ]
  },
  {
   "cell_type": "code",
   "execution_count": 55,
   "id": "4bfc22f6-05f2-42f2-acf6-a4f83240a8b0",
   "metadata": {},
   "outputs": [],
   "source": [
    "A[1]=np.array([1,1,1])"
   ]
  },
  {
   "cell_type": "code",
   "execution_count": 56,
   "id": "9ef228ef-09be-47b2-b56e-9da744f3641d",
   "metadata": {},
   "outputs": [],
   "source": [
    "A[2]=np.array([2,2,2])"
   ]
  },
  {
   "cell_type": "code",
   "execution_count": 57,
   "id": "78ad11b4-caa4-4c8d-b9ec-ec31f1f1fb64",
   "metadata": {},
   "outputs": [
    {
     "data": {
      "text/plain": [
       "array([[0, 0, 0],\n",
       "       [1, 1, 1],\n",
       "       [2, 2, 2]])"
      ]
     },
     "execution_count": 57,
     "metadata": {},
     "output_type": "execute_result"
    }
   ],
   "source": [
    "A"
   ]
  },
  {
   "cell_type": "code",
   "execution_count": 61,
   "id": "b2847324-56f4-4795-ae52-9e86df22d107",
   "metadata": {},
   "outputs": [],
   "source": [
    "A[2]=22 #numpy will modify every value at 3rd row of A to 22"
   ]
  },
  {
   "cell_type": "code",
   "execution_count": 60,
   "id": "b944a33c-c9e3-4884-a892-c74323f0d705",
   "metadata": {},
   "outputs": [
    {
     "data": {
      "text/plain": [
       "array([[ 0,  0,  0],\n",
       "       [ 1,  1,  1],\n",
       "       [22, 22, 22]])"
      ]
     },
     "execution_count": 60,
     "metadata": {},
     "output_type": "execute_result"
    }
   ],
   "source": [
    "A"
   ]
  },
  {
   "cell_type": "markdown",
   "id": "3ec93ca9-fd4b-4cc3-9d19-87473159f838",
   "metadata": {},
   "source": [
    "## __Statistics__"
   ]
  },
  {
   "cell_type": "code",
   "execution_count": 3,
   "id": "e805c53d-9620-4238-89a2-ef97bf7d14b6",
   "metadata": {},
   "outputs": [],
   "source": [
    "a = np.array([1,2,3,4,5])"
   ]
  },
  {
   "cell_type": "code",
   "execution_count": 62,
   "id": "d9d9763d-b846-4c58-828d-a3a6a853a117",
   "metadata": {},
   "outputs": [
    {
     "data": {
      "text/plain": [
       "15"
      ]
     },
     "execution_count": 62,
     "metadata": {},
     "output_type": "execute_result"
    }
   ],
   "source": [
    "a.sum()"
   ]
  },
  {
   "cell_type": "code",
   "execution_count": 63,
   "id": "23499799-3a06-4d69-aa09-d6f3ba5b330c",
   "metadata": {},
   "outputs": [
    {
     "data": {
      "text/plain": [
       "3.0"
      ]
     },
     "execution_count": 63,
     "metadata": {},
     "output_type": "execute_result"
    }
   ],
   "source": [
    "a.mean()"
   ]
  },
  {
   "cell_type": "code",
   "execution_count": 64,
   "id": "6a1d6d20-29e1-446d-a344-f8ec2718d6fd",
   "metadata": {},
   "outputs": [
    {
     "data": {
      "text/plain": [
       "1.4142135623730951"
      ]
     },
     "execution_count": 64,
     "metadata": {},
     "output_type": "execute_result"
    }
   ],
   "source": [
    "a.std()"
   ]
  },
  {
   "cell_type": "code",
   "execution_count": 65,
   "id": "ef935c5c-0bc4-41ed-b20c-3c9d7e0f5729",
   "metadata": {},
   "outputs": [
    {
     "data": {
      "text/plain": [
       "2.0"
      ]
     },
     "execution_count": 65,
     "metadata": {},
     "output_type": "execute_result"
    }
   ],
   "source": [
    "a.var()"
   ]
  },
  {
   "cell_type": "code",
   "execution_count": 69,
   "id": "48676b9f-9cc6-42df-a41b-3c2a6f4692f6",
   "metadata": {},
   "outputs": [],
   "source": [
    "A=np.array([\n",
    "    #0,1,2\n",
    "    [1,2,3],#0\n",
    "    [4,5,6],#1\n",
    "    [7,8,9]#3\n",
    "])"
   ]
  },
  {
   "cell_type": "code",
   "execution_count": 70,
   "id": "44799edf-704f-41c7-acb4-f97b0b3989de",
   "metadata": {},
   "outputs": [
    {
     "data": {
      "text/plain": [
       "array([12, 15, 18])"
      ]
     },
     "execution_count": 70,
     "metadata": {},
     "output_type": "execute_result"
    }
   ],
   "source": [
    "A.sum(axis=0) #axis[0]==column"
   ]
  },
  {
   "cell_type": "code",
   "execution_count": 71,
   "id": "de4fd8a8-cfbc-4f48-b388-34b636ac4f2f",
   "metadata": {},
   "outputs": [
    {
     "data": {
      "text/plain": [
       "array([ 6, 15, 24])"
      ]
     },
     "execution_count": 71,
     "metadata": {},
     "output_type": "execute_result"
    }
   ],
   "source": [
    "A.sum(axis=1) #axis[1]==row"
   ]
  },
  {
   "cell_type": "code",
   "execution_count": 72,
   "id": "8ee5dcc1-110a-4dd0-bfac-d69f9e679cdb",
   "metadata": {},
   "outputs": [
    {
     "data": {
      "text/plain": [
       "array([4., 5., 6.])"
      ]
     },
     "execution_count": 72,
     "metadata": {},
     "output_type": "execute_result"
    }
   ],
   "source": [
    "A.mean(axis=0)"
   ]
  },
  {
   "cell_type": "code",
   "execution_count": 74,
   "id": "9371a5bc-45d8-4902-8ef5-b166cb63d92e",
   "metadata": {},
   "outputs": [],
   "source": [
    "B=np.array([\n",
    "    [[1,2],[2,3]],\n",
    "    [[3,4],[4,5]]\n",
    "])"
   ]
  },
  {
   "cell_type": "code",
   "execution_count": 75,
   "id": "dba9a542-d8ca-431c-93ad-473db94e9dc7",
   "metadata": {},
   "outputs": [
    {
     "data": {
      "text/plain": [
       "array([[4, 6],\n",
       "       [6, 8]])"
      ]
     },
     "execution_count": 75,
     "metadata": {},
     "output_type": "execute_result"
    }
   ],
   "source": [
    "B.sum(axis=0)"
   ]
  },
  {
   "cell_type": "code",
   "execution_count": 76,
   "id": "cc8c485a-e71b-41c7-8300-53b13d61098f",
   "metadata": {},
   "outputs": [
    {
     "data": {
      "text/plain": [
       "array([[3, 5],\n",
       "       [7, 9]])"
      ]
     },
     "execution_count": 76,
     "metadata": {},
     "output_type": "execute_result"
    }
   ],
   "source": [
    "B.sum(axis=1)"
   ]
  },
  {
   "cell_type": "code",
   "execution_count": 78,
   "id": "53feb0f5-31f0-45ce-a886-9bdf135ee3ad",
   "metadata": {},
   "outputs": [
    {
     "data": {
      "text/plain": [
       "array([3, 5])"
      ]
     },
     "execution_count": 78,
     "metadata": {},
     "output_type": "execute_result"
    }
   ],
   "source": [
    "B[0].sum(axis=0)"
   ]
  },
  {
   "cell_type": "markdown",
   "id": "91f83eab-62ca-4312-ad71-bf234ad608c6",
   "metadata": {},
   "source": [
    "## __Broadcasting and Vectorized operation__"
   ]
  },
  {
   "cell_type": "code",
   "execution_count": 5,
   "id": "f39df372-67e4-4788-a277-699c26d4e86a",
   "metadata": {},
   "outputs": [],
   "source": [
    "a=np.arange(5)"
   ]
  },
  {
   "cell_type": "code",
   "execution_count": 6,
   "id": "df3178df-a7c7-4716-9c50-219b19e41d7e",
   "metadata": {},
   "outputs": [
    {
     "data": {
      "text/plain": [
       "array([0, 1, 2, 3, 4])"
      ]
     },
     "execution_count": 6,
     "metadata": {},
     "output_type": "execute_result"
    }
   ],
   "source": [
    "a"
   ]
  },
  {
   "cell_type": "code",
   "execution_count": 8,
   "id": "429a3573-8e42-4785-8926-26104016860c",
   "metadata": {},
   "outputs": [
    {
     "data": {
      "text/plain": [
       "array([10, 11, 12, 13, 14])"
      ]
     },
     "execution_count": 8,
     "metadata": {},
     "output_type": "execute_result"
    }
   ],
   "source": [
    "a+10 #creates a new array and returns it doesn't overwrites the original array"
   ]
  },
  {
   "cell_type": "code",
   "execution_count": 9,
   "id": "972728d2-467a-4170-a81f-d753c519c777",
   "metadata": {},
   "outputs": [
    {
     "data": {
      "text/plain": [
       "array([0, 1, 2, 3, 4])"
      ]
     },
     "execution_count": 9,
     "metadata": {},
     "output_type": "execute_result"
    }
   ],
   "source": [
    "a"
   ]
  },
  {
   "cell_type": "code",
   "execution_count": 10,
   "id": "7b5a2bd6-05c6-4e5a-b45b-3dfbb646f374",
   "metadata": {},
   "outputs": [
    {
     "data": {
      "text/plain": [
       "array([ 0, 10, 20, 30, 40])"
      ]
     },
     "execution_count": 10,
     "metadata": {},
     "output_type": "execute_result"
    }
   ],
   "source": [
    "a*10"
   ]
  },
  {
   "cell_type": "code",
   "execution_count": 13,
   "id": "639516fc-cd26-425a-bf77-22858e69c110",
   "metadata": {},
   "outputs": [],
   "source": [
    "a+=10 #(a=a+10) now the original array is overwrited"
   ]
  },
  {
   "cell_type": "code",
   "execution_count": 12,
   "id": "4bb21e0e-faad-486b-9128-8277e23339c9",
   "metadata": {},
   "outputs": [
    {
     "data": {
      "text/plain": [
       "array([10, 11, 12, 13, 14])"
      ]
     },
     "execution_count": 12,
     "metadata": {},
     "output_type": "execute_result"
    }
   ],
   "source": [
    "a"
   ]
  },
  {
   "cell_type": "code",
   "execution_count": 14,
   "id": "78302f7a-8387-4832-ade8-fa672c081144",
   "metadata": {},
   "outputs": [],
   "source": [
    "b=np.arange(5)"
   ]
  },
  {
   "cell_type": "code",
   "execution_count": 16,
   "id": "961f15ad-ddde-47ac-9c9c-eb69ad475ff5",
   "metadata": {},
   "outputs": [
    {
     "data": {
      "text/plain": [
       "array([20, 22, 24, 26, 28])"
      ]
     },
     "execution_count": 16,
     "metadata": {},
     "output_type": "execute_result"
    }
   ],
   "source": [
    "a+b #two arrays can be operated easily but the no. of elements and dimensions should match"
   ]
  },
  {
   "cell_type": "code",
   "execution_count": 30,
   "id": "a497fc0e-6c1d-451b-958e-256af1f22134",
   "metadata": {},
   "outputs": [],
   "source": [
    "a=np.arange(12).reshape(2,2,3)"
   ]
  },
  {
   "cell_type": "code",
   "execution_count": 31,
   "id": "5a8bc65d-bbe3-45b4-96eb-b4c0d11a933a",
   "metadata": {},
   "outputs": [
    {
     "data": {
      "text/plain": [
       "array([[[ 0,  1,  2],\n",
       "        [ 3,  4,  5]],\n",
       "\n",
       "       [[ 6,  7,  8],\n",
       "        [ 9, 10, 11]]])"
      ]
     },
     "execution_count": 31,
     "metadata": {},
     "output_type": "execute_result"
    }
   ],
   "source": [
    "a"
   ]
  },
  {
   "cell_type": "markdown",
   "id": "187f09b5-614c-4933-8f2a-01d18e42f655",
   "metadata": {},
   "source": [
    "## **Boolean Arrays**\n",
    "_(Also called masks)_"
   ]
  },
  {
   "cell_type": "code",
   "execution_count": 32,
   "id": "ab78ee9e-f44c-4d15-bb01-2850a77d7c97",
   "metadata": {},
   "outputs": [],
   "source": [
    "a=np.arange(10)"
   ]
  },
  {
   "cell_type": "code",
   "execution_count": 33,
   "id": "e3cfa95d-bf46-4095-b25c-40a684a8fbd4",
   "metadata": {},
   "outputs": [],
   "source": [
    "b=a<5"
   ]
  },
  {
   "cell_type": "code",
   "execution_count": 34,
   "id": "3672e16c-ef3c-4f5d-a55f-401446145e2b",
   "metadata": {},
   "outputs": [
    {
     "data": {
      "text/plain": [
       "array([ True,  True,  True,  True,  True, False, False, False, False,\n",
       "       False])"
      ]
     },
     "execution_count": 34,
     "metadata": {},
     "output_type": "execute_result"
    }
   ],
   "source": [
    "b"
   ]
  },
  {
   "cell_type": "code",
   "execution_count": 35,
   "id": "1d2c4650-9bed-4426-ac0c-dde34d675573",
   "metadata": {},
   "outputs": [
    {
     "data": {
      "text/plain": [
       "array([0, 1, 2, 3, 4])"
      ]
     },
     "execution_count": 35,
     "metadata": {},
     "output_type": "execute_result"
    }
   ],
   "source": [
    "a[b]"
   ]
  },
  {
   "cell_type": "code",
   "execution_count": 36,
   "id": "b06e0807-8598-4931-84ea-df20264e4cea",
   "metadata": {},
   "outputs": [
    {
     "data": {
      "text/plain": [
       "array([0, 1, 2, 3, 4])"
      ]
     },
     "execution_count": 36,
     "metadata": {},
     "output_type": "execute_result"
    }
   ],
   "source": [
    "a[a<5]"
   ]
  },
  {
   "cell_type": "code",
   "execution_count": 37,
   "id": "e6a5c4bb-6075-488c-be7f-4a93829d1dd1",
   "metadata": {},
   "outputs": [
    {
     "data": {
      "text/plain": [
       "4.5"
      ]
     },
     "execution_count": 37,
     "metadata": {},
     "output_type": "execute_result"
    }
   ],
   "source": [
    "a.mean()"
   ]
  },
  {
   "cell_type": "code",
   "execution_count": 39,
   "id": "3bdf228c-b9f2-43ca-909f-f5b6e700fa9d",
   "metadata": {},
   "outputs": [
    {
     "data": {
      "text/plain": [
       "array([5, 6, 7, 8, 9])"
      ]
     },
     "execution_count": 39,
     "metadata": {},
     "output_type": "execute_result"
    }
   ],
   "source": [
    "a[a>a.mean()]"
   ]
  },
  {
   "cell_type": "code",
   "execution_count": 40,
   "id": "e7b9db46-f174-4b90-9860-29fc64e4d503",
   "metadata": {},
   "outputs": [
    {
     "data": {
      "text/plain": [
       "array([0, 1, 2, 3, 4])"
      ]
     },
     "execution_count": 40,
     "metadata": {},
     "output_type": "execute_result"
    }
   ],
   "source": [
    "a[~(a>a.mean())]"
   ]
  },
  {
   "cell_type": "code",
   "execution_count": 45,
   "id": "73e49006-1678-4100-b947-6e21348b46b3",
   "metadata": {},
   "outputs": [
    {
     "data": {
      "text/plain": [
       "array([0, 1, 2, 3, 4, 6, 8])"
      ]
     },
     "execution_count": 45,
     "metadata": {},
     "output_type": "execute_result"
    }
   ],
   "source": [
    "a[(a<5) | (a%2==0)]"
   ]
  },
  {
   "cell_type": "code",
   "execution_count": 46,
   "id": "e4dde329-c941-4625-9387-757680436ed5",
   "metadata": {},
   "outputs": [
    {
     "data": {
      "text/plain": [
       "array([0, 2, 4, 6])"
      ]
     },
     "execution_count": 46,
     "metadata": {},
     "output_type": "execute_result"
    }
   ],
   "source": [
    "a[(a<8) & (a%2==0)]"
   ]
  },
  {
   "cell_type": "code",
   "execution_count": 49,
   "id": "78930bff-8a4b-4359-90bc-9be022981301",
   "metadata": {},
   "outputs": [],
   "source": [
    "a=np.random.randint(100, size=(3,3))"
   ]
  },
  {
   "cell_type": "code",
   "execution_count": 50,
   "id": "bd733acd-d2bf-40c9-97a1-5d2ab4382a79",
   "metadata": {},
   "outputs": [
    {
     "data": {
      "text/plain": [
       "array([[33, 32,  8],\n",
       "       [22, 62,  1],\n",
       "       [26, 25, 85]])"
      ]
     },
     "execution_count": 50,
     "metadata": {},
     "output_type": "execute_result"
    }
   ],
   "source": [
    "a"
   ]
  },
  {
   "cell_type": "code",
   "execution_count": 51,
   "id": "4f7021e5-bb51-4854-9474-adda23ba82f4",
   "metadata": {},
   "outputs": [
    {
     "data": {
      "text/plain": [
       "array([[ True,  True, False],\n",
       "       [False,  True, False],\n",
       "       [False, False,  True]])"
      ]
     },
     "execution_count": 51,
     "metadata": {},
     "output_type": "execute_result"
    }
   ],
   "source": [
    "a>30"
   ]
  },
  {
   "cell_type": "code",
   "execution_count": 52,
   "id": "40f3505d-90b3-4ffd-988a-c5940d61879f",
   "metadata": {},
   "outputs": [
    {
     "data": {
      "text/plain": [
       "array([33, 32, 62, 85])"
      ]
     },
     "execution_count": 52,
     "metadata": {},
     "output_type": "execute_result"
    }
   ],
   "source": [
    "a[a>30]"
   ]
  },
  {
   "cell_type": "markdown",
   "id": "fcb0ac73-8b24-44f4-a4fb-e0ae34834820",
   "metadata": {},
   "source": [
    "## __Linear Algebra__"
   ]
  },
  {
   "cell_type": "code",
   "execution_count": 6,
   "id": "31a082a3-8bce-4594-87d3-9a33413b1b45",
   "metadata": {},
   "outputs": [],
   "source": [
    "a=np.arange(1,10).reshape(3,3)"
   ]
  },
  {
   "cell_type": "code",
   "execution_count": 7,
   "id": "436ee1eb-8bb9-47be-92b6-7513c41cb179",
   "metadata": {},
   "outputs": [
    {
     "data": {
      "text/plain": [
       "array([[1, 2, 3],\n",
       "       [4, 5, 6],\n",
       "       [7, 8, 9]])"
      ]
     },
     "execution_count": 7,
     "metadata": {},
     "output_type": "execute_result"
    }
   ],
   "source": [
    "a"
   ]
  },
  {
   "cell_type": "code",
   "execution_count": 11,
   "id": "04c22639-0357-449b-b764-fbc6b23f331f",
   "metadata": {},
   "outputs": [],
   "source": [
    "b=np.arange(1,7).reshape(3,2)"
   ]
  },
  {
   "cell_type": "code",
   "execution_count": 12,
   "id": "1743b1cd-784f-483c-88df-f7b9a703ad44",
   "metadata": {},
   "outputs": [
    {
     "data": {
      "text/plain": [
       "array([[1, 2],\n",
       "       [3, 4],\n",
       "       [5, 6]])"
      ]
     },
     "execution_count": 12,
     "metadata": {},
     "output_type": "execute_result"
    }
   ],
   "source": [
    "b"
   ]
  },
  {
   "cell_type": "code",
   "execution_count": 15,
   "id": "19ab24b6-64ae-464a-b265-e8cc4d20948c",
   "metadata": {},
   "outputs": [
    {
     "data": {
      "text/plain": [
       "array([[ 22,  28],\n",
       "       [ 49,  64],\n",
       "       [ 76, 100]])"
      ]
     },
     "execution_count": 15,
     "metadata": {},
     "output_type": "execute_result"
    }
   ],
   "source": [
    "a.dot(b) #dot product"
   ]
  },
  {
   "cell_type": "code",
   "execution_count": 18,
   "id": "515b0b98-2e1f-46da-93c5-27ae0b43fbf9",
   "metadata": {},
   "outputs": [
    {
     "data": {
      "text/plain": [
       "array([[ 22,  28],\n",
       "       [ 49,  64],\n",
       "       [ 76, 100]])"
      ]
     },
     "execution_count": 18,
     "metadata": {},
     "output_type": "execute_result"
    }
   ],
   "source": [
    "a@b #matrix multiplication"
   ]
  },
  {
   "cell_type": "code",
   "execution_count": 20,
   "id": "74ef461f-a83e-432d-9e33-f0819424f0cf",
   "metadata": {},
   "outputs": [
    {
     "data": {
      "text/plain": [
       "array([[1, 3, 5],\n",
       "       [2, 4, 6]])"
      ]
     },
     "execution_count": 20,
     "metadata": {},
     "output_type": "execute_result"
    }
   ],
   "source": [
    "b.T #transpose"
   ]
  },
  {
   "cell_type": "code",
   "execution_count": 21,
   "id": "ca6d6904-d99d-4cfd-9579-2c3ba4facdc7",
   "metadata": {},
   "outputs": [
    {
     "data": {
      "text/plain": [
       "array([[48, 57, 66],\n",
       "       [60, 72, 84]])"
      ]
     },
     "execution_count": 21,
     "metadata": {},
     "output_type": "execute_result"
    }
   ],
   "source": [
    "b.T @ a"
   ]
  },
  {
   "cell_type": "code",
   "execution_count": null,
   "id": "02ea5e92-1e96-4a14-8d40-a9d6026aa4fb",
   "metadata": {},
   "outputs": [],
   "source": []
  }
 ],
 "metadata": {
  "kernelspec": {
   "display_name": "Python 3 (ipykernel)",
   "language": "python",
   "name": "python3"
  },
  "language_info": {
   "codemirror_mode": {
    "name": "ipython",
    "version": 3
   },
   "file_extension": ".py",
   "mimetype": "text/x-python",
   "name": "python",
   "nbconvert_exporter": "python",
   "pygments_lexer": "ipython3",
   "version": "3.10.12"
  }
 },
 "nbformat": 4,
 "nbformat_minor": 5
}
