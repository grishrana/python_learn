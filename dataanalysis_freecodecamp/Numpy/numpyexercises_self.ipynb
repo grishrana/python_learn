{
 "cells": [
  {
   "cell_type": "code",
   "execution_count": 1,
   "id": "5ed93133-1517-4476-9511-71056f6a2074",
   "metadata": {},
   "outputs": [
    {
     "name": "stdout",
     "output_type": "stream",
     "text": [
      "1.26.2\n"
     ]
    }
   ],
   "source": [
    "import numpy as np\n",
    "print(np.__version__)"
   ]
  },
  {
   "cell_type": "markdown",
   "id": "40fcdad6-e6c4-473a-b989-463ba649c439",
   "metadata": {},
   "source": [
    "## __Create A numpy array filled with 10 zeros__"
   ]
  },
  {
   "cell_type": "code",
   "execution_count": 2,
   "id": "05d90b90-3e22-4d49-b667-9ea39f80e9c6",
   "metadata": {},
   "outputs": [
    {
     "data": {
      "text/plain": [
       "array([0, 0, 0, 0, 0, 0, 0, 0, 0, 0])"
      ]
     },
     "execution_count": 2,
     "metadata": {},
     "output_type": "execute_result"
    }
   ],
   "source": [
    "np.array([0]*10)"
   ]
  },
  {
   "cell_type": "code",
   "execution_count": 4,
   "id": "1de72b04-ac0f-40d3-ab26-cc588851babb",
   "metadata": {},
   "outputs": [
    {
     "data": {
      "text/plain": [
       "array([0., 0., 0., 0., 0., 0., 0., 0., 0., 0.])"
      ]
     },
     "execution_count": 4,
     "metadata": {},
     "output_type": "execute_result"
    }
   ],
   "source": [
    "np.zeros(10)"
   ]
  },
  {
   "cell_type": "markdown",
   "id": "e8ec62bf-0e16-4e49-b977-ad703ef3634b",
   "metadata": {},
   "source": [
    "## __Create a numpy arrays with values ranging from 10to49__"
   ]
  },
  {
   "cell_type": "code",
   "execution_count": 6,
   "id": "d1a875d5-4bc7-48f2-a708-a93b14410d9e",
   "metadata": {},
   "outputs": [
    {
     "data": {
      "text/plain": [
       "array([10, 11, 12, 13, 14, 15, 16, 17, 18, 19, 20, 21, 22, 23, 24, 25, 26,\n",
       "       27, 28, 29, 30, 31, 32, 33, 34, 35, 36, 37, 38, 39, 40, 41, 42, 43,\n",
       "       44, 45, 46, 47, 48, 49])"
      ]
     },
     "execution_count": 6,
     "metadata": {},
     "output_type": "execute_result"
    }
   ],
   "source": [
    "np.arange(10,50)"
   ]
  },
  {
   "cell_type": "markdown",
   "id": "716a6330-db3f-436e-b8fb-73e0b7ae56ed",
   "metadata": {},
   "source": [
    "## __Create a numpy matrix of 2*2 filled with ones__"
   ]
  },
  {
   "cell_type": "code",
   "execution_count": 8,
   "id": "4c1b54b3-4dfa-494d-9d85-a14170ab71a1",
   "metadata": {},
   "outputs": [
    {
     "data": {
      "text/plain": [
       "array([[1, 1],\n",
       "       [1, 1]])"
      ]
     },
     "execution_count": 8,
     "metadata": {},
     "output_type": "execute_result"
    }
   ],
   "source": [
    "np.array([1]*4).reshape(2,2)"
   ]
  },
  {
   "cell_type": "code",
   "execution_count": 11,
   "id": "8a32b9e4-9edc-4133-bf7e-ef5ed0b99b77",
   "metadata": {},
   "outputs": [
    {
     "data": {
      "text/plain": [
       "array([[1, 1],\n",
       "       [1, 1]], dtype=int8)"
      ]
     },
     "execution_count": 11,
     "metadata": {},
     "output_type": "execute_result"
    }
   ],
   "source": [
    "np.ones([2,2], dtype=np.int8)"
   ]
  },
  {
   "cell_type": "markdown",
   "id": "2d6c33cf-595a-480a-a7bc-68155cc24ae8",
   "metadata": {},
   "source": [
    "## __Create a numpy matrix of 3*2 float ones__"
   ]
  },
  {
   "cell_type": "code",
   "execution_count": 17,
   "id": "5bf3d2fb-cfda-4ff2-bc2d-b968f0a4d961",
   "metadata": {},
   "outputs": [],
   "source": [
    "a=np.ones([3,2], dtype=float)"
   ]
  },
  {
   "cell_type": "code",
   "execution_count": 18,
   "id": "b1f14416-93e1-4e43-86b3-58b4c5895755",
   "metadata": {},
   "outputs": [
    {
     "data": {
      "text/plain": [
       "array([[1., 1.],\n",
       "       [1., 1.],\n",
       "       [1., 1.]])"
      ]
     },
     "execution_count": 18,
     "metadata": {},
     "output_type": "execute_result"
    }
   ],
   "source": [
    "a"
   ]
  },
  {
   "cell_type": "markdown",
   "id": "061d1bb5-a967-4e3c-812c-e270685fe203",
   "metadata": {},
   "source": [
    "### __Given the X numpy array, create a new numpy array with the same shape and type as X, filled with ones.__"
   ]
  },
  {
   "cell_type": "code",
   "execution_count": 23,
   "id": "a74fa59a-f7fe-4595-a2a1-af7ef54ccfac",
   "metadata": {},
   "outputs": [],
   "source": [
    "X=np.arange(4, dtype=np.int8).reshape(2,2)"
   ]
  },
  {
   "cell_type": "code",
   "execution_count": 24,
   "id": "1c983095-1921-42d5-9a14-0ac0ddd9941a",
   "metadata": {},
   "outputs": [
    {
     "data": {
      "text/plain": [
       "array([[1, 1],\n",
       "       [1, 1]], dtype=int8)"
      ]
     },
     "execution_count": 24,
     "metadata": {},
     "output_type": "execute_result"
    }
   ],
   "source": [
    "np.ones_like(X)"
   ]
  },
  {
   "cell_type": "markdown",
   "id": "d9f1d504-d2c0-42dd-8d9c-7e40231ac776",
   "metadata": {},
   "source": [
    "### __Given the X numpy matrix, create a new numpy matrix with the same shape and type as X, filled with zeros.__"
   ]
  },
  {
   "cell_type": "code",
   "execution_count": 27,
   "id": "f6e19bfb-90e8-4162-b809-12fe88dc664b",
   "metadata": {},
   "outputs": [],
   "source": [
    "X=np.arange(100, dtype=np.int8).reshape(4,5,5)"
   ]
  },
  {
   "cell_type": "code",
   "execution_count": 28,
   "id": "9b7ebae0-0a1e-4e35-b856-5674963e13ce",
   "metadata": {},
   "outputs": [
    {
     "data": {
      "text/plain": [
       "array([[[0, 0, 0, 0, 0],\n",
       "        [0, 0, 0, 0, 0],\n",
       "        [0, 0, 0, 0, 0],\n",
       "        [0, 0, 0, 0, 0],\n",
       "        [0, 0, 0, 0, 0]],\n",
       "\n",
       "       [[0, 0, 0, 0, 0],\n",
       "        [0, 0, 0, 0, 0],\n",
       "        [0, 0, 0, 0, 0],\n",
       "        [0, 0, 0, 0, 0],\n",
       "        [0, 0, 0, 0, 0]],\n",
       "\n",
       "       [[0, 0, 0, 0, 0],\n",
       "        [0, 0, 0, 0, 0],\n",
       "        [0, 0, 0, 0, 0],\n",
       "        [0, 0, 0, 0, 0],\n",
       "        [0, 0, 0, 0, 0]],\n",
       "\n",
       "       [[0, 0, 0, 0, 0],\n",
       "        [0, 0, 0, 0, 0],\n",
       "        [0, 0, 0, 0, 0],\n",
       "        [0, 0, 0, 0, 0],\n",
       "        [0, 0, 0, 0, 0]]], dtype=int8)"
      ]
     },
     "execution_count": 28,
     "metadata": {},
     "output_type": "execute_result"
    }
   ],
   "source": [
    "np.zeros_like(X)"
   ]
  },
  {
   "cell_type": "markdown",
   "id": "755506df-1f69-4789-aaa4-0f81418b2c87",
   "metadata": {},
   "source": [
    "## __Create a numpy matrix of 4*4 integers, filled with fives.__"
   ]
  },
  {
   "cell_type": "code",
   "execution_count": 29,
   "id": "7d05a707-4796-42eb-b84b-53e9dd27c631",
   "metadata": {},
   "outputs": [
    {
     "data": {
      "text/plain": [
       "array([[5, 5, 5, 5],\n",
       "       [5, 5, 5, 5],\n",
       "       [5, 5, 5, 5],\n",
       "       [5, 5, 5, 5]], dtype=int8)"
      ]
     },
     "execution_count": 29,
     "metadata": {},
     "output_type": "execute_result"
    }
   ],
   "source": [
    "np.ones([4,4], dtype=np.int8)*5"
   ]
  },
  {
   "cell_type": "markdown",
   "id": "2f11b319-7b85-4c51-bd93-32e5f69c398b",
   "metadata": {},
   "source": [
    "### __Given the X numpy matrix, create a new numpy matrix with the same shape and type as X, filled with sevens.__"
   ]
  },
  {
   "cell_type": "code",
   "execution_count": 31,
   "id": "93314aad-96f5-469d-88af-8499d32f3fd1",
   "metadata": {},
   "outputs": [],
   "source": [
    "X=np.arange(49).reshape(7,7)"
   ]
  },
  {
   "cell_type": "code",
   "execution_count": 33,
   "id": "d05f5aaa-92f3-4b87-93fe-0a6e3a6b61e8",
   "metadata": {},
   "outputs": [
    {
     "data": {
      "text/plain": [
       "array([[7, 7, 7, 7, 7, 7, 7],\n",
       "       [7, 7, 7, 7, 7, 7, 7],\n",
       "       [7, 7, 7, 7, 7, 7, 7],\n",
       "       [7, 7, 7, 7, 7, 7, 7],\n",
       "       [7, 7, 7, 7, 7, 7, 7],\n",
       "       [7, 7, 7, 7, 7, 7, 7],\n",
       "       [7, 7, 7, 7, 7, 7, 7]])"
      ]
     },
     "execution_count": 33,
     "metadata": {},
     "output_type": "execute_result"
    }
   ],
   "source": [
    "np.ones_like(X)*7"
   ]
  },
  {
   "cell_type": "markdown",
   "id": "5afbd6b6-1a5d-40bb-859f-7a427564a63d",
   "metadata": {},
   "source": []
  }
 ],
 "metadata": {
  "kernelspec": {
   "display_name": "Python 3 (ipykernel)",
   "language": "python",
   "name": "python3"
  },
  "language_info": {
   "codemirror_mode": {
    "name": "ipython",
    "version": 3
   },
   "file_extension": ".py",
   "mimetype": "text/x-python",
   "name": "python",
   "nbconvert_exporter": "python",
   "pygments_lexer": "ipython3",
   "version": "3.12.0"
  }
 },
 "nbformat": 4,
 "nbformat_minor": 5
}
