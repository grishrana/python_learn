{
 "cells": [
  {
   "cell_type": "code",
   "execution_count": 1,
   "id": "5ed93133-1517-4476-9511-71056f6a2074",
   "metadata": {},
   "outputs": [
    {
     "name": "stdout",
     "output_type": "stream",
     "text": [
      "1.26.2\n"
     ]
    }
   ],
   "source": [
    "import numpy as np\n",
    "print(np.__version__)"
   ]
  },
  {
   "cell_type": "markdown",
   "id": "40fcdad6-e6c4-473a-b989-463ba649c439",
   "metadata": {},
   "source": [
    "## __Create A numpy array filled with 10 zeros__"
   ]
  },
  {
   "cell_type": "code",
   "execution_count": 2,
   "id": "05d90b90-3e22-4d49-b667-9ea39f80e9c6",
   "metadata": {},
   "outputs": [
    {
     "data": {
      "text/plain": [
       "array([0, 0, 0, 0, 0, 0, 0, 0, 0, 0])"
      ]
     },
     "execution_count": 2,
     "metadata": {},
     "output_type": "execute_result"
    }
   ],
   "source": [
    "np.array([0]*10)"
   ]
  },
  {
   "cell_type": "code",
   "execution_count": 4,
   "id": "1de72b04-ac0f-40d3-ab26-cc588851babb",
   "metadata": {},
   "outputs": [
    {
     "data": {
      "text/plain": [
       "array([0., 0., 0., 0., 0., 0., 0., 0., 0., 0.])"
      ]
     },
     "execution_count": 4,
     "metadata": {},
     "output_type": "execute_result"
    }
   ],
   "source": [
    "np.zeros(10)"
   ]
  },
  {
   "cell_type": "markdown",
   "id": "e8ec62bf-0e16-4e49-b977-ad703ef3634b",
   "metadata": {},
   "source": [
    "## __Create a numpy arrays with values ranging from 10to49__"
   ]
  },
  {
   "cell_type": "code",
   "execution_count": 6,
   "id": "d1a875d5-4bc7-48f2-a708-a93b14410d9e",
   "metadata": {},
   "outputs": [
    {
     "data": {
      "text/plain": [
       "array([10, 11, 12, 13, 14, 15, 16, 17, 18, 19, 20, 21, 22, 23, 24, 25, 26,\n",
       "       27, 28, 29, 30, 31, 32, 33, 34, 35, 36, 37, 38, 39, 40, 41, 42, 43,\n",
       "       44, 45, 46, 47, 48, 49])"
      ]
     },
     "execution_count": 6,
     "metadata": {},
     "output_type": "execute_result"
    }
   ],
   "source": [
    "np.arange(10,50)"
   ]
  },
  {
   "cell_type": "markdown",
   "id": "716a6330-db3f-436e-b8fb-73e0b7ae56ed",
   "metadata": {},
   "source": [
    "## __Create a numpy matrix of 2*2 filled with ones__"
   ]
  },
  {
   "cell_type": "code",
   "execution_count": 8,
   "id": "4c1b54b3-4dfa-494d-9d85-a14170ab71a1",
   "metadata": {},
   "outputs": [
    {
     "data": {
      "text/plain": [
       "array([[1, 1],\n",
       "       [1, 1]])"
      ]
     },
     "execution_count": 8,
     "metadata": {},
     "output_type": "execute_result"
    }
   ],
   "source": [
    "np.array([1]*4).reshape(2,2)"
   ]
  },
  {
   "cell_type": "code",
   "execution_count": 11,
   "id": "8a32b9e4-9edc-4133-bf7e-ef5ed0b99b77",
   "metadata": {},
   "outputs": [
    {
     "data": {
      "text/plain": [
       "array([[1, 1],\n",
       "       [1, 1]], dtype=int8)"
      ]
     },
     "execution_count": 11,
     "metadata": {},
     "output_type": "execute_result"
    }
   ],
   "source": [
    "np.ones([2,2], dtype=np.int8)"
   ]
  },
  {
   "cell_type": "markdown",
   "id": "2d6c33cf-595a-480a-a7bc-68155cc24ae8",
   "metadata": {},
   "source": [
    "## __Create a numpy matrix of 3*2 float ones__"
   ]
  },
  {
   "cell_type": "code",
   "execution_count": 17,
   "id": "5bf3d2fb-cfda-4ff2-bc2d-b968f0a4d961",
   "metadata": {},
   "outputs": [],
   "source": [
    "a=np.ones([3,2], dtype=float)"
   ]
  },
  {
   "cell_type": "code",
   "execution_count": 18,
   "id": "b1f14416-93e1-4e43-86b3-58b4c5895755",
   "metadata": {},
   "outputs": [
    {
     "data": {
      "text/plain": [
       "array([[1., 1.],\n",
       "       [1., 1.],\n",
       "       [1., 1.]])"
      ]
     },
     "execution_count": 18,
     "metadata": {},
     "output_type": "execute_result"
    }
   ],
   "source": [
    "a"
   ]
  },
  {
   "cell_type": "markdown",
   "id": "061d1bb5-a967-4e3c-812c-e270685fe203",
   "metadata": {},
   "source": [
    "### __Given the X numpy array, create a new numpy array with the same shape and type as X, filled with ones.__"
   ]
  },
  {
   "cell_type": "code",
   "execution_count": 23,
   "id": "a74fa59a-f7fe-4595-a2a1-af7ef54ccfac",
   "metadata": {},
   "outputs": [],
   "source": [
    "X=np.arange(4, dtype=np.int8).reshape(2,2)"
   ]
  },
  {
   "cell_type": "code",
   "execution_count": 24,
   "id": "1c983095-1921-42d5-9a14-0ac0ddd9941a",
   "metadata": {},
   "outputs": [
    {
     "data": {
      "text/plain": [
       "array([[1, 1],\n",
       "       [1, 1]], dtype=int8)"
      ]
     },
     "execution_count": 24,
     "metadata": {},
     "output_type": "execute_result"
    }
   ],
   "source": [
    "np.ones_like(X)"
   ]
  },
  {
   "cell_type": "markdown",
   "id": "d9f1d504-d2c0-42dd-8d9c-7e40231ac776",
   "metadata": {},
   "source": [
    "### __Given the X numpy matrix, create a new numpy matrix with the same shape and type as X, filled with zeros.__"
   ]
  },
  {
   "cell_type": "code",
   "execution_count": 27,
   "id": "f6e19bfb-90e8-4162-b809-12fe88dc664b",
   "metadata": {},
   "outputs": [],
   "source": [
    "X=np.arange(100, dtype=np.int8).reshape(4,5,5)"
   ]
  },
  {
   "cell_type": "code",
   "execution_count": 28,
   "id": "9b7ebae0-0a1e-4e35-b856-5674963e13ce",
   "metadata": {},
   "outputs": [
    {
     "data": {
      "text/plain": [
       "array([[[0, 0, 0, 0, 0],\n",
       "        [0, 0, 0, 0, 0],\n",
       "        [0, 0, 0, 0, 0],\n",
       "        [0, 0, 0, 0, 0],\n",
       "        [0, 0, 0, 0, 0]],\n",
       "\n",
       "       [[0, 0, 0, 0, 0],\n",
       "        [0, 0, 0, 0, 0],\n",
       "        [0, 0, 0, 0, 0],\n",
       "        [0, 0, 0, 0, 0],\n",
       "        [0, 0, 0, 0, 0]],\n",
       "\n",
       "       [[0, 0, 0, 0, 0],\n",
       "        [0, 0, 0, 0, 0],\n",
       "        [0, 0, 0, 0, 0],\n",
       "        [0, 0, 0, 0, 0],\n",
       "        [0, 0, 0, 0, 0]],\n",
       "\n",
       "       [[0, 0, 0, 0, 0],\n",
       "        [0, 0, 0, 0, 0],\n",
       "        [0, 0, 0, 0, 0],\n",
       "        [0, 0, 0, 0, 0],\n",
       "        [0, 0, 0, 0, 0]]], dtype=int8)"
      ]
     },
     "execution_count": 28,
     "metadata": {},
     "output_type": "execute_result"
    }
   ],
   "source": [
    "np.zeros_like(X)"
   ]
  },
  {
   "cell_type": "markdown",
   "id": "755506df-1f69-4789-aaa4-0f81418b2c87",
   "metadata": {},
   "source": [
    "## __Create a numpy matrix of 4*4 integers, filled with fives.__"
   ]
  },
  {
   "cell_type": "code",
   "execution_count": 29,
   "id": "7d05a707-4796-42eb-b84b-53e9dd27c631",
   "metadata": {},
   "outputs": [
    {
     "data": {
      "text/plain": [
       "array([[5, 5, 5, 5],\n",
       "       [5, 5, 5, 5],\n",
       "       [5, 5, 5, 5],\n",
       "       [5, 5, 5, 5]], dtype=int8)"
      ]
     },
     "execution_count": 29,
     "metadata": {},
     "output_type": "execute_result"
    }
   ],
   "source": [
    "np.ones([4,4], dtype=np.int8)*5"
   ]
  },
  {
   "cell_type": "markdown",
   "id": "2f11b319-7b85-4c51-bd93-32e5f69c398b",
   "metadata": {},
   "source": [
    "### __Given the X numpy matrix, create a new numpy matrix with the same shape and type as X, filled with sevens.__"
   ]
  },
  {
   "cell_type": "code",
   "execution_count": 31,
   "id": "93314aad-96f5-469d-88af-8499d32f3fd1",
   "metadata": {},
   "outputs": [],
   "source": [
    "X=np.arange(49).reshape(7,7)"
   ]
  },
  {
   "cell_type": "code",
   "execution_count": 33,
   "id": "d05f5aaa-92f3-4b87-93fe-0a6e3a6b61e8",
   "metadata": {},
   "outputs": [
    {
     "data": {
      "text/plain": [
       "array([[7, 7, 7, 7, 7, 7, 7],\n",
       "       [7, 7, 7, 7, 7, 7, 7],\n",
       "       [7, 7, 7, 7, 7, 7, 7],\n",
       "       [7, 7, 7, 7, 7, 7, 7],\n",
       "       [7, 7, 7, 7, 7, 7, 7],\n",
       "       [7, 7, 7, 7, 7, 7, 7],\n",
       "       [7, 7, 7, 7, 7, 7, 7]])"
      ]
     },
     "execution_count": 33,
     "metadata": {},
     "output_type": "execute_result"
    }
   ],
   "source": [
    "np.ones_like(X)*7"
   ]
  },
  {
   "cell_type": "markdown",
   "id": "5afbd6b6-1a5d-40bb-859f-7a427564a63d",
   "metadata": {},
   "source": [
    "## __Create a 3*3 identity numpy matrix with ones on the diagonal and zeros elsewhere.__"
   ]
  },
  {
   "cell_type": "code",
   "execution_count": 3,
   "id": "aedd328a-7c32-4e5e-be31-6574b0fe3ccf",
   "metadata": {},
   "outputs": [
    {
     "data": {
      "text/plain": [
       "array([[1, 0, 0],\n",
       "       [0, 1, 0],\n",
       "       [0, 0, 1]], dtype=int8)"
      ]
     },
     "execution_count": 3,
     "metadata": {},
     "output_type": "execute_result"
    }
   ],
   "source": [
    "np.identity(3, dtype=np.int8)"
   ]
  },
  {
   "cell_type": "code",
   "execution_count": 4,
   "id": "725d12fc-5cee-4cb3-b805-f4c0919fd7f9",
   "metadata": {},
   "outputs": [
    {
     "data": {
      "text/plain": [
       "array([[1., 0., 0.],\n",
       "       [0., 1., 0.],\n",
       "       [0., 0., 1.]])"
      ]
     },
     "execution_count": 4,
     "metadata": {},
     "output_type": "execute_result"
    }
   ],
   "source": [
    "np.eye(3)"
   ]
  },
  {
   "cell_type": "markdown",
   "id": "49cb246f-4173-4b48-994d-5ffa92350697",
   "metadata": {},
   "source": [
    "## __Create a numpy array, filled with 3 random integer values between 1 and 10.__"
   ]
  },
  {
   "cell_type": "code",
   "execution_count": 7,
   "id": "eef0a4b2-4296-46c1-ae41-c0a08e95f552",
   "metadata": {},
   "outputs": [
    {
     "data": {
      "text/plain": [
       "array([6, 0, 9])"
      ]
     },
     "execution_count": 7,
     "metadata": {},
     "output_type": "execute_result"
    }
   ],
   "source": [
    "np.random.randint(10, size=3)"
   ]
  },
  {
   "cell_type": "markdown",
   "id": "dbb98808-c13b-424c-9f15-4b4354518e54",
   "metadata": {},
   "source": [
    "## __Create a 3\\*3\\*3 numpy matrix, filled with random float values.__"
   ]
  },
  {
   "cell_type": "code",
   "execution_count": 12,
   "id": "0f02780d-4db1-42fd-af30-c13ee81a4590",
   "metadata": {},
   "outputs": [
    {
     "data": {
      "text/plain": [
       "array([[[ 1.27268444, 45.78763072, 32.66249179],\n",
       "        [36.71050311, 99.23552686, 43.50163591],\n",
       "        [17.71520473, 50.70653551, 23.9883311 ]],\n",
       "\n",
       "       [[92.5279462 , 92.9028968 , 27.25282   ],\n",
       "        [33.70196089, 83.0423185 , 28.92920066],\n",
       "        [62.62330478, 95.32499268,  1.7620164 ]],\n",
       "\n",
       "       [[75.50897631, 89.98545862, 55.83724059],\n",
       "        [20.8562553 ,  7.84070088, 80.10688766],\n",
       "        [94.25725201, 21.26032832, 88.90919774]]])"
      ]
     },
     "execution_count": 12,
     "metadata": {},
     "output_type": "execute_result"
    }
   ],
   "source": [
    "np.random.uniform(100, size=(3,3,3))"
   ]
  },
  {
   "cell_type": "code",
   "execution_count": 10,
   "id": "7fb2d496-ddd9-49b5-b9f2-c47920a253bf",
   "metadata": {
    "scrolled": true
   },
   "outputs": [
    {
     "data": {
      "text/plain": [
       "array([[[-2.59448609,  2.1661206 ,  2.24996551],\n",
       "        [-2.04895487,  0.24543163,  1.22984333],\n",
       "        [ 0.41352028, -0.45584616,  0.58392554]],\n",
       "\n",
       "       [[ 1.11689008, -1.52484373,  1.23405454],\n",
       "        [ 0.67999612,  1.10891143,  1.06079394],\n",
       "        [ 0.70366801,  0.9896751 , -0.23295808]],\n",
       "\n",
       "       [[ 0.04397099, -0.26360133, -0.58902829],\n",
       "        [ 1.53294586, -0.0890642 , -1.4562339 ],\n",
       "        [-0.98721936, -0.38513704, -0.67670173]]])"
      ]
     },
     "execution_count": 10,
     "metadata": {},
     "output_type": "execute_result"
    }
   ],
   "source": [
    "np.random.randn(3,3,3)"
   ]
  },
  {
   "cell_type": "markdown",
   "id": "b2174404-46a0-4060-91df-640e30a40c9c",
   "metadata": {},
   "source": [
    "## __Given the X python list convert it to an Y numpy array__"
   ]
  },
  {
   "cell_type": "code",
   "execution_count": 19,
   "id": "14f745bb-9282-4249-8f94-bdcb357700af",
   "metadata": {},
   "outputs": [],
   "source": [
    "X=[1,2,3,4]"
   ]
  },
  {
   "cell_type": "code",
   "execution_count": 24,
   "id": "146b5c4e-f9a6-48ff-9314-ee770ecea153",
   "metadata": {},
   "outputs": [
    {
     "name": "stdout",
     "output_type": "stream",
     "text": [
      "[1, 2, 3, 4] <class 'list'>\n"
     ]
    }
   ],
   "source": [
    "print(X, type(X))"
   ]
  },
  {
   "cell_type": "code",
   "execution_count": 22,
   "id": "4f4f1e67-ee38-4c5e-bb6a-e3ea7d7dacb3",
   "metadata": {},
   "outputs": [],
   "source": [
    "Y=np.array(X)"
   ]
  },
  {
   "cell_type": "code",
   "execution_count": 25,
   "id": "0aef180c-72e3-4f8a-9c17-5df8b2dfef30",
   "metadata": {},
   "outputs": [
    {
     "name": "stdout",
     "output_type": "stream",
     "text": [
      "[1 2 3 4] <class 'numpy.ndarray'>\n"
     ]
    }
   ],
   "source": [
    "print(Y, type(Y))"
   ]
  },
  {
   "cell_type": "markdown",
   "id": "40f239a4-26a6-4562-849c-b5e1932fbe4f",
   "metadata": {},
   "source": [
    "## __Given the X numpy array, make a copy and store it on Y.__"
   ]
  },
  {
   "cell_type": "code",
   "execution_count": 28,
   "id": "09d4ae68-e9f1-4667-9594-aa5c4cef9d95",
   "metadata": {},
   "outputs": [],
   "source": [
    "x=np.array([5,5,5])"
   ]
  },
  {
   "cell_type": "code",
   "execution_count": 29,
   "id": "1a815b16-c47b-4046-b2e5-9c2f50f24f31",
   "metadata": {},
   "outputs": [],
   "source": [
    "y=np.copy(x)"
   ]
  },
  {
   "cell_type": "code",
   "execution_count": 30,
   "id": "3e6a3514-49c6-465e-a031-a22101ce8953",
   "metadata": {},
   "outputs": [
    {
     "data": {
      "text/plain": [
       "array([5, 5, 5])"
      ]
     },
     "execution_count": 30,
     "metadata": {},
     "output_type": "execute_result"
    }
   ],
   "source": [
    "y"
   ]
  },
  {
   "cell_type": "markdown",
   "id": "25954f05-22a4-4957-8d5f-0080cac5ff52",
   "metadata": {},
   "source": [
    "## __Create a numpy array with numbers from 1 to 10__"
   ]
  },
  {
   "cell_type": "code",
   "execution_count": 5,
   "id": "adbca0d9-9ee9-483f-8237-6f5896e277a5",
   "metadata": {},
   "outputs": [],
   "source": [
    "x=np.arange(1,11)"
   ]
  },
  {
   "cell_type": "code",
   "execution_count": 6,
   "id": "4dbb91bb-3143-47f2-8aa4-f112d16f3f16",
   "metadata": {},
   "outputs": [
    {
     "data": {
      "text/plain": [
       "array([ 1,  2,  3,  4,  5,  6,  7,  8,  9, 10])"
      ]
     },
     "execution_count": 6,
     "metadata": {},
     "output_type": "execute_result"
    }
   ],
   "source": [
    "x"
   ]
  },
  {
   "cell_type": "markdown",
   "id": "f61a778e-cd5d-4162-b9ef-daf500ba3988",
   "metadata": {},
   "source": [
    "## __Create a numpy array with numbers from 1 to 10__"
   ]
  },
  {
   "cell_type": "code",
   "execution_count": 7,
   "id": "e1f1f856-e73e-4670-b2ac-047efe02ad4d",
   "metadata": {},
   "outputs": [],
   "source": [
    "X=np.arange(1,11,2)"
   ]
  },
  {
   "cell_type": "code",
   "execution_count": 8,
   "id": "4437fef4-f907-4c3c-ac88-ce3aa2bdb85d",
   "metadata": {},
   "outputs": [
    {
     "data": {
      "text/plain": [
       "array([1, 3, 5, 7, 9])"
      ]
     },
     "execution_count": 8,
     "metadata": {},
     "output_type": "execute_result"
    }
   ],
   "source": [
    "X"
   ]
  },
  {
   "cell_type": "markdown",
   "id": "6c55351e-ad81-4291-92dd-f37f8935e8a4",
   "metadata": {},
   "source": [
    "## __Create a numpy array with numbers from 1 to 10, in descending order.__"
   ]
  },
  {
   "cell_type": "code",
   "execution_count": 13,
   "id": "5f66301b-db8e-497d-ae80-667093975b3a",
   "metadata": {},
   "outputs": [],
   "source": [
    "X=np.arange(1,11)[::-1]"
   ]
  },
  {
   "cell_type": "code",
   "execution_count": 14,
   "id": "1ff2dbed-a104-4800-a877-a26c306ae25e",
   "metadata": {},
   "outputs": [
    {
     "data": {
      "text/plain": [
       "array([10,  9,  8,  7,  6,  5,  4,  3,  2,  1])"
      ]
     },
     "execution_count": 14,
     "metadata": {},
     "output_type": "execute_result"
    }
   ],
   "source": [
    "X"
   ]
  },
  {
   "cell_type": "markdown",
   "id": "70d05170-a964-4013-b58e-82f46ae812a9",
   "metadata": {},
   "source": [
    "## __Create a 3*3 numpy matrix, filled with values ranging from 0 to 8__"
   ]
  },
  {
   "cell_type": "code",
   "execution_count": 15,
   "id": "9f14bf67-9bbb-4eef-ac70-75376ff7bbde",
   "metadata": {},
   "outputs": [],
   "source": [
    "X=np.arange(0,9).reshape(3,3)"
   ]
  },
  {
   "cell_type": "code",
   "execution_count": 17,
   "id": "17b6fcfe-a691-4ea8-bdde-56cfca589fb4",
   "metadata": {},
   "outputs": [
    {
     "data": {
      "text/plain": [
       "array([[0, 1, 2],\n",
       "       [3, 4, 5],\n",
       "       [6, 7, 8]])"
      ]
     },
     "execution_count": 17,
     "metadata": {},
     "output_type": "execute_result"
    }
   ],
   "source": [
    "X"
   ]
  },
  {
   "cell_type": "markdown",
   "id": "42732c76-5f27-44be-b1fe-a47828584a5f",
   "metadata": {},
   "source": [
    "## __Create a 3*3 numpy matrix, filled with values ranging from 0 to 8__"
   ]
  },
  {
   "cell_type": "code",
   "execution_count": 18,
   "id": "647bd113-fe25-4f9c-a54b-1212ebcd9ea9",
   "metadata": {},
   "outputs": [],
   "source": [
    "Z=np.zeros((10,10))"
   ]
  },
  {
   "cell_type": "code",
   "execution_count": 24,
   "id": "ed6635c3-6e8f-4ec6-b329-34e02a891573",
   "metadata": {},
   "outputs": [
    {
     "name": "stdout",
     "output_type": "stream",
     "text": [
      "800\n"
     ]
    }
   ],
   "source": [
    "print(Z.size*Z.itemsize) # size gives no. of element and itemsize gives memory usage of a single element"
   ]
  },
  {
   "cell_type": "markdown",
   "id": "b2a46255-0081-43c4-be38-03d1e79164cb",
   "metadata": {},
   "source": [
    "### __Array Indexation__"
   ]
  },
  {
   "cell_type": "markdown",
   "id": "7ceca293-608e-4d18-9dcb-2bf0a49d2767",
   "metadata": {},
   "source": [
    "## __Create a 3*3 numpy matrix print the 1st element__"
   ]
  },
  {
   "cell_type": "code",
   "execution_count": 25,
   "id": "e6bac77b-27ca-4fb4-be3f-59df76914204",
   "metadata": {},
   "outputs": [],
   "source": [
    "X=np.arange(0,9).reshape(3,3)"
   ]
  },
  {
   "cell_type": "code",
   "execution_count": 27,
   "id": "646ed269-52b7-4073-b41a-17a959408a78",
   "metadata": {
    "scrolled": true
   },
   "outputs": [
    {
     "data": {
      "text/plain": [
       "0"
      ]
     },
     "execution_count": 27,
     "metadata": {},
     "output_type": "execute_result"
    }
   ],
   "source": [
    "X[0][0]"
   ]
  },
  {
   "cell_type": "markdown",
   "id": "b7189e57-2230-4f16-83bb-aadfe3a6a9d1",
   "metadata": {},
   "source": [
    "## __Given the X numpy array, show it's last element__"
   ]
  },
  {
   "cell_type": "code",
   "execution_count": 28,
   "id": "65621b68-a607-4fd9-8cde-ff7f5ba31bb2",
   "metadata": {},
   "outputs": [],
   "source": [
    "X=np.array([1,2,3,4])"
   ]
  },
  {
   "cell_type": "code",
   "execution_count": 30,
   "id": "21654d72-646d-408e-9197-10638d6c3e0f",
   "metadata": {},
   "outputs": [
    {
     "data": {
      "text/plain": [
       "4"
      ]
     },
     "execution_count": 30,
     "metadata": {},
     "output_type": "execute_result"
    }
   ],
   "source": [
    "X[-1]"
   ]
  },
  {
   "cell_type": "markdown",
   "id": "61f77cad-238a-42f3-aa0e-5fa884b85fba",
   "metadata": {},
   "source": [
    "## __Given the X numpy array, show it's first three elements__"
   ]
  },
  {
   "cell_type": "code",
   "execution_count": 39,
   "id": "3208707c-2270-46dc-abdf-b024c5a68481",
   "metadata": {},
   "outputs": [],
   "source": [
    "X=np.arange(1,5)"
   ]
  },
  {
   "cell_type": "code",
   "execution_count": 40,
   "id": "ba9e4525-a943-4f5f-b8d8-de0d914db654",
   "metadata": {},
   "outputs": [
    {
     "data": {
      "text/plain": [
       "array([1, 2, 3, 4])"
      ]
     },
     "execution_count": 40,
     "metadata": {},
     "output_type": "execute_result"
    }
   ],
   "source": [
    "X"
   ]
  },
  {
   "cell_type": "code",
   "execution_count": 42,
   "id": "12d285dd-8eba-4571-9adc-99512bdc7710",
   "metadata": {},
   "outputs": [
    {
     "data": {
      "text/plain": [
       "array([1, 2, 3])"
      ]
     },
     "execution_count": 42,
     "metadata": {},
     "output_type": "execute_result"
    }
   ],
   "source": [
    "X[0:3]"
   ]
  },
  {
   "cell_type": "markdown",
   "id": "066c5179-8efe-4d7a-8054-ada7f994151c",
   "metadata": {},
   "source": [
    "## __Given the X numpy array, show all middle elements__"
   ]
  },
  {
   "cell_type": "code",
   "execution_count": 43,
   "id": "3c9afeee-a0a9-4495-b08d-57676db7afa9",
   "metadata": {},
   "outputs": [],
   "source": [
    "X=np.arange(1,10)"
   ]
  },
  {
   "cell_type": "code",
   "execution_count": 44,
   "id": "b93eace1-43d7-4aa3-ae8c-88e4bd432e0b",
   "metadata": {},
   "outputs": [
    {
     "data": {
      "text/plain": [
       "array([2, 3, 4, 5, 6, 7, 8])"
      ]
     },
     "execution_count": 44,
     "metadata": {},
     "output_type": "execute_result"
    }
   ],
   "source": [
    "X[1:-1]"
   ]
  },
  {
   "cell_type": "markdown",
   "id": "1e9a0629-5334-4425-97da-2ee367d3b914",
   "metadata": {},
   "source": [
    "## __Given the X numpy array, show the elements in reverse position__"
   ]
  },
  {
   "cell_type": "code",
   "execution_count": 45,
   "id": "6dec77e4-661d-47a7-b486-202ff4870b37",
   "metadata": {},
   "outputs": [],
   "source": [
    "X=np.arange(10)"
   ]
  },
  {
   "cell_type": "code",
   "execution_count": 47,
   "id": "ae3c45f1-bb12-42b0-9040-f863f9a38afb",
   "metadata": {},
   "outputs": [
    {
     "data": {
      "text/plain": [
       "array([9, 8, 7, 6, 5, 4, 3, 2, 1, 0])"
      ]
     },
     "execution_count": 47,
     "metadata": {},
     "output_type": "execute_result"
    }
   ],
   "source": [
    "X[::-1]"
   ]
  },
  {
   "cell_type": "markdown",
   "id": "6de45ce8-a4cc-4b12-85a7-51d4433a6aa9",
   "metadata": {},
   "source": [
    "## __Given the X numpy array, show the elements in an odd position__"
   ]
  },
  {
   "cell_type": "code",
   "execution_count": 48,
   "id": "fdd95f23-4025-4d4f-ae44-5fd35e2c7ee0",
   "metadata": {},
   "outputs": [],
   "source": [
    "X=np.arange(10)"
   ]
  },
  {
   "cell_type": "code",
   "execution_count": 52,
   "id": "5a2a6d29-3346-4775-aee6-ef52c8e73779",
   "metadata": {},
   "outputs": [
    {
     "data": {
      "text/plain": [
       "array([0, 2, 4, 6, 8])"
      ]
     },
     "execution_count": 52,
     "metadata": {},
     "output_type": "execute_result"
    }
   ],
   "source": [
    "X[::2]"
   ]
  },
  {
   "cell_type": "markdown",
   "id": "719efec4-7b63-4fac-ad41-43fe5dcff982",
   "metadata": {},
   "source": [
    "## __Given the X numpy matrix, show the first row elements__"
   ]
  },
  {
   "cell_type": "code",
   "execution_count": 54,
   "id": "0e20bfd1-9329-4618-8954-2ab572f2b443",
   "metadata": {},
   "outputs": [],
   "source": [
    "X=np.arange(15).reshape(5,3)"
   ]
  },
  {
   "cell_type": "code",
   "execution_count": 55,
   "id": "1c75747d-76f7-4f0f-8136-187305d7bbff",
   "metadata": {},
   "outputs": [
    {
     "data": {
      "text/plain": [
       "array([0, 1, 2])"
      ]
     },
     "execution_count": 55,
     "metadata": {},
     "output_type": "execute_result"
    }
   ],
   "source": [
    "X[0]"
   ]
  },
  {
   "cell_type": "markdown",
   "id": "5d0871f2-2606-4ab1-b68b-baa8345a00dc",
   "metadata": {},
   "source": [
    "## __Given the X numpy matrix, show the last row elements__"
   ]
  },
  {
   "cell_type": "code",
   "execution_count": 57,
   "id": "eb2d865e-65a9-4c39-be9d-1d39c10cb5e6",
   "metadata": {},
   "outputs": [],
   "source": [
    "X=np.arange(15).reshape(5,3)"
   ]
  },
  {
   "cell_type": "code",
   "execution_count": 58,
   "id": "bf613543-ebb3-4b04-95b7-07f103340d64",
   "metadata": {},
   "outputs": [
    {
     "data": {
      "text/plain": [
       "array([12, 13, 14])"
      ]
     },
     "execution_count": 58,
     "metadata": {},
     "output_type": "execute_result"
    }
   ],
   "source": [
    "X[-1]"
   ]
  },
  {
   "cell_type": "markdown",
   "id": "7a6b5e7a-c352-4f09-b78b-b4d6a0262836",
   "metadata": {},
   "source": [
    "## __Given the X numpy matrix, show the first element on first row__"
   ]
  },
  {
   "cell_type": "code",
   "execution_count": 59,
   "id": "57d506fd-69a9-45ef-bf0a-a02ca547bf79",
   "metadata": {},
   "outputs": [],
   "source": [
    "X=np.arange(15).reshape(5,3)"
   ]
  },
  {
   "cell_type": "code",
   "execution_count": 60,
   "id": "6b9ea122-aa6b-47c5-97e2-611476c16a10",
   "metadata": {},
   "outputs": [
    {
     "data": {
      "text/plain": [
       "0"
      ]
     },
     "execution_count": 60,
     "metadata": {},
     "output_type": "execute_result"
    }
   ],
   "source": [
    "X[0][0]"
   ]
  },
  {
   "cell_type": "markdown",
   "id": "57194177-0ea1-4f53-9a0b-9e3e01eb0b41",
   "metadata": {},
   "source": [
    "## __Given the X numpy matrix, show the last element on last row__"
   ]
  },
  {
   "cell_type": "code",
   "execution_count": 61,
   "id": "0e60c61e-0515-4d06-8c7e-179b2dd591d5",
   "metadata": {},
   "outputs": [],
   "source": [
    "X=np.arange(15).reshape(5,3)"
   ]
  },
  {
   "cell_type": "code",
   "execution_count": 62,
   "id": "9a875ba8-bf09-47ec-b28b-419878e1e1ad",
   "metadata": {},
   "outputs": [
    {
     "data": {
      "text/plain": [
       "14"
      ]
     },
     "execution_count": 62,
     "metadata": {},
     "output_type": "execute_result"
    }
   ],
   "source": [
    "X[-1][-1]"
   ]
  },
  {
   "cell_type": "markdown",
   "id": "01249c02-04a2-4a69-b3b5-5050f9999f12",
   "metadata": {},
   "source": [
    "## __Given the X numpy matrix, show the middle row elements__"
   ]
  },
  {
   "cell_type": "code",
   "execution_count": 63,
   "id": "84f9c310-56db-47e6-8455-ea27f4225687",
   "metadata": {},
   "outputs": [],
   "source": [
    "X=np.arange(15).reshape(5,3)"
   ]
  },
  {
   "cell_type": "code",
   "execution_count": 68,
   "id": "a966500c-9ce6-4cf6-8e24-8f386c2b6f09",
   "metadata": {},
   "outputs": [
    {
     "data": {
      "text/plain": [
       "array([[ 4],\n",
       "       [ 7],\n",
       "       [10]])"
      ]
     },
     "execution_count": 68,
     "metadata": {},
     "output_type": "execute_result"
    }
   ],
   "source": [
    "X[1:-1,1:-1]"
   ]
  },
  {
   "cell_type": "markdown",
   "id": "f951ce75-e94f-4797-99ad-65f6b1839bb9",
   "metadata": {},
   "source": [
    "## __Given the X numpy matrix, show the first two elements on the first two rows__"
   ]
  },
  {
   "cell_type": "code",
   "execution_count": 69,
   "id": "09e497a8-eb8c-4ed0-93fa-818129283923",
   "metadata": {},
   "outputs": [],
   "source": [
    "X=np.arange(15).reshape(5,3)"
   ]
  },
  {
   "cell_type": "code",
   "execution_count": 71,
   "id": "0febb64d-a8e6-45ed-bd52-e7d9a5a5680c",
   "metadata": {},
   "outputs": [
    {
     "data": {
      "text/plain": [
       "array([[0, 1],\n",
       "       [3, 4]])"
      ]
     },
     "execution_count": 71,
     "metadata": {},
     "output_type": "execute_result"
    }
   ],
   "source": [
    "X[:2,:2]"
   ]
  },
  {
   "cell_type": "markdown",
   "id": "e853daa6-2ca7-4240-be9b-d92d6a349bfd",
   "metadata": {},
   "source": [
    "## __Given the X numpy matrix, show the last two elements on the last two rows__"
   ]
  },
  {
   "cell_type": "code",
   "execution_count": 2,
   "id": "fcc3e621-13d0-45b1-9ea5-ea4e80414192",
   "metadata": {},
   "outputs": [],
   "source": [
    "X = np.array([\n",
    "    [1,   2,  3,  4],\n",
    "    [5,   6,  7,  8],\n",
    "    [9,  10, 11, 12],\n",
    "    [13, 14, 15, 16]\n",
    "])"
   ]
  },
  {
   "cell_type": "code",
   "execution_count": 3,
   "id": "ad507e4f-9360-4bfb-96f7-23417ab86152",
   "metadata": {},
   "outputs": [
    {
     "data": {
      "text/plain": [
       "array([[11, 12],\n",
       "       [15, 16]])"
      ]
     },
     "execution_count": 3,
     "metadata": {},
     "output_type": "execute_result"
    }
   ],
   "source": [
    "X[-2:,-2:]"
   ]
  },
  {
   "cell_type": "markdown",
   "id": "1e4bc7dc-add1-4e82-a427-3d279c924b8e",
   "metadata": {},
   "source": [
    "### __Array Manipulation__"
   ]
  },
  {
   "cell_type": "markdown",
   "id": "56a40b0c-da27-4ab9-9ff6-fc6ad9011589",
   "metadata": {},
   "source": [
    "## __Convert the given integer numpy array to float__"
   ]
  },
  {
   "cell_type": "code",
   "execution_count": 4,
   "id": "07b822c4-3d73-4a0c-a60a-c2fca7562f6f",
   "metadata": {},
   "outputs": [],
   "source": [
    "X = np.array([\n",
    "    [1,   2,  3,  4],\n",
    "    [5,   6,  7,  8],\n",
    "    [9,  10, 11, 12],\n",
    "    [13, 14, 15, 16]\n",
    "])"
   ]
  },
  {
   "cell_type": "code",
   "execution_count": 8,
   "id": "e510c846-b5b1-4380-a1a9-e20f7b3d4624",
   "metadata": {},
   "outputs": [],
   "source": [
    "X=np.array(X,dtype= float)"
   ]
  },
  {
   "cell_type": "code",
   "execution_count": 9,
   "id": "b723bedf-aa91-4f77-aa65-b218d4c787b7",
   "metadata": {},
   "outputs": [
    {
     "data": {
      "text/plain": [
       "array([[ 1.,  2.,  3.,  4.],\n",
       "       [ 5.,  6.,  7.,  8.],\n",
       "       [ 9., 10., 11., 12.],\n",
       "       [13., 14., 15., 16.]])"
      ]
     },
     "execution_count": 9,
     "metadata": {},
     "output_type": "execute_result"
    }
   ],
   "source": [
    "X"
   ]
  },
  {
   "cell_type": "markdown",
   "id": "2929aebe-95fe-48fd-8f4e-93b166a8cf3b",
   "metadata": {},
   "source": [
    "## __Reverse the given numpy array (first element becomes last)__"
   ]
  },
  {
   "cell_type": "code",
   "execution_count": 10,
   "id": "2d9e0f4f-6cc5-4849-9f08-f94b62810c36",
   "metadata": {},
   "outputs": [],
   "source": [
    "X=np.arange(5)"
   ]
  },
  {
   "cell_type": "code",
   "execution_count": 11,
   "id": "bd44d726-c5a2-439b-b1ae-a97f1983f99e",
   "metadata": {},
   "outputs": [
    {
     "data": {
      "text/plain": [
       "array([4, 3, 2, 1, 0])"
      ]
     },
     "execution_count": 11,
     "metadata": {},
     "output_type": "execute_result"
    }
   ],
   "source": [
    "X[::-1]"
   ]
  },
  {
   "cell_type": "markdown",
   "id": "b3ec3995-1870-4b62-8aae-1eea3defc865",
   "metadata": {},
   "source": [
    "## __Order (sort) the given numpy array__"
   ]
  },
  {
   "cell_type": "code",
   "execution_count": 18,
   "id": "98f7da02-b49f-4510-8dd5-f7b631d0f618",
   "metadata": {},
   "outputs": [
    {
     "data": {
      "text/plain": [
       "[-5, -3, 0, 10, 40]"
      ]
     },
     "execution_count": 18,
     "metadata": {},
     "output_type": "execute_result"
    }
   ],
   "source": [
    "X = [0, 10, -5, 40, -3]\n",
    "\n",
    "X.sort()\n",
    "\n",
    "X"
   ]
  },
  {
   "cell_type": "markdown",
   "id": "1a729918-7ff7-40bc-87c1-6fd58af3b18b",
   "metadata": {},
   "source": [
    "## __Given the X numpy array, set the fifth element equal to 1__"
   ]
  },
  {
   "cell_type": "code",
   "execution_count": 19,
   "id": "82c63fd5-32e4-4eab-ae03-aa0fdf1c2ce3",
   "metadata": {},
   "outputs": [],
   "source": [
    "X = [0, 10, -5, 40, -3]"
   ]
  },
  {
   "cell_type": "code",
   "execution_count": 20,
   "id": "9efc463c-1f01-4fd8-927a-9ac12cf871e9",
   "metadata": {},
   "outputs": [],
   "source": [
    "X[4]=1"
   ]
  },
  {
   "cell_type": "code",
   "execution_count": 21,
   "id": "2d5597f2-9ff3-4369-a08e-ff5bce4a820b",
   "metadata": {},
   "outputs": [
    {
     "data": {
      "text/plain": [
       "[0, 10, -5, 40, 1]"
      ]
     },
     "execution_count": 21,
     "metadata": {},
     "output_type": "execute_result"
    }
   ],
   "source": [
    "X"
   ]
  },
  {
   "cell_type": "markdown",
   "id": "4273a280-10a4-4a28-bdc3-6f5e7e4c8fea",
   "metadata": {},
   "source": [
    "## __Given the X numpy array, change the 50 with a 40__"
   ]
  },
  {
   "cell_type": "code",
   "execution_count": 22,
   "id": "b4ee662a-954d-4d64-8341-2f15bfbb8560",
   "metadata": {},
   "outputs": [],
   "source": [
    "X = np.array([10, 20, 30, 50])"
   ]
  },
  {
   "cell_type": "code",
   "execution_count": 23,
   "id": "41e8ee14-5524-41a3-abb9-ea4e2914ee5f",
   "metadata": {},
   "outputs": [],
   "source": [
    "X[3]=40"
   ]
  },
  {
   "cell_type": "code",
   "execution_count": 24,
   "id": "9e828f43-ac18-4553-b168-6d8b6ccf3892",
   "metadata": {},
   "outputs": [
    {
     "data": {
      "text/plain": [
       "array([10, 20, 30, 40])"
      ]
     },
     "execution_count": 24,
     "metadata": {},
     "output_type": "execute_result"
    }
   ],
   "source": [
    "X"
   ]
  },
  {
   "cell_type": "markdown",
   "id": "3f6156e5-9471-4725-9da3-c7d5cae5c62c",
   "metadata": {},
   "source": [
    "## __Given the X numpy matrix, change the last row with all 1__"
   ]
  },
  {
   "cell_type": "code",
   "execution_count": 25,
   "id": "ecc7b79e-bad3-46d7-8232-4188b503083d",
   "metadata": {},
   "outputs": [],
   "source": [
    "X = np.array([\n",
    "    [1,   2,  3,  4],\n",
    "    [5,   6,  7,  8],\n",
    "    [9,  10, 11, 12],\n",
    "    [13, 14, 15, 16]\n",
    "])"
   ]
  },
  {
   "cell_type": "code",
   "execution_count": 26,
   "id": "586be21b-e0a8-4fcf-9300-81f1af3408a1",
   "metadata": {},
   "outputs": [],
   "source": [
    "X[-1]=np.ones(4)"
   ]
  },
  {
   "cell_type": "code",
   "execution_count": 27,
   "id": "c9cc978d-9b13-436a-9265-8176a1d7ba67",
   "metadata": {},
   "outputs": [
    {
     "data": {
      "text/plain": [
       "array([[ 1,  2,  3,  4],\n",
       "       [ 5,  6,  7,  8],\n",
       "       [ 9, 10, 11, 12],\n",
       "       [ 1,  1,  1,  1]])"
      ]
     },
     "execution_count": 27,
     "metadata": {},
     "output_type": "execute_result"
    }
   ],
   "source": [
    "X"
   ]
  },
  {
   "cell_type": "markdown",
   "id": "45f75970-49ae-4483-b7fe-1b87d77f6246",
   "metadata": {},
   "source": [
    "## __Given the X numpy matrix, change the last item on the last row with a 0__"
   ]
  },
  {
   "cell_type": "code",
   "execution_count": 28,
   "id": "6935068d-9484-4901-babc-d594639888a5",
   "metadata": {},
   "outputs": [],
   "source": [
    "X = np.array([\n",
    "    [1,   2,  3,  4],\n",
    "    [5,   6,  7,  8],\n",
    "    [9,  10, 11, 12],\n",
    "    [13, 14, 15, 16]\n",
    "])"
   ]
  },
  {
   "cell_type": "code",
   "execution_count": 31,
   "id": "fe35d0cb-ccb0-4287-b33f-155c0f1e761a",
   "metadata": {},
   "outputs": [],
   "source": [
    "X[-1][-1]=0"
   ]
  },
  {
   "cell_type": "code",
   "execution_count": 32,
   "id": "c0bbe5bc-ff93-4734-a857-62e7470d917c",
   "metadata": {},
   "outputs": [
    {
     "data": {
      "text/plain": [
       "array([[ 1,  2,  3,  4],\n",
       "       [ 5,  6,  7,  8],\n",
       "       [ 9, 10, 11, 12],\n",
       "       [13, 14, 15,  0]])"
      ]
     },
     "execution_count": 32,
     "metadata": {},
     "output_type": "execute_result"
    }
   ],
   "source": [
    "X"
   ]
  },
  {
   "cell_type": "markdown",
   "id": "25c56905-0735-431d-a630-24771f6cc221",
   "metadata": {},
   "source": [
    "## __Given the X numpy matrix, add 5 to every element__"
   ]
  },
  {
   "cell_type": "code",
   "execution_count": 33,
   "id": "715f092b-21db-44c7-bc96-f221dc654f10",
   "metadata": {},
   "outputs": [],
   "source": [
    "X = np.array([\n",
    "    [1,   2,  3,  4],\n",
    "    [5,   6,  7,  8],\n",
    "    [9,  10, 11, 12],\n",
    "    [13, 14, 15, 16]\n",
    "])"
   ]
  },
  {
   "cell_type": "code",
   "execution_count": 36,
   "id": "2bcfcd3f-c909-4554-a158-a760eaafa29c",
   "metadata": {},
   "outputs": [
    {
     "data": {
      "text/plain": [
       "array([[ 6,  7,  8,  9],\n",
       "       [10, 11, 12, 13],\n",
       "       [14, 15, 16, 17],\n",
       "       [18, 19, 20, 21]])"
      ]
     },
     "execution_count": 36,
     "metadata": {},
     "output_type": "execute_result"
    }
   ],
   "source": [
    "X+5"
   ]
  },
  {
   "cell_type": "markdown",
   "id": "43a788d1-a35d-4634-ba1e-2a56a70b2a6b",
   "metadata": {},
   "source": [
    "### __Boolean Arrays__(_also called masks_)"
   ]
  },
  {
   "cell_type": "markdown",
   "id": "48845522-1e5f-4ecf-8684-3ac71ec285a2",
   "metadata": {},
   "source": [
    "## __Given the X numpy array, make a mask showing negative elements__"
   ]
  },
  {
   "cell_type": "code",
   "execution_count": 37,
   "id": "676128c1-aab3-483c-be60-c825dcde5ae4",
   "metadata": {},
   "outputs": [],
   "source": [
    "X = np.array([-1,2,0,-4,5,6,0,0,-9,10])"
   ]
  },
  {
   "cell_type": "code",
   "execution_count": 40,
   "id": "82025484-0cfd-49ac-81e6-3c6ddc66d86a",
   "metadata": {},
   "outputs": [],
   "source": [
    "mask =X<0"
   ]
  },
  {
   "cell_type": "code",
   "execution_count": 41,
   "id": "4891dd43-1eba-46ce-81cd-0f00917e31c1",
   "metadata": {},
   "outputs": [
    {
     "data": {
      "text/plain": [
       "array([ True, False, False,  True, False, False, False, False,  True,\n",
       "       False])"
      ]
     },
     "execution_count": 41,
     "metadata": {},
     "output_type": "execute_result"
    }
   ],
   "source": [
    "mask"
   ]
  },
  {
   "cell_type": "markdown",
   "id": "0fa0e03f-40fd-4b1f-8081-d7a1a692afd4",
   "metadata": {},
   "source": [
    "## __Given the X numpy array, get the negative elements__"
   ]
  },
  {
   "cell_type": "code",
   "execution_count": 42,
   "id": "54cfe323-5bbc-4667-88af-127c4fd466a5",
   "metadata": {},
   "outputs": [],
   "source": [
    "X = np.array([-1,2,0,-4,5,6,0,0,-9,10])"
   ]
  },
  {
   "cell_type": "code",
   "execution_count": 44,
   "id": "e63efb27-0fbd-4cfe-94b3-54d8092f3c35",
   "metadata": {},
   "outputs": [
    {
     "data": {
      "text/plain": [
       "array([-1, -4, -9])"
      ]
     },
     "execution_count": 44,
     "metadata": {},
     "output_type": "execute_result"
    }
   ],
   "source": [
    "X[X<0]"
   ]
  },
  {
   "cell_type": "markdown",
   "id": "7e15c29f-2ff6-47a0-8eba-90eee85578ae",
   "metadata": {},
   "source": [
    "## __Given the X numpy array, get numbers higher than 5__"
   ]
  },
  {
   "cell_type": "code",
   "execution_count": 46,
   "id": "a72368e6-838d-407b-a207-e5ea1adb9b97",
   "metadata": {},
   "outputs": [],
   "source": [
    "X = np.array([-1,2,0,-4,5,6,0,0,-9,10])"
   ]
  },
  {
   "cell_type": "code",
   "execution_count": 47,
   "id": "4247d475-2be1-4df3-a793-99fb893766c3",
   "metadata": {},
   "outputs": [
    {
     "data": {
      "text/plain": [
       "array([ 6, 10])"
      ]
     },
     "execution_count": 47,
     "metadata": {},
     "output_type": "execute_result"
    }
   ],
   "source": [
    "X[X>5]"
   ]
  },
  {
   "cell_type": "markdown",
   "id": "478ad324-f7a0-4cc0-98de-32e367cfe47c",
   "metadata": {},
   "source": [
    "## __Given the X numpy array, get numbers higher than the elements mean__"
   ]
  },
  {
   "cell_type": "code",
   "execution_count": 48,
   "id": "0e68b4df-83e6-4b40-a03d-022aef1bf6e3",
   "metadata": {},
   "outputs": [],
   "source": [
    "X = np.array([-1,2,0,-4,5,6,0,0,-9,10])"
   ]
  },
  {
   "cell_type": "code",
   "execution_count": 50,
   "id": "0df851bf-fc67-47e5-a313-2fbf73a0cbce",
   "metadata": {},
   "outputs": [
    {
     "data": {
      "text/plain": [
       "array([ 2,  5,  6, 10])"
      ]
     },
     "execution_count": 50,
     "metadata": {},
     "output_type": "execute_result"
    }
   ],
   "source": [
    "X[X>X.mean()]"
   ]
  },
  {
   "cell_type": "markdown",
   "id": "56ddafd5-3702-4414-8f98-8c9922771605",
   "metadata": {},
   "source": [
    "## __Given the X numpy array, get numbers equal to 2 or 10__"
   ]
  },
  {
   "cell_type": "code",
   "execution_count": 51,
   "id": "ebc8b214-72b5-4429-a354-45832f21b26d",
   "metadata": {},
   "outputs": [],
   "source": [
    "X = np.array([-1,2,0,-4,5,6,0,0,-9,10])"
   ]
  },
  {
   "cell_type": "code",
   "execution_count": 54,
   "id": "cda90bbb-39b7-4ca8-9aca-7f028b081c6a",
   "metadata": {},
   "outputs": [
    {
     "data": {
      "text/plain": [
       "array([ 2, 10])"
      ]
     },
     "execution_count": 54,
     "metadata": {},
     "output_type": "execute_result"
    }
   ],
   "source": [
    "X[(X==2)|(X==10)]"
   ]
  },
  {
   "cell_type": "markdown",
   "id": "6e41d14f-cb12-441d-a9a8-e4ed5912f984",
   "metadata": {},
   "source": [
    "# __Logic Function__"
   ]
  },
  {
   "cell_type": "markdown",
   "id": "fb23c9c3-2687-48e2-a6e1-dd60b19747f5",
   "metadata": {},
   "source": [
    "## __Given the X numpy array, return True if none of its elements is zero__"
   ]
  },
  {
   "cell_type": "code",
   "execution_count": 55,
   "id": "ffafd464-71f5-4483-adf5-77003bd4512d",
   "metadata": {},
   "outputs": [],
   "source": [
    "X = np.array([-1, 2, 0, -4, 5, 6, 0, 0, -9, 10])"
   ]
  },
  {
   "cell_type": "code",
   "execution_count": 56,
   "id": "898d4da6-3b34-47ae-bd52-142c8fbb1da0",
   "metadata": {},
   "outputs": [
    {
     "data": {
      "text/plain": [
       "False"
      ]
     },
     "execution_count": 56,
     "metadata": {},
     "output_type": "execute_result"
    }
   ],
   "source": [
    "X.all()"
   ]
  },
  {
   "cell_type": "markdown",
   "id": "83144053-774f-4998-a4b4-f56cc4aa5d44",
   "metadata": {},
   "source": [
    "## __Given the X numpy array, return True if any of its elements is zero__"
   ]
  },
  {
   "cell_type": "code",
   "execution_count": 57,
   "id": "d59c298f-2a97-45d0-b963-c75877bd6ce2",
   "metadata": {},
   "outputs": [],
   "source": [
    "X = np.array([-1, 2, 0, -4, 5, 6, 0, 0, -9, 10])"
   ]
  },
  {
   "cell_type": "code",
   "execution_count": 58,
   "id": "b24a82a8-3fde-4e34-9e15-37d90346adb8",
   "metadata": {},
   "outputs": [
    {
     "data": {
      "text/plain": [
       "True"
      ]
     },
     "execution_count": 58,
     "metadata": {},
     "output_type": "execute_result"
    }
   ],
   "source": [
    "X.any()"
   ]
  },
  {
   "cell_type": "markdown",
   "id": "3069aa49-0074-4bf6-83f8-e4741676fa43",
   "metadata": {},
   "source": [
    "### __Summary statistics__"
   ]
  },
  {
   "cell_type": "markdown",
   "id": "a8205df2-4ab3-428e-a1a5-796afb6b20c5",
   "metadata": {},
   "source": [
    "## __Given the X numpy array, show the sum of its elements__"
   ]
  },
  {
   "cell_type": "code",
   "execution_count": 59,
   "id": "17512ec3-3898-43b5-802b-bf9bf2598431",
   "metadata": {},
   "outputs": [],
   "source": [
    "X = np.array([3, 5, 6, 7, 2, 3, 4, 9, 4])"
   ]
  },
  {
   "cell_type": "code",
   "execution_count": 60,
   "id": "92f1dbe0-d40c-457e-b7d5-66e54ba5f418",
   "metadata": {},
   "outputs": [
    {
     "data": {
      "text/plain": [
       "43"
      ]
     },
     "execution_count": 60,
     "metadata": {},
     "output_type": "execute_result"
    }
   ],
   "source": [
    "X.sum()"
   ]
  },
  {
   "cell_type": "markdown",
   "id": "32ab2dd6-a701-44ff-9664-96786e8e96e0",
   "metadata": {},
   "source": [
    "## __Given the X numpy array, show the mean value of its elements__"
   ]
  },
  {
   "cell_type": "code",
   "execution_count": 59,
   "id": "49b0b03f-c4e6-451a-84f5-a3f65eaa42c7",
   "metadata": {},
   "outputs": [],
   "source": [
    "X = np.array([3, 5, 6, 7, 2, 3, 4, 9, 4])"
   ]
  },
  {
   "cell_type": "code",
   "execution_count": 61,
   "id": "906f3826-09fb-4c95-8313-ef5555bd9da8",
   "metadata": {},
   "outputs": [
    {
     "data": {
      "text/plain": [
       "4.777777777777778"
      ]
     },
     "execution_count": 61,
     "metadata": {},
     "output_type": "execute_result"
    }
   ],
   "source": [
    "X.mean()"
   ]
  },
  {
   "cell_type": "markdown",
   "id": "6e4cc924-c911-4858-8d59-02ce489c1463",
   "metadata": {},
   "source": [
    "## __Given the X numpy matrix, show the sum of its columns__"
   ]
  },
  {
   "cell_type": "code",
   "execution_count": 62,
   "id": "0fa87f18-261c-46b9-b935-50fda669ac6d",
   "metadata": {},
   "outputs": [],
   "source": [
    "X = np.array([\n",
    "    [1,   2,  3,  4],\n",
    "    [5,   6,  7,  8],\n",
    "    [9,  10, 11, 12],\n",
    "    [13, 14, 15, 16]\n",
    "])"
   ]
  },
  {
   "cell_type": "code",
   "execution_count": 63,
   "id": "2589a3ee-c6de-42fb-af7c-35744e167299",
   "metadata": {},
   "outputs": [
    {
     "data": {
      "text/plain": [
       "array([28, 32, 36, 40])"
      ]
     },
     "execution_count": 63,
     "metadata": {},
     "output_type": "execute_result"
    }
   ],
   "source": [
    "X.sum(axis=0)"
   ]
  },
  {
   "cell_type": "markdown",
   "id": "750217b4-b14a-43dc-a91c-7b23550802eb",
   "metadata": {},
   "source": [
    "## __Given the X numpy matrix, show the mean value of its rows__"
   ]
  },
  {
   "cell_type": "code",
   "execution_count": 64,
   "id": "4e8e1a48-c2e6-47a9-b26a-7b016b092da9",
   "metadata": {},
   "outputs": [],
   "source": [
    "X = np.array([\n",
    "    [1,   2,  3,  4],\n",
    "    [5,   6,  7,  8],\n",
    "    [9,  10, 11, 12],\n",
    "    [13, 14, 15, 16]\n",
    "])"
   ]
  },
  {
   "cell_type": "code",
   "execution_count": 65,
   "id": "cfd8c770-ad54-49b3-b2e9-8dc5ce6b74b6",
   "metadata": {},
   "outputs": [
    {
     "data": {
      "text/plain": [
       "array([ 2.5,  6.5, 10.5, 14.5])"
      ]
     },
     "execution_count": 65,
     "metadata": {},
     "output_type": "execute_result"
    }
   ],
   "source": [
    "X.mean(axis=1)"
   ]
  },
  {
   "cell_type": "markdown",
   "id": "252acde9-fb8d-4cf9-835a-471453359626",
   "metadata": {},
   "source": [
    "## __Given the X numpy array, show the max value of its elements__"
   ]
  },
  {
   "cell_type": "code",
   "execution_count": 66,
   "id": "58e77e39-efbf-4741-9123-37d4a41ca260",
   "metadata": {},
   "outputs": [],
   "source": [
    "X = np.array([1, 2, 0, 4, 5, 6, 0, 0, 9, 10])"
   ]
  },
  {
   "cell_type": "code",
   "execution_count": 67,
   "id": "5ab3a573-6399-4857-ac48-713ac71e8ec4",
   "metadata": {},
   "outputs": [
    {
     "data": {
      "text/plain": [
       "10"
      ]
     },
     "execution_count": 67,
     "metadata": {},
     "output_type": "execute_result"
    }
   ],
   "source": [
    "X.max()"
   ]
  }
 ],
 "metadata": {
  "kernelspec": {
   "display_name": "Python 3 (ipykernel)",
   "language": "python",
   "name": "python3"
  },
  "language_info": {
   "codemirror_mode": {
    "name": "ipython",
    "version": 3
   },
   "file_extension": ".py",
   "mimetype": "text/x-python",
   "name": "python",
   "nbconvert_exporter": "python",
   "pygments_lexer": "ipython3",
   "version": "3.13.2"
  }
 },
 "nbformat": 4,
 "nbformat_minor": 5
}
