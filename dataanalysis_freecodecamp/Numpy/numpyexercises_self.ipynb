{
 "cells": [
  {
   "cell_type": "code",
   "execution_count": 1,
   "id": "5ed93133-1517-4476-9511-71056f6a2074",
   "metadata": {},
   "outputs": [
    {
     "name": "stdout",
     "output_type": "stream",
     "text": [
      "1.26.2\n"
     ]
    }
   ],
   "source": [
    "import numpy as np\n",
    "print(np.__version__)"
   ]
  },
  {
   "cell_type": "markdown",
   "id": "40fcdad6-e6c4-473a-b989-463ba649c439",
   "metadata": {},
   "source": [
    "## __Create A numpy array filled with 10 zeros__"
   ]
  },
  {
   "cell_type": "code",
   "execution_count": 2,
   "id": "05d90b90-3e22-4d49-b667-9ea39f80e9c6",
   "metadata": {},
   "outputs": [
    {
     "data": {
      "text/plain": [
       "array([0, 0, 0, 0, 0, 0, 0, 0, 0, 0])"
      ]
     },
     "execution_count": 2,
     "metadata": {},
     "output_type": "execute_result"
    }
   ],
   "source": [
    "np.array([0]*10)"
   ]
  },
  {
   "cell_type": "code",
   "execution_count": 4,
   "id": "1de72b04-ac0f-40d3-ab26-cc588851babb",
   "metadata": {},
   "outputs": [
    {
     "data": {
      "text/plain": [
       "array([0., 0., 0., 0., 0., 0., 0., 0., 0., 0.])"
      ]
     },
     "execution_count": 4,
     "metadata": {},
     "output_type": "execute_result"
    }
   ],
   "source": [
    "np.zeros(10)"
   ]
  },
  {
   "cell_type": "markdown",
   "id": "e8ec62bf-0e16-4e49-b977-ad703ef3634b",
   "metadata": {},
   "source": [
    "## __Create a numpy arrays with values ranging from 10to49__"
   ]
  },
  {
   "cell_type": "code",
   "execution_count": 6,
   "id": "d1a875d5-4bc7-48f2-a708-a93b14410d9e",
   "metadata": {},
   "outputs": [
    {
     "data": {
      "text/plain": [
       "array([10, 11, 12, 13, 14, 15, 16, 17, 18, 19, 20, 21, 22, 23, 24, 25, 26,\n",
       "       27, 28, 29, 30, 31, 32, 33, 34, 35, 36, 37, 38, 39, 40, 41, 42, 43,\n",
       "       44, 45, 46, 47, 48, 49])"
      ]
     },
     "execution_count": 6,
     "metadata": {},
     "output_type": "execute_result"
    }
   ],
   "source": [
    "np.arange(10,50)"
   ]
  },
  {
   "cell_type": "markdown",
   "id": "716a6330-db3f-436e-b8fb-73e0b7ae56ed",
   "metadata": {},
   "source": [
    "## __Create a numpy matrix of 2*2 filled with ones__"
   ]
  },
  {
   "cell_type": "code",
   "execution_count": 8,
   "id": "4c1b54b3-4dfa-494d-9d85-a14170ab71a1",
   "metadata": {},
   "outputs": [
    {
     "data": {
      "text/plain": [
       "array([[1, 1],\n",
       "       [1, 1]])"
      ]
     },
     "execution_count": 8,
     "metadata": {},
     "output_type": "execute_result"
    }
   ],
   "source": [
    "np.array([1]*4).reshape(2,2)"
   ]
  },
  {
   "cell_type": "code",
   "execution_count": 11,
   "id": "8a32b9e4-9edc-4133-bf7e-ef5ed0b99b77",
   "metadata": {},
   "outputs": [
    {
     "data": {
      "text/plain": [
       "array([[1, 1],\n",
       "       [1, 1]], dtype=int8)"
      ]
     },
     "execution_count": 11,
     "metadata": {},
     "output_type": "execute_result"
    }
   ],
   "source": [
    "np.ones([2,2], dtype=np.int8)"
   ]
  },
  {
   "cell_type": "markdown",
   "id": "2d6c33cf-595a-480a-a7bc-68155cc24ae8",
   "metadata": {},
   "source": [
    "## __Create a numpy matrix of 3*2 float ones__"
   ]
  },
  {
   "cell_type": "code",
   "execution_count": 17,
   "id": "5bf3d2fb-cfda-4ff2-bc2d-b968f0a4d961",
   "metadata": {},
   "outputs": [],
   "source": [
    "a=np.ones([3,2], dtype=float)"
   ]
  },
  {
   "cell_type": "code",
   "execution_count": 18,
   "id": "b1f14416-93e1-4e43-86b3-58b4c5895755",
   "metadata": {},
   "outputs": [
    {
     "data": {
      "text/plain": [
       "array([[1., 1.],\n",
       "       [1., 1.],\n",
       "       [1., 1.]])"
      ]
     },
     "execution_count": 18,
     "metadata": {},
     "output_type": "execute_result"
    }
   ],
   "source": [
    "a"
   ]
  },
  {
   "cell_type": "markdown",
   "id": "061d1bb5-a967-4e3c-812c-e270685fe203",
   "metadata": {},
   "source": [
    "### __Given the X numpy array, create a new numpy array with the same shape and type as X, filled with ones.__"
   ]
  },
  {
   "cell_type": "code",
   "execution_count": 23,
   "id": "a74fa59a-f7fe-4595-a2a1-af7ef54ccfac",
   "metadata": {},
   "outputs": [],
   "source": [
    "X=np.arange(4, dtype=np.int8).reshape(2,2)"
   ]
  },
  {
   "cell_type": "code",
   "execution_count": 24,
   "id": "1c983095-1921-42d5-9a14-0ac0ddd9941a",
   "metadata": {},
   "outputs": [
    {
     "data": {
      "text/plain": [
       "array([[1, 1],\n",
       "       [1, 1]], dtype=int8)"
      ]
     },
     "execution_count": 24,
     "metadata": {},
     "output_type": "execute_result"
    }
   ],
   "source": [
    "np.ones_like(X)"
   ]
  },
  {
   "cell_type": "markdown",
   "id": "d9f1d504-d2c0-42dd-8d9c-7e40231ac776",
   "metadata": {},
   "source": [
    "### __Given the X numpy matrix, create a new numpy matrix with the same shape and type as X, filled with zeros.__"
   ]
  },
  {
   "cell_type": "code",
   "execution_count": 27,
   "id": "f6e19bfb-90e8-4162-b809-12fe88dc664b",
   "metadata": {},
   "outputs": [],
   "source": [
    "X=np.arange(100, dtype=np.int8).reshape(4,5,5)"
   ]
  },
  {
   "cell_type": "code",
   "execution_count": 28,
   "id": "9b7ebae0-0a1e-4e35-b856-5674963e13ce",
   "metadata": {},
   "outputs": [
    {
     "data": {
      "text/plain": [
       "array([[[0, 0, 0, 0, 0],\n",
       "        [0, 0, 0, 0, 0],\n",
       "        [0, 0, 0, 0, 0],\n",
       "        [0, 0, 0, 0, 0],\n",
       "        [0, 0, 0, 0, 0]],\n",
       "\n",
       "       [[0, 0, 0, 0, 0],\n",
       "        [0, 0, 0, 0, 0],\n",
       "        [0, 0, 0, 0, 0],\n",
       "        [0, 0, 0, 0, 0],\n",
       "        [0, 0, 0, 0, 0]],\n",
       "\n",
       "       [[0, 0, 0, 0, 0],\n",
       "        [0, 0, 0, 0, 0],\n",
       "        [0, 0, 0, 0, 0],\n",
       "        [0, 0, 0, 0, 0],\n",
       "        [0, 0, 0, 0, 0]],\n",
       "\n",
       "       [[0, 0, 0, 0, 0],\n",
       "        [0, 0, 0, 0, 0],\n",
       "        [0, 0, 0, 0, 0],\n",
       "        [0, 0, 0, 0, 0],\n",
       "        [0, 0, 0, 0, 0]]], dtype=int8)"
      ]
     },
     "execution_count": 28,
     "metadata": {},
     "output_type": "execute_result"
    }
   ],
   "source": [
    "np.zeros_like(X)"
   ]
  },
  {
   "cell_type": "markdown",
   "id": "755506df-1f69-4789-aaa4-0f81418b2c87",
   "metadata": {},
   "source": [
    "## __Create a numpy matrix of 4*4 integers, filled with fives.__"
   ]
  },
  {
   "cell_type": "code",
   "execution_count": 29,
   "id": "7d05a707-4796-42eb-b84b-53e9dd27c631",
   "metadata": {},
   "outputs": [
    {
     "data": {
      "text/plain": [
       "array([[5, 5, 5, 5],\n",
       "       [5, 5, 5, 5],\n",
       "       [5, 5, 5, 5],\n",
       "       [5, 5, 5, 5]], dtype=int8)"
      ]
     },
     "execution_count": 29,
     "metadata": {},
     "output_type": "execute_result"
    }
   ],
   "source": [
    "np.ones([4,4], dtype=np.int8)*5"
   ]
  },
  {
   "cell_type": "markdown",
   "id": "2f11b319-7b85-4c51-bd93-32e5f69c398b",
   "metadata": {},
   "source": [
    "### __Given the X numpy matrix, create a new numpy matrix with the same shape and type as X, filled with sevens.__"
   ]
  },
  {
   "cell_type": "code",
   "execution_count": 31,
   "id": "93314aad-96f5-469d-88af-8499d32f3fd1",
   "metadata": {},
   "outputs": [],
   "source": [
    "X=np.arange(49).reshape(7,7)"
   ]
  },
  {
   "cell_type": "code",
   "execution_count": 33,
   "id": "d05f5aaa-92f3-4b87-93fe-0a6e3a6b61e8",
   "metadata": {},
   "outputs": [
    {
     "data": {
      "text/plain": [
       "array([[7, 7, 7, 7, 7, 7, 7],\n",
       "       [7, 7, 7, 7, 7, 7, 7],\n",
       "       [7, 7, 7, 7, 7, 7, 7],\n",
       "       [7, 7, 7, 7, 7, 7, 7],\n",
       "       [7, 7, 7, 7, 7, 7, 7],\n",
       "       [7, 7, 7, 7, 7, 7, 7],\n",
       "       [7, 7, 7, 7, 7, 7, 7]])"
      ]
     },
     "execution_count": 33,
     "metadata": {},
     "output_type": "execute_result"
    }
   ],
   "source": [
    "np.ones_like(X)*7"
   ]
  },
  {
   "cell_type": "markdown",
   "id": "5afbd6b6-1a5d-40bb-859f-7a427564a63d",
   "metadata": {},
   "source": [
    "## __Create a 3*3 identity numpy matrix with ones on the diagonal and zeros elsewhere.__"
   ]
  },
  {
   "cell_type": "code",
   "execution_count": 3,
   "id": "aedd328a-7c32-4e5e-be31-6574b0fe3ccf",
   "metadata": {},
   "outputs": [
    {
     "data": {
      "text/plain": [
       "array([[1, 0, 0],\n",
       "       [0, 1, 0],\n",
       "       [0, 0, 1]], dtype=int8)"
      ]
     },
     "execution_count": 3,
     "metadata": {},
     "output_type": "execute_result"
    }
   ],
   "source": [
    "np.identity(3, dtype=np.int8)"
   ]
  },
  {
   "cell_type": "code",
   "execution_count": 4,
   "id": "725d12fc-5cee-4cb3-b805-f4c0919fd7f9",
   "metadata": {},
   "outputs": [
    {
     "data": {
      "text/plain": [
       "array([[1., 0., 0.],\n",
       "       [0., 1., 0.],\n",
       "       [0., 0., 1.]])"
      ]
     },
     "execution_count": 4,
     "metadata": {},
     "output_type": "execute_result"
    }
   ],
   "source": [
    "np.eye(3)"
   ]
  },
  {
   "cell_type": "markdown",
   "id": "49cb246f-4173-4b48-994d-5ffa92350697",
   "metadata": {},
   "source": [
    "## __Create a numpy array, filled with 3 random integer values between 1 and 10.__"
   ]
  },
  {
   "cell_type": "code",
   "execution_count": 7,
   "id": "eef0a4b2-4296-46c1-ae41-c0a08e95f552",
   "metadata": {},
   "outputs": [
    {
     "data": {
      "text/plain": [
       "array([6, 0, 9])"
      ]
     },
     "execution_count": 7,
     "metadata": {},
     "output_type": "execute_result"
    }
   ],
   "source": [
    "np.random.randint(10, size=3)"
   ]
  },
  {
   "cell_type": "markdown",
   "id": "dbb98808-c13b-424c-9f15-4b4354518e54",
   "metadata": {},
   "source": [
    "## __Create a 3\\*3\\*3 numpy matrix, filled with random float values.__"
   ]
  },
  {
   "cell_type": "code",
   "execution_count": 12,
   "id": "0f02780d-4db1-42fd-af30-c13ee81a4590",
   "metadata": {},
   "outputs": [
    {
     "data": {
      "text/plain": [
       "array([[[ 1.27268444, 45.78763072, 32.66249179],\n",
       "        [36.71050311, 99.23552686, 43.50163591],\n",
       "        [17.71520473, 50.70653551, 23.9883311 ]],\n",
       "\n",
       "       [[92.5279462 , 92.9028968 , 27.25282   ],\n",
       "        [33.70196089, 83.0423185 , 28.92920066],\n",
       "        [62.62330478, 95.32499268,  1.7620164 ]],\n",
       "\n",
       "       [[75.50897631, 89.98545862, 55.83724059],\n",
       "        [20.8562553 ,  7.84070088, 80.10688766],\n",
       "        [94.25725201, 21.26032832, 88.90919774]]])"
      ]
     },
     "execution_count": 12,
     "metadata": {},
     "output_type": "execute_result"
    }
   ],
   "source": [
    "np.random.uniform(100, size=(3,3,3))"
   ]
  },
  {
   "cell_type": "code",
   "execution_count": 10,
   "id": "7fb2d496-ddd9-49b5-b9f2-c47920a253bf",
   "metadata": {
    "scrolled": true
   },
   "outputs": [
    {
     "data": {
      "text/plain": [
       "array([[[-2.59448609,  2.1661206 ,  2.24996551],\n",
       "        [-2.04895487,  0.24543163,  1.22984333],\n",
       "        [ 0.41352028, -0.45584616,  0.58392554]],\n",
       "\n",
       "       [[ 1.11689008, -1.52484373,  1.23405454],\n",
       "        [ 0.67999612,  1.10891143,  1.06079394],\n",
       "        [ 0.70366801,  0.9896751 , -0.23295808]],\n",
       "\n",
       "       [[ 0.04397099, -0.26360133, -0.58902829],\n",
       "        [ 1.53294586, -0.0890642 , -1.4562339 ],\n",
       "        [-0.98721936, -0.38513704, -0.67670173]]])"
      ]
     },
     "execution_count": 10,
     "metadata": {},
     "output_type": "execute_result"
    }
   ],
   "source": [
    "np.random.randn(3,3,3)"
   ]
  },
  {
   "cell_type": "markdown",
   "id": "b2174404-46a0-4060-91df-640e30a40c9c",
   "metadata": {},
   "source": [
    "## __Given the X python list convert it to an Y numpy array__"
   ]
  },
  {
   "cell_type": "code",
   "execution_count": 19,
   "id": "14f745bb-9282-4249-8f94-bdcb357700af",
   "metadata": {},
   "outputs": [],
   "source": [
    "X=[1,2,3,4]"
   ]
  },
  {
   "cell_type": "code",
   "execution_count": 24,
   "id": "146b5c4e-f9a6-48ff-9314-ee770ecea153",
   "metadata": {},
   "outputs": [
    {
     "name": "stdout",
     "output_type": "stream",
     "text": [
      "[1, 2, 3, 4] <class 'list'>\n"
     ]
    }
   ],
   "source": [
    "print(X, type(X))"
   ]
  },
  {
   "cell_type": "code",
   "execution_count": 22,
   "id": "4f4f1e67-ee38-4c5e-bb6a-e3ea7d7dacb3",
   "metadata": {},
   "outputs": [],
   "source": [
    "Y=np.array(X)"
   ]
  },
  {
   "cell_type": "code",
   "execution_count": 25,
   "id": "0aef180c-72e3-4f8a-9c17-5df8b2dfef30",
   "metadata": {},
   "outputs": [
    {
     "name": "stdout",
     "output_type": "stream",
     "text": [
      "[1 2 3 4] <class 'numpy.ndarray'>\n"
     ]
    }
   ],
   "source": [
    "print(Y, type(Y))"
   ]
  },
  {
   "cell_type": "markdown",
   "id": "40f239a4-26a6-4562-849c-b5e1932fbe4f",
   "metadata": {},
   "source": [
    "## __Given the X numpy array, make a copy and store it on Y.__"
   ]
  },
  {
   "cell_type": "code",
   "execution_count": 28,
   "id": "09d4ae68-e9f1-4667-9594-aa5c4cef9d95",
   "metadata": {},
   "outputs": [],
   "source": [
    "x=np.array([5,5,5])"
   ]
  },
  {
   "cell_type": "code",
   "execution_count": 29,
   "id": "1a815b16-c47b-4046-b2e5-9c2f50f24f31",
   "metadata": {},
   "outputs": [],
   "source": [
    "y=np.copy(x)"
   ]
  },
  {
   "cell_type": "code",
   "execution_count": 30,
   "id": "3e6a3514-49c6-465e-a031-a22101ce8953",
   "metadata": {},
   "outputs": [
    {
     "data": {
      "text/plain": [
       "array([5, 5, 5])"
      ]
     },
     "execution_count": 30,
     "metadata": {},
     "output_type": "execute_result"
    }
   ],
   "source": [
    "y"
   ]
  }
 ],
 "metadata": {
  "kernelspec": {
   "display_name": "Python 3 (ipykernel)",
   "language": "python",
   "name": "python3"
  },
  "language_info": {
   "codemirror_mode": {
    "name": "ipython",
    "version": 3
   },
   "file_extension": ".py",
   "mimetype": "text/x-python",
   "name": "python",
   "nbconvert_exporter": "python",
   "pygments_lexer": "ipython3",
   "version": "3.12.0"
  }
 },
 "nbformat": 4,
 "nbformat_minor": 5
}
