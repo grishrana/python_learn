{
 "cells": [
  {
   "cell_type": "markdown",
   "id": "e40bd38a-ee46-42f9-b062-658706a431ce",
   "metadata": {},
   "source": [
    "# __Pandas Series Excercises__ "
   ]
  },
  {
   "cell_type": "code",
   "execution_count": 1,
   "id": "cc8bd601-b515-4195-b782-4b5252cdc36e",
   "metadata": {},
   "outputs": [
    {
     "name": "stdout",
     "output_type": "stream",
     "text": [
      "2.1.4\n"
     ]
    }
   ],
   "source": [
    "import numpy as np\n",
    "import pandas as pd \n",
    "print(pd.__version__)"
   ]
  },
  {
   "cell_type": "markdown",
   "id": "3cf97a4e-19e3-4880-b583-c16d58060d94",
   "metadata": {},
   "source": [
    "## __Create an empty pandas series__"
   ]
  },
  {
   "cell_type": "code",
   "execution_count": 5,
   "id": "883919ce-559d-43f5-a4f7-28f791a01546",
   "metadata": {},
   "outputs": [
    {
     "data": {
      "text/plain": [
       "Series([], dtype: object)"
      ]
     },
     "execution_count": 5,
     "metadata": {},
     "output_type": "execute_result"
    }
   ],
   "source": [
    "pd.Series([])"
   ]
  },
  {
   "cell_type": "markdown",
   "id": "5c360aac-5380-4126-9b63-1deb1596158f",
   "metadata": {},
   "source": [
    "## __Given the X python list convert it to an Y pandas Series__"
   ]
  },
  {
   "cell_type": "code",
   "execution_count": 1,
   "id": "2e374a19-47f2-4a26-98b7-3ac02784ee39",
   "metadata": {},
   "outputs": [],
   "source": [
    "x=[1,2,3,4,5]"
   ]
  },
  {
   "cell_type": "code",
   "execution_count": 7,
   "id": "f64c1015-c570-4687-b672-a07532a2a743",
   "metadata": {},
   "outputs": [
    {
     "name": "stdout",
     "output_type": "stream",
     "text": [
      "<class 'list'>\n"
     ]
    }
   ],
   "source": [
    "print(type(x))"
   ]
  },
  {
   "cell_type": "code",
   "execution_count": 4,
   "id": "337a1cf0-8918-4587-8c0b-696c1fe59b7f",
   "metadata": {},
   "outputs": [],
   "source": [
    "y=pd.Series(x)"
   ]
  },
  {
   "cell_type": "code",
   "execution_count": 6,
   "id": "d1435a29-f28f-44d3-9bdb-f59b0d34f59c",
   "metadata": {},
   "outputs": [
    {
     "name": "stdout",
     "output_type": "stream",
     "text": [
      "0    1\n",
      "1    2\n",
      "2    3\n",
      "3    4\n",
      "4    5\n",
      "dtype: int64 <class 'pandas.core.series.Series'>\n"
     ]
    }
   ],
   "source": [
    "print(y,type(y))"
   ]
  },
  {
   "cell_type": "markdown",
   "id": "2746dddd-19a9-452c-859d-2fb7c0834e43",
   "metadata": {},
   "source": [
    "## __Given the X pandas Series, name it 'My letters')__"
   ]
  },
  {
   "cell_type": "code",
   "execution_count": 13,
   "id": "f67663af-bbdd-41ee-a0e9-3240d17dccaf",
   "metadata": {},
   "outputs": [],
   "source": [
    "X=pd.Series(['G','r','i','s','h'])"
   ]
  },
  {
   "cell_type": "code",
   "execution_count": 14,
   "id": "c1fc8f69-8c16-4472-a47e-039d1d562162",
   "metadata": {},
   "outputs": [],
   "source": [
    "X.name=\"My letters\""
   ]
  },
  {
   "cell_type": "code",
   "execution_count": 15,
   "id": "d6790dc5-2a69-42f8-93f6-446a45af221e",
   "metadata": {},
   "outputs": [
    {
     "data": {
      "text/plain": [
       "0    G\n",
       "1    r\n",
       "2    i\n",
       "3    s\n",
       "4    h\n",
       "Name: My letters, dtype: object"
      ]
     },
     "execution_count": 15,
     "metadata": {},
     "output_type": "execute_result"
    }
   ],
   "source": [
    "X"
   ]
  },
  {
   "cell_type": "markdown",
   "id": "309826e4-ba61-44ac-8ddd-02b4a40d31f4",
   "metadata": {},
   "source": [
    "## __Given the X pandas Series, show its values__"
   ]
  },
  {
   "cell_type": "code",
   "execution_count": 16,
   "id": "435efec7-d20c-43b5-97b1-57e383634e86",
   "metadata": {},
   "outputs": [],
   "source": [
    "X=pd.Series([1,2,3,4])"
   ]
  },
  {
   "cell_type": "code",
   "execution_count": 17,
   "id": "26ce7bc2-bcd6-485c-bb9e-c1c5df4b5141",
   "metadata": {},
   "outputs": [
    {
     "data": {
      "text/plain": [
       "array([1, 2, 3, 4], dtype=int64)"
      ]
     },
     "execution_count": 17,
     "metadata": {},
     "output_type": "execute_result"
    }
   ],
   "source": [
    "X.values"
   ]
  },
  {
   "cell_type": "markdown",
   "id": "7e306028-d12e-4646-888e-1770f1e38f17",
   "metadata": {},
   "source": [
    "# __Series indexation__"
   ]
  },
  {
   "cell_type": "markdown",
   "id": "814e704f-1d92-47aa-a47a-6dc5fddd1411",
   "metadata": {},
   "source": [
    "## __Assign index names to the given X pandas Series__"
   ]
  },
  {
   "cell_type": "code",
   "execution_count": 18,
   "id": "210a8c49-2b2b-47cb-b6ca-4c0a7aa3925a",
   "metadata": {},
   "outputs": [],
   "source": [
    "X=pd.Series([100,89,33,56])"
   ]
  },
  {
   "cell_type": "code",
   "execution_count": 19,
   "id": "972066a9-574f-4e51-88f7-c3d32f1ed84e",
   "metadata": {},
   "outputs": [],
   "source": [
    "X.index=(['Eng. Drawing','Calculus','Digital Logic','Discrete Struct'])"
   ]
  },
  {
   "cell_type": "code",
   "execution_count": 20,
   "id": "e9ed5d6f-5b2c-42ab-a8ba-6d14110f26d4",
   "metadata": {},
   "outputs": [],
   "source": [
    "X.name=\"Obt. Marks\""
   ]
  },
  {
   "cell_type": "code",
   "execution_count": 21,
   "id": "75a7844f-e4c8-4610-af5b-4359c0fe0f29",
   "metadata": {},
   "outputs": [
    {
     "data": {
      "text/plain": [
       "Eng. Drawing       100\n",
       "Calculus            89\n",
       "Digital Logic       33\n",
       "Discrete Struct     56\n",
       "Name: Obt. Marks, dtype: int64"
      ]
     },
     "execution_count": 21,
     "metadata": {},
     "output_type": "execute_result"
    }
   ],
   "source": [
    "X"
   ]
  },
  {
   "cell_type": "markdown",
   "id": "d2023168-88c7-4e17-8467-51dd8da92988",
   "metadata": {},
   "source": [
    "## __Given the X pandas Series, show its first element__"
   ]
  },
  {
   "cell_type": "code",
   "execution_count": 22,
   "id": "9a00e3f6-eb40-494d-9a9a-93cf5192c98f",
   "metadata": {},
   "outputs": [],
   "source": [
    "X=pd.Series([100,89,33,56], index=['Eng. Drawing','Calculus','Digital Logic','Discrete Struct'])"
   ]
  },
  {
   "cell_type": "code",
   "execution_count": 23,
   "id": "c02588f5-7150-46e6-9e90-9fdb71dcb64f",
   "metadata": {},
   "outputs": [
    {
     "data": {
      "text/plain": [
       "100"
      ]
     },
     "execution_count": 23,
     "metadata": {},
     "output_type": "execute_result"
    }
   ],
   "source": [
    "X['Eng. Drawing']"
   ]
  },
  {
   "cell_type": "code",
   "execution_count": 25,
   "id": "11370c5d-20f7-4bf2-b555-053e0d40210a",
   "metadata": {},
   "outputs": [
    {
     "data": {
      "text/plain": [
       "100"
      ]
     },
     "execution_count": 25,
     "metadata": {},
     "output_type": "execute_result"
    }
   ],
   "source": [
    "X.iloc[0]"
   ]
  },
  {
   "cell_type": "markdown",
   "id": "3c8721c5-1292-48ff-82d4-86a7b268aefd",
   "metadata": {},
   "source": [
    "## __Given the X pandas Series, show its last element__"
   ]
  },
  {
   "cell_type": "code",
   "execution_count": 26,
   "id": "721bf075-9a86-4446-9ef1-6b8153821050",
   "metadata": {},
   "outputs": [],
   "source": [
    "X=pd.Series([100,89,33,56], index=['Eng. Drawing','Calculus','Digital Logic','Discrete Struct'])"
   ]
  },
  {
   "cell_type": "code",
   "execution_count": 28,
   "id": "83c20c78-009a-48c2-9425-2194f6faf733",
   "metadata": {},
   "outputs": [
    {
     "data": {
      "text/plain": [
       "56"
      ]
     },
     "execution_count": 28,
     "metadata": {},
     "output_type": "execute_result"
    }
   ],
   "source": [
    "X['Discrete Struct']"
   ]
  },
  {
   "cell_type": "code",
   "execution_count": 29,
   "id": "e57a2140-6571-47a9-83a1-a33803566144",
   "metadata": {},
   "outputs": [
    {
     "data": {
      "text/plain": [
       "56"
      ]
     },
     "execution_count": 29,
     "metadata": {},
     "output_type": "execute_result"
    }
   ],
   "source": [
    "X.iloc[-1]"
   ]
  },
  {
   "cell_type": "markdown",
   "id": "4a31e250-5472-40d9-b936-9e3799ac882a",
   "metadata": {},
   "source": [
    "## __Given the X pandas Series, show all middle elements__"
   ]
  },
  {
   "cell_type": "code",
   "execution_count": 31,
   "id": "3e7fffc2-cee3-4a09-bea1-b192dae98943",
   "metadata": {},
   "outputs": [],
   "source": [
    "X=pd.Series([100,89,99,33,56], index=['Eng. Drawing','Calculus','PST','Digital Logic','Discrete Struct'])"
   ]
  },
  {
   "cell_type": "code",
   "execution_count": 32,
   "id": "4a505e51-59d7-4582-9f2e-5a1e51d352f9",
   "metadata": {},
   "outputs": [
    {
     "data": {
      "text/plain": [
       "Calculus         89\n",
       "PST              99\n",
       "Digital Logic    33\n",
       "dtype: int64"
      ]
     },
     "execution_count": 32,
     "metadata": {},
     "output_type": "execute_result"
    }
   ],
   "source": [
    "X['Calculus':'Digital Logic']"
   ]
  },
  {
   "cell_type": "code",
   "execution_count": 33,
   "id": "a4a33aa3-43c0-4be5-97bb-c8fae18da413",
   "metadata": {},
   "outputs": [
    {
     "data": {
      "text/plain": [
       "Calculus         89\n",
       "PST              99\n",
       "Digital Logic    33\n",
       "dtype: int64"
      ]
     },
     "execution_count": 33,
     "metadata": {},
     "output_type": "execute_result"
    }
   ],
   "source": [
    "X.iloc[1:-1]"
   ]
  },
  {
   "cell_type": "markdown",
   "id": "08753e90-7ed3-4c38-a0de-ab52e46cc27c",
   "metadata": {},
   "source": [
    "## __Given the X pandas Series, show the elements in reverse position__"
   ]
  },
  {
   "cell_type": "code",
   "execution_count": 31,
   "id": "8a97420d-f9b7-4491-b464-feaea7411762",
   "metadata": {},
   "outputs": [],
   "source": [
    "X=pd.Series([100,89,99,33,56], index=['Eng. Drawing','Calculus','PST','Digital Logic','Discrete Struct'])"
   ]
  },
  {
   "cell_type": "code",
   "execution_count": 34,
   "id": "0d92c82a-0166-41cc-9bea-f4f86b2d4bdc",
   "metadata": {},
   "outputs": [
    {
     "data": {
      "text/plain": [
       "Discrete Struct     56\n",
       "Digital Logic       33\n",
       "PST                 99\n",
       "Calculus            89\n",
       "Eng. Drawing       100\n",
       "dtype: int64"
      ]
     },
     "execution_count": 34,
     "metadata": {},
     "output_type": "execute_result"
    }
   ],
   "source": [
    "X.iloc[::-1]"
   ]
  },
  {
   "cell_type": "markdown",
   "id": "6f47eed3-409e-400d-be1f-909d8cd698ea",
   "metadata": {},
   "source": [
    "## __Given the X pandas Series, show the first and last elements__"
   ]
  },
  {
   "cell_type": "code",
   "execution_count": 31,
   "id": "9954cae2-5d7a-46f4-89df-b26562f0de2a",
   "metadata": {},
   "outputs": [],
   "source": [
    "X=pd.Series([100,89,99,33,56], index=['Eng. Drawing','Calculus','PST','Digital Logic','Discrete Struct'])"
   ]
  },
  {
   "cell_type": "code",
   "execution_count": 39,
   "id": "3bd2d0b2-9c45-4fda-924d-773647843c21",
   "metadata": {},
   "outputs": [
    {
     "data": {
      "text/plain": [
       "Eng. Drawing       100\n",
       "Discrete Struct     56\n",
       "dtype: int64"
      ]
     },
     "execution_count": 39,
     "metadata": {},
     "output_type": "execute_result"
    }
   ],
   "source": [
    "X[['Eng. Drawing','Discrete Struct']]"
   ]
  },
  {
   "cell_type": "code",
   "execution_count": 40,
   "id": "24260f3f-617f-401a-bbc3-d8fc1618b90e",
   "metadata": {},
   "outputs": [
    {
     "data": {
      "text/plain": [
       "Eng. Drawing       100\n",
       "Discrete Struct     56\n",
       "dtype: int64"
      ]
     },
     "execution_count": 40,
     "metadata": {},
     "output_type": "execute_result"
    }
   ],
   "source": [
    "X.iloc[[0,-1]]"
   ]
  },
  {
   "cell_type": "markdown",
   "id": "2914fb40-9090-4183-9bb4-a19d2c4a579c",
   "metadata": {},
   "source": [
    "## __Series manipulation__"
   ]
  },
  {
   "cell_type": "markdown",
   "id": "04390745-4644-4a49-ada7-01b6972693f7",
   "metadata": {},
   "source": [
    "## __Convert the given integer pandas Series to float__"
   ]
  },
  {
   "cell_type": "code",
   "execution_count": 5,
   "id": "0fd312eb-a170-4662-9a61-45b4838cf471",
   "metadata": {},
   "outputs": [],
   "source": [
    "X = pd.Series([1,2,3,4,5],\n",
    "              index=['first','second','third','forth','fifth'])"
   ]
  },
  {
   "cell_type": "code",
   "execution_count": 8,
   "id": "180fd388-20d3-45b2-9f45-f5547da0ac57",
   "metadata": {},
   "outputs": [
    {
     "data": {
      "text/plain": [
       "first     1.0\n",
       "second    2.0\n",
       "third     3.0\n",
       "forth     4.0\n",
       "fifth     5.0\n",
       "dtype: float64"
      ]
     },
     "execution_count": 8,
     "metadata": {},
     "output_type": "execute_result"
    }
   ],
   "source": [
    "pd.Series(X, dtype=np.float64)"
   ]
  },
  {
   "cell_type": "markdown",
   "id": "4d28d17f-53bf-4b71-ba02-2d2e4ad88cdd",
   "metadata": {},
   "source": [
    "## __Reverse the given pandas Series (first element becomes last)__"
   ]
  },
  {
   "cell_type": "code",
   "execution_count": 5,
   "id": "af0d1891-bfc1-4940-8c58-173d5f651a43",
   "metadata": {},
   "outputs": [],
   "source": [
    "X = pd.Series([1,2,3,4,5],\n",
    "              index=['first','second','third','forth','fifth'])"
   ]
  },
  {
   "cell_type": "code",
   "execution_count": 9,
   "id": "98592c42-de8d-4457-8f90-9ab7c14d5b53",
   "metadata": {},
   "outputs": [
    {
     "data": {
      "text/plain": [
       "fifth     5\n",
       "forth     4\n",
       "third     3\n",
       "second    2\n",
       "first     1\n",
       "dtype: int64"
      ]
     },
     "execution_count": 9,
     "metadata": {},
     "output_type": "execute_result"
    }
   ],
   "source": [
    "X[::-1]"
   ]
  },
  {
   "cell_type": "markdown",
   "id": "23511126-7524-41f8-aa1d-4aa3bcfa2b9a",
   "metadata": {},
   "source": [
    "## __Order (sort) the given pandas Series__"
   ]
  },
  {
   "cell_type": "code",
   "execution_count": 11,
   "id": "cd496c4d-98d0-448f-a78f-a2ce65de80c3",
   "metadata": {},
   "outputs": [],
   "source": [
    "X = pd.Series([4,2,5,1,3],\n",
    "              index=['forth','second','fifth','first','third'])"
   ]
  },
  {
   "cell_type": "code",
   "execution_count": 28,
   "id": "eb4dbe22-fe48-4f3f-9b04-f45e9a2ff1c6",
   "metadata": {},
   "outputs": [
    {
     "data": {
      "text/plain": [
       "first     1\n",
       "second    2\n",
       "third     3\n",
       "forth     4\n",
       "fifth     5\n",
       "dtype: int64"
      ]
     },
     "execution_count": 28,
     "metadata": {},
     "output_type": "execute_result"
    }
   ],
   "source": [
    "X.sort_values()"
   ]
  },
  {
   "cell_type": "markdown",
   "id": "3480d668-88d2-4a60-9780-267d55cf3019",
   "metadata": {},
   "source": [
    "## __Given the X pandas Series, set the fifth element equal to 10__"
   ]
  },
  {
   "cell_type": "code",
   "execution_count": 29,
   "id": "0857a122-e5fb-4f77-bbb6-0bf621153ecc",
   "metadata": {},
   "outputs": [],
   "source": [
    "X = pd.Series([1,2,3,4,5],\n",
    "              index=['A','B','C','D','E'])"
   ]
  },
  {
   "cell_type": "code",
   "execution_count": 31,
   "id": "022b96b4-8d02-4363-99a3-508f08fc306c",
   "metadata": {},
   "outputs": [],
   "source": [
    "X['E']=10"
   ]
  },
  {
   "cell_type": "code",
   "execution_count": 32,
   "id": "668b9e84-6756-45f0-a53c-7387cfca06e1",
   "metadata": {},
   "outputs": [
    {
     "data": {
      "text/plain": [
       "A     1\n",
       "B     2\n",
       "C     3\n",
       "D     4\n",
       "E    10\n",
       "dtype: int64"
      ]
     },
     "execution_count": 32,
     "metadata": {},
     "output_type": "execute_result"
    }
   ],
   "source": [
    "X"
   ]
  },
  {
   "cell_type": "markdown",
   "id": "6687516d-2ed8-46c1-9ee6-aa4ceae283be",
   "metadata": {},
   "source": [
    "## __Given the X pandas Series, change all the middle elements to 0__"
   ]
  },
  {
   "cell_type": "code",
   "execution_count": 33,
   "id": "dc4bc18d-c020-4a3d-8358-e18c46ee2b6f",
   "metadata": {},
   "outputs": [],
   "source": [
    "X = pd.Series([1,2,3,4,5],\n",
    "              index=['A','B','C','D','E'])"
   ]
  },
  {
   "cell_type": "code",
   "execution_count": 34,
   "id": "42a49ad5-f724-4140-95fa-23b39f5ed4dd",
   "metadata": {},
   "outputs": [],
   "source": [
    "X[1:-1]=0"
   ]
  },
  {
   "cell_type": "code",
   "execution_count": 35,
   "id": "0fd0b46b-d458-4f7c-9516-ca8c747aba00",
   "metadata": {},
   "outputs": [
    {
     "data": {
      "text/plain": [
       "A    1\n",
       "B    0\n",
       "C    0\n",
       "D    0\n",
       "E    5\n",
       "dtype: int64"
      ]
     },
     "execution_count": 35,
     "metadata": {},
     "output_type": "execute_result"
    }
   ],
   "source": [
    "X"
   ]
  },
  {
   "cell_type": "markdown",
   "id": "feed5176-e5b4-4b3e-a57d-87463a5db228",
   "metadata": {},
   "source": [
    "## __Given the X pandas Series, add 5 to every element__"
   ]
  },
  {
   "cell_type": "code",
   "execution_count": 36,
   "id": "68d8d805-d040-4e4e-afb7-644959e8e405",
   "metadata": {},
   "outputs": [],
   "source": [
    "X = pd.Series([1,2,3,4,5],\n",
    "              index=['A','B','C','D','E'])"
   ]
  },
  {
   "cell_type": "code",
   "execution_count": 37,
   "id": "5ebd7016-a9f1-47f7-9d56-f102ba4d11af",
   "metadata": {},
   "outputs": [
    {
     "data": {
      "text/plain": [
       "A     6\n",
       "B     7\n",
       "C     8\n",
       "D     9\n",
       "E    10\n",
       "dtype: int64"
      ]
     },
     "execution_count": 37,
     "metadata": {},
     "output_type": "execute_result"
    }
   ],
   "source": [
    "X+5"
   ]
  },
  {
   "cell_type": "markdown",
   "id": "b7645e44-ebe2-4391-b0ee-ef7feb5eccc3",
   "metadata": {},
   "source": [
    "### __Series boolean arrays (also called masks)__"
   ]
  },
  {
   "cell_type": "markdown",
   "id": "1ee99d37-f64a-4ab5-9964-7c9e6c426b67",
   "metadata": {},
   "source": [
    "## __Given the X pandas Series, make a mask showing negative elements__"
   ]
  },
  {
   "cell_type": "code",
   "execution_count": 38,
   "id": "e2a606b6-079f-4eb9-af7e-19d65bc168c6",
   "metadata": {},
   "outputs": [],
   "source": [
    "X = pd.Series([-1,2,0,-4,5,6,0,0,-9,10])"
   ]
  },
  {
   "cell_type": "code",
   "execution_count": 39,
   "id": "f2154529-9211-44cd-b7f5-53eb99cf2b4a",
   "metadata": {},
   "outputs": [],
   "source": [
    "mask=X<0"
   ]
  },
  {
   "cell_type": "code",
   "execution_count": 40,
   "id": "b89d1b1d-7acd-4645-bb92-933c8f233814",
   "metadata": {},
   "outputs": [
    {
     "data": {
      "text/plain": [
       "0   -1\n",
       "3   -4\n",
       "8   -9\n",
       "dtype: int64"
      ]
     },
     "execution_count": 40,
     "metadata": {},
     "output_type": "execute_result"
    }
   ],
   "source": [
    "X[mask]"
   ]
  },
  {
   "cell_type": "markdown",
   "id": "34536f2e-9ec0-44cb-8200-f7d0b9bd1c1c",
   "metadata": {},
   "source": [
    "## __Given the X pandas Series, get numbers higher than 5__"
   ]
  },
  {
   "cell_type": "code",
   "execution_count": 41,
   "id": "0af3478f-77b7-43d7-929a-b3240fbb0a2d",
   "metadata": {},
   "outputs": [],
   "source": [
    "X = pd.Series([-1,2,0,-4,5,6,0,0,-9,10])"
   ]
  },
  {
   "cell_type": "code",
   "execution_count": 42,
   "id": "aa1e54a8-86e9-4c6b-a015-bbc3b57dc57e",
   "metadata": {},
   "outputs": [
    {
     "data": {
      "text/plain": [
       "5     6\n",
       "9    10\n",
       "dtype: int64"
      ]
     },
     "execution_count": 42,
     "metadata": {},
     "output_type": "execute_result"
    }
   ],
   "source": [
    "X[X>5]"
   ]
  },
  {
   "cell_type": "markdown",
   "id": "bde819fa-449d-40e7-a86a-6a00c65001e5",
   "metadata": {},
   "source": [
    "## __Given the X pandas Series, get numbers higher than the elements mean__"
   ]
  },
  {
   "cell_type": "code",
   "execution_count": 43,
   "id": "c5de4527-5ea0-4aef-ad62-106989fe2fd0",
   "metadata": {},
   "outputs": [],
   "source": [
    "X = pd.Series([-1,2,0,-4,5,6,0,0,-9,10])"
   ]
  },
  {
   "cell_type": "code",
   "execution_count": 44,
   "id": "02258a85-7688-4ac1-91ef-26eeb07afae9",
   "metadata": {},
   "outputs": [],
   "source": [
    "mask=X>X.mean()"
   ]
  },
  {
   "cell_type": "code",
   "execution_count": 45,
   "id": "872e80e5-7891-480e-98e2-fcf05cb4dbab",
   "metadata": {},
   "outputs": [
    {
     "data": {
      "text/plain": [
       "1     2\n",
       "4     5\n",
       "5     6\n",
       "9    10\n",
       "dtype: int64"
      ]
     },
     "execution_count": 45,
     "metadata": {},
     "output_type": "execute_result"
    }
   ],
   "source": [
    "X[mask]"
   ]
  },
  {
   "cell_type": "markdown",
   "id": "edb4c300-9fc4-410c-8c1f-d606bfbc4546",
   "metadata": {},
   "source": [
    "## __Given the X pandas Series, get numbers equal to 2 or 10__"
   ]
  },
  {
   "cell_type": "code",
   "execution_count": 46,
   "id": "5245eddb-6b36-4d68-93fe-7e7a0abc498d",
   "metadata": {},
   "outputs": [],
   "source": [
    "X = pd.Series([-1,2,0,-4,5,6,0,0,-9,10])"
   ]
  },
  {
   "cell_type": "code",
   "execution_count": 49,
   "id": "9e8d253e-7394-4176-9abd-716ed62977d9",
   "metadata": {},
   "outputs": [],
   "source": [
    "mask=(X==2)|(X==10)"
   ]
  },
  {
   "cell_type": "code",
   "execution_count": 50,
   "id": "44a6e927-aad0-4e9f-9a1c-a7ef1cadc66f",
   "metadata": {},
   "outputs": [
    {
     "data": {
      "text/plain": [
       "1     2\n",
       "9    10\n",
       "dtype: int64"
      ]
     },
     "execution_count": 50,
     "metadata": {},
     "output_type": "execute_result"
    }
   ],
   "source": [
    "X[mask]"
   ]
  },
  {
   "cell_type": "markdown",
   "id": "19519bb5-ecf7-4e72-81e0-2c49c4de9e40",
   "metadata": {},
   "source": [
    "### __Logic Function__"
   ]
  },
  {
   "cell_type": "markdown",
   "id": "1b268f01-1a34-4133-bc55-bf230955dfef",
   "metadata": {},
   "source": [
    "## __Given the X pandas Series, return True if none of its elements is zero__"
   ]
  },
  {
   "cell_type": "code",
   "execution_count": 51,
   "id": "0554dc4a-c22d-4077-b768-f58c34fed974",
   "metadata": {},
   "outputs": [],
   "source": [
    "X = pd.Series([-1,2,0,-4,5,6,0,0,-9,10])"
   ]
  },
  {
   "cell_type": "code",
   "execution_count": 53,
   "id": "9c50ade8-0236-43df-89d2-68542824b395",
   "metadata": {},
   "outputs": [
    {
     "data": {
      "text/plain": [
       "False"
      ]
     },
     "execution_count": 53,
     "metadata": {},
     "output_type": "execute_result"
    }
   ],
   "source": [
    "X.all()"
   ]
  },
  {
   "cell_type": "markdown",
   "id": "cd371d55-35c7-4db8-9f29-dd64bfd8ca00",
   "metadata": {},
   "source": [
    "## __Given the X pandas Series, return True if any of its elements is zero__"
   ]
  },
  {
   "cell_type": "code",
   "execution_count": 54,
   "id": "2fb9e2e8-fe37-4882-963c-86dd2e678869",
   "metadata": {},
   "outputs": [],
   "source": [
    "X = pd.Series([-1,2,0,-4,5,6,0,0,-9,10])"
   ]
  },
  {
   "cell_type": "code",
   "execution_count": 55,
   "id": "12b46623-6a15-4689-8253-b1c347b98408",
   "metadata": {},
   "outputs": [
    {
     "data": {
      "text/plain": [
       "True"
      ]
     },
     "execution_count": 55,
     "metadata": {},
     "output_type": "execute_result"
    }
   ],
   "source": [
    "X.any()"
   ]
  },
  {
   "cell_type": "markdown",
   "id": "e5b538e2-71e9-4165-922b-2a399438c895",
   "metadata": {},
   "source": [
    "### __Summary Statistics__"
   ]
  },
  {
   "cell_type": "markdown",
   "id": "76a41657-555e-4389-bae8-fac4ea63718f",
   "metadata": {},
   "source": [
    "## __Given the X pandas Series, show the sum of its elements__"
   ]
  },
  {
   "cell_type": "code",
   "execution_count": 56,
   "id": "8125b757-8d5d-42fc-b93f-5517c32bd85d",
   "metadata": {},
   "outputs": [],
   "source": [
    "X = pd.Series([-1,2,0,-4,5,6,0,0,-9,10])"
   ]
  },
  {
   "cell_type": "code",
   "execution_count": 57,
   "id": "d3cbf299-9889-4927-859f-95f2571d328f",
   "metadata": {},
   "outputs": [
    {
     "data": {
      "text/plain": [
       "9"
      ]
     },
     "execution_count": 57,
     "metadata": {},
     "output_type": "execute_result"
    }
   ],
   "source": [
    "X.sum()"
   ]
  },
  {
   "cell_type": "markdown",
   "id": "e861d123-604c-4c63-882b-ab1bf184a81e",
   "metadata": {},
   "source": [
    "## __Given the X pandas Series, show the mean value of its elements__"
   ]
  },
  {
   "cell_type": "code",
   "execution_count": 59,
   "id": "e36be8b9-a24a-45b3-878f-60cd2c477242",
   "metadata": {},
   "outputs": [],
   "source": [
    "X = pd.Series([-1,2,0,-4,5,6,0,0,-9,10])"
   ]
  },
  {
   "cell_type": "code",
   "execution_count": 60,
   "id": "d9358403-e6f9-4680-b272-63f2a08ea096",
   "metadata": {},
   "outputs": [
    {
     "data": {
      "text/plain": [
       "0.9"
      ]
     },
     "execution_count": 60,
     "metadata": {},
     "output_type": "execute_result"
    }
   ],
   "source": [
    "X.mean()"
   ]
  },
  {
   "cell_type": "markdown",
   "id": "646f6160-2b4f-4aa3-a12e-946c23e9a1f9",
   "metadata": {},
   "source": [
    "## __Given the X pandas Series, show the max value of its elements__"
   ]
  },
  {
   "cell_type": "code",
   "execution_count": 61,
   "id": "6b7dfd6b-3218-4637-9115-eff889a26fe0",
   "metadata": {},
   "outputs": [],
   "source": [
    "X = pd.Series([-1,2,0,-4,5,6,0,0,-9,10])"
   ]
  },
  {
   "cell_type": "code",
   "execution_count": 62,
   "id": "be243fa2-6c0e-43d6-b83f-4b9f297b6f57",
   "metadata": {},
   "outputs": [
    {
     "data": {
      "text/plain": [
       "10"
      ]
     },
     "execution_count": 62,
     "metadata": {},
     "output_type": "execute_result"
    }
   ],
   "source": [
    "X.max()"
   ]
  }
 ],
 "metadata": {
  "kernelspec": {
   "display_name": "Python 3 (ipykernel)",
   "language": "python",
   "name": "python3"
  },
  "language_info": {
   "codemirror_mode": {
    "name": "ipython",
    "version": 3
   },
   "file_extension": ".py",
   "mimetype": "text/x-python",
   "name": "python",
   "nbconvert_exporter": "python",
   "pygments_lexer": "ipython3",
   "version": "3.12.0"
  }
 },
 "nbformat": 4,
 "nbformat_minor": 5
}
