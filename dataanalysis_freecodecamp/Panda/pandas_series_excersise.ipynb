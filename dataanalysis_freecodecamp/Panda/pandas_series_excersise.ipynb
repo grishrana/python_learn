{
 "cells": [
  {
   "cell_type": "markdown",
   "id": "e40bd38a-ee46-42f9-b062-658706a431ce",
   "metadata": {},
   "source": [
    "# __Pandas Series Excercises__ "
   ]
  },
  {
   "cell_type": "code",
   "execution_count": 2,
   "id": "cc8bd601-b515-4195-b782-4b5252cdc36e",
   "metadata": {},
   "outputs": [
    {
     "name": "stdout",
     "output_type": "stream",
     "text": [
      "2.1.4\n"
     ]
    }
   ],
   "source": [
    "import numpy as np\n",
    "import pandas as pd \n",
    "print(pd.__version__)"
   ]
  },
  {
   "cell_type": "markdown",
   "id": "3cf97a4e-19e3-4880-b583-c16d58060d94",
   "metadata": {},
   "source": [
    "## __Create an empty pandas series__"
   ]
  },
  {
   "cell_type": "code",
   "execution_count": 5,
   "id": "883919ce-559d-43f5-a4f7-28f791a01546",
   "metadata": {},
   "outputs": [
    {
     "data": {
      "text/plain": [
       "Series([], dtype: object)"
      ]
     },
     "execution_count": 5,
     "metadata": {},
     "output_type": "execute_result"
    }
   ],
   "source": [
    "pd.Series([])"
   ]
  },
  {
   "cell_type": "markdown",
   "id": "5c360aac-5380-4126-9b63-1deb1596158f",
   "metadata": {},
   "source": [
    "## __Given the X python list convert it to an Y pandas Series__"
   ]
  },
  {
   "cell_type": "code",
   "execution_count": 1,
   "id": "2e374a19-47f2-4a26-98b7-3ac02784ee39",
   "metadata": {},
   "outputs": [],
   "source": [
    "x=[1,2,3,4,5]"
   ]
  },
  {
   "cell_type": "code",
   "execution_count": 7,
   "id": "f64c1015-c570-4687-b672-a07532a2a743",
   "metadata": {},
   "outputs": [
    {
     "name": "stdout",
     "output_type": "stream",
     "text": [
      "<class 'list'>\n"
     ]
    }
   ],
   "source": [
    "print(type(x))"
   ]
  },
  {
   "cell_type": "code",
   "execution_count": 4,
   "id": "337a1cf0-8918-4587-8c0b-696c1fe59b7f",
   "metadata": {},
   "outputs": [],
   "source": [
    "y=pd.Series(x)"
   ]
  },
  {
   "cell_type": "code",
   "execution_count": 6,
   "id": "d1435a29-f28f-44d3-9bdb-f59b0d34f59c",
   "metadata": {},
   "outputs": [
    {
     "name": "stdout",
     "output_type": "stream",
     "text": [
      "0    1\n",
      "1    2\n",
      "2    3\n",
      "3    4\n",
      "4    5\n",
      "dtype: int64 <class 'pandas.core.series.Series'>\n"
     ]
    }
   ],
   "source": [
    "print(y,type(y))"
   ]
  },
  {
   "cell_type": "markdown",
   "id": "2746dddd-19a9-452c-859d-2fb7c0834e43",
   "metadata": {},
   "source": [
    "## __Given the X pandas Series, name it 'My letters')__"
   ]
  },
  {
   "cell_type": "code",
   "execution_count": 13,
   "id": "f67663af-bbdd-41ee-a0e9-3240d17dccaf",
   "metadata": {},
   "outputs": [],
   "source": [
    "X=pd.Series(['G','r','i','s','h'])"
   ]
  },
  {
   "cell_type": "code",
   "execution_count": 14,
   "id": "c1fc8f69-8c16-4472-a47e-039d1d562162",
   "metadata": {},
   "outputs": [],
   "source": [
    "X.name=\"My letters\""
   ]
  },
  {
   "cell_type": "code",
   "execution_count": 15,
   "id": "d6790dc5-2a69-42f8-93f6-446a45af221e",
   "metadata": {},
   "outputs": [
    {
     "data": {
      "text/plain": [
       "0    G\n",
       "1    r\n",
       "2    i\n",
       "3    s\n",
       "4    h\n",
       "Name: My letters, dtype: object"
      ]
     },
     "execution_count": 15,
     "metadata": {},
     "output_type": "execute_result"
    }
   ],
   "source": [
    "X"
   ]
  },
  {
   "cell_type": "markdown",
   "id": "309826e4-ba61-44ac-8ddd-02b4a40d31f4",
   "metadata": {},
   "source": [
    "## __Given the X pandas Series, show its values__"
   ]
  },
  {
   "cell_type": "code",
   "execution_count": 16,
   "id": "435efec7-d20c-43b5-97b1-57e383634e86",
   "metadata": {},
   "outputs": [],
   "source": [
    "X=pd.Series([1,2,3,4])"
   ]
  },
  {
   "cell_type": "code",
   "execution_count": 17,
   "id": "26ce7bc2-bcd6-485c-bb9e-c1c5df4b5141",
   "metadata": {},
   "outputs": [
    {
     "data": {
      "text/plain": [
       "array([1, 2, 3, 4], dtype=int64)"
      ]
     },
     "execution_count": 17,
     "metadata": {},
     "output_type": "execute_result"
    }
   ],
   "source": [
    "X.values"
   ]
  },
  {
   "cell_type": "markdown",
   "id": "7e306028-d12e-4646-888e-1770f1e38f17",
   "metadata": {},
   "source": [
    "# __Series indexation__"
   ]
  },
  {
   "cell_type": "markdown",
   "id": "814e704f-1d92-47aa-a47a-6dc5fddd1411",
   "metadata": {},
   "source": [
    "## __Assign index names to the given X pandas Series__"
   ]
  },
  {
   "cell_type": "code",
   "execution_count": 18,
   "id": "210a8c49-2b2b-47cb-b6ca-4c0a7aa3925a",
   "metadata": {},
   "outputs": [],
   "source": [
    "X=pd.Series([100,89,33,56])"
   ]
  },
  {
   "cell_type": "code",
   "execution_count": 19,
   "id": "972066a9-574f-4e51-88f7-c3d32f1ed84e",
   "metadata": {},
   "outputs": [],
   "source": [
    "X.index=(['Eng. Drawing','Calculus','Digital Logic','Discrete Struct'])"
   ]
  },
  {
   "cell_type": "code",
   "execution_count": 20,
   "id": "e9ed5d6f-5b2c-42ab-a8ba-6d14110f26d4",
   "metadata": {},
   "outputs": [],
   "source": [
    "X.name=\"Obt. Marks\""
   ]
  },
  {
   "cell_type": "code",
   "execution_count": 21,
   "id": "75a7844f-e4c8-4610-af5b-4359c0fe0f29",
   "metadata": {},
   "outputs": [
    {
     "data": {
      "text/plain": [
       "Eng. Drawing       100\n",
       "Calculus            89\n",
       "Digital Logic       33\n",
       "Discrete Struct     56\n",
       "Name: Obt. Marks, dtype: int64"
      ]
     },
     "execution_count": 21,
     "metadata": {},
     "output_type": "execute_result"
    }
   ],
   "source": [
    "X"
   ]
  },
  {
   "cell_type": "markdown",
   "id": "d2023168-88c7-4e17-8467-51dd8da92988",
   "metadata": {},
   "source": [
    "## __Given the X pandas Series, show its first element__"
   ]
  },
  {
   "cell_type": "code",
   "execution_count": 22,
   "id": "9a00e3f6-eb40-494d-9a9a-93cf5192c98f",
   "metadata": {},
   "outputs": [],
   "source": [
    "X=pd.Series([100,89,33,56], index=['Eng. Drawing','Calculus','Digital Logic','Discrete Struct'])"
   ]
  },
  {
   "cell_type": "code",
   "execution_count": 23,
   "id": "c02588f5-7150-46e6-9e90-9fdb71dcb64f",
   "metadata": {},
   "outputs": [
    {
     "data": {
      "text/plain": [
       "100"
      ]
     },
     "execution_count": 23,
     "metadata": {},
     "output_type": "execute_result"
    }
   ],
   "source": [
    "X['Eng. Drawing']"
   ]
  },
  {
   "cell_type": "code",
   "execution_count": 25,
   "id": "11370c5d-20f7-4bf2-b555-053e0d40210a",
   "metadata": {},
   "outputs": [
    {
     "data": {
      "text/plain": [
       "100"
      ]
     },
     "execution_count": 25,
     "metadata": {},
     "output_type": "execute_result"
    }
   ],
   "source": [
    "X.iloc[0]"
   ]
  },
  {
   "cell_type": "markdown",
   "id": "3c8721c5-1292-48ff-82d4-86a7b268aefd",
   "metadata": {},
   "source": [
    "## __Given the X pandas Series, show its last element__"
   ]
  },
  {
   "cell_type": "code",
   "execution_count": 26,
   "id": "721bf075-9a86-4446-9ef1-6b8153821050",
   "metadata": {},
   "outputs": [],
   "source": [
    "X=pd.Series([100,89,33,56], index=['Eng. Drawing','Calculus','Digital Logic','Discrete Struct'])"
   ]
  },
  {
   "cell_type": "code",
   "execution_count": 28,
   "id": "83c20c78-009a-48c2-9425-2194f6faf733",
   "metadata": {},
   "outputs": [
    {
     "data": {
      "text/plain": [
       "56"
      ]
     },
     "execution_count": 28,
     "metadata": {},
     "output_type": "execute_result"
    }
   ],
   "source": [
    "X['Discrete Struct']"
   ]
  },
  {
   "cell_type": "code",
   "execution_count": 29,
   "id": "e57a2140-6571-47a9-83a1-a33803566144",
   "metadata": {},
   "outputs": [
    {
     "data": {
      "text/plain": [
       "56"
      ]
     },
     "execution_count": 29,
     "metadata": {},
     "output_type": "execute_result"
    }
   ],
   "source": [
    "X.iloc[-1]"
   ]
  },
  {
   "cell_type": "markdown",
   "id": "4a31e250-5472-40d9-b936-9e3799ac882a",
   "metadata": {},
   "source": [
    "## __Given the X pandas Series, show all middle elements__"
   ]
  },
  {
   "cell_type": "code",
   "execution_count": 31,
   "id": "3e7fffc2-cee3-4a09-bea1-b192dae98943",
   "metadata": {},
   "outputs": [],
   "source": [
    "X=pd.Series([100,89,99,33,56], index=['Eng. Drawing','Calculus','PST','Digital Logic','Discrete Struct'])"
   ]
  },
  {
   "cell_type": "code",
   "execution_count": 32,
   "id": "4a505e51-59d7-4582-9f2e-5a1e51d352f9",
   "metadata": {},
   "outputs": [
    {
     "data": {
      "text/plain": [
       "Calculus         89\n",
       "PST              99\n",
       "Digital Logic    33\n",
       "dtype: int64"
      ]
     },
     "execution_count": 32,
     "metadata": {},
     "output_type": "execute_result"
    }
   ],
   "source": [
    "X['Calculus':'Digital Logic']"
   ]
  },
  {
   "cell_type": "code",
   "execution_count": 33,
   "id": "a4a33aa3-43c0-4be5-97bb-c8fae18da413",
   "metadata": {},
   "outputs": [
    {
     "data": {
      "text/plain": [
       "Calculus         89\n",
       "PST              99\n",
       "Digital Logic    33\n",
       "dtype: int64"
      ]
     },
     "execution_count": 33,
     "metadata": {},
     "output_type": "execute_result"
    }
   ],
   "source": [
    "X.iloc[1:-1]"
   ]
  },
  {
   "cell_type": "markdown",
   "id": "08753e90-7ed3-4c38-a0de-ab52e46cc27c",
   "metadata": {},
   "source": [
    "## __Given the X pandas Series, show the elements in reverse position__"
   ]
  },
  {
   "cell_type": "code",
   "execution_count": 31,
   "id": "8a97420d-f9b7-4491-b464-feaea7411762",
   "metadata": {},
   "outputs": [],
   "source": [
    "X=pd.Series([100,89,99,33,56], index=['Eng. Drawing','Calculus','PST','Digital Logic','Discrete Struct'])"
   ]
  },
  {
   "cell_type": "code",
   "execution_count": 34,
   "id": "0d92c82a-0166-41cc-9bea-f4f86b2d4bdc",
   "metadata": {},
   "outputs": [
    {
     "data": {
      "text/plain": [
       "Discrete Struct     56\n",
       "Digital Logic       33\n",
       "PST                 99\n",
       "Calculus            89\n",
       "Eng. Drawing       100\n",
       "dtype: int64"
      ]
     },
     "execution_count": 34,
     "metadata": {},
     "output_type": "execute_result"
    }
   ],
   "source": [
    "X.iloc[::-1]"
   ]
  },
  {
   "cell_type": "markdown",
   "id": "6f47eed3-409e-400d-be1f-909d8cd698ea",
   "metadata": {},
   "source": [
    "## __Given the X pandas Series, show the first and last elements__"
   ]
  },
  {
   "cell_type": "code",
   "execution_count": 31,
   "id": "9954cae2-5d7a-46f4-89df-b26562f0de2a",
   "metadata": {},
   "outputs": [],
   "source": [
    "X=pd.Series([100,89,99,33,56], index=['Eng. Drawing','Calculus','PST','Digital Logic','Discrete Struct'])"
   ]
  },
  {
   "cell_type": "code",
   "execution_count": 39,
   "id": "3bd2d0b2-9c45-4fda-924d-773647843c21",
   "metadata": {},
   "outputs": [
    {
     "data": {
      "text/plain": [
       "Eng. Drawing       100\n",
       "Discrete Struct     56\n",
       "dtype: int64"
      ]
     },
     "execution_count": 39,
     "metadata": {},
     "output_type": "execute_result"
    }
   ],
   "source": [
    "X[['Eng. Drawing','Discrete Struct']]"
   ]
  },
  {
   "cell_type": "code",
   "execution_count": 40,
   "id": "24260f3f-617f-401a-bbc3-d8fc1618b90e",
   "metadata": {},
   "outputs": [
    {
     "data": {
      "text/plain": [
       "Eng. Drawing       100\n",
       "Discrete Struct     56\n",
       "dtype: int64"
      ]
     },
     "execution_count": 40,
     "metadata": {},
     "output_type": "execute_result"
    }
   ],
   "source": [
    "X.iloc[[0,-1]]"
   ]
  },
  {
   "cell_type": "markdown",
   "id": "2914fb40-9090-4183-9bb4-a19d2c4a579c",
   "metadata": {},
   "source": [
    "## __Series manipulation__"
   ]
  },
  {
   "cell_type": "code",
   "execution_count": null,
   "id": "d67da5b4-e24b-4329-ba8d-86dbe07a4961",
   "metadata": {},
   "outputs": [],
   "source": []
  }
 ],
 "metadata": {
  "kernelspec": {
   "display_name": "Python 3 (ipykernel)",
   "language": "python",
   "name": "python3"
  },
  "language_info": {
   "codemirror_mode": {
    "name": "ipython",
    "version": 3
   },
   "file_extension": ".py",
   "mimetype": "text/x-python",
   "name": "python",
   "nbconvert_exporter": "python",
   "pygments_lexer": "ipython3",
   "version": "3.12.0"
  }
 },
 "nbformat": 4,
 "nbformat_minor": 5
}
