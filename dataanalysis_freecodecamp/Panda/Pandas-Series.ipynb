{
 "cells": [
  {
   "cell_type": "code",
   "execution_count": 1,
   "id": "a6c6f2de-d9ec-4a3b-9463-3e05b6cf6bec",
   "metadata": {},
   "outputs": [],
   "source": [
    "import pandas as pd\n",
    "import numpy as np"
   ]
  },
  {
   "cell_type": "markdown",
   "id": "77695242-056a-4ae4-89c1-939f1c36540c",
   "metadata": {},
   "source": [
    "## __Pandas Series__\n",
    "We'll start analayzing _The Group of Seven_."
   ]
  },
  {
   "cell_type": "code",
   "execution_count": 3,
   "id": "8d57d239-f4d3-4c19-8733-7058a47a146f",
   "metadata": {},
   "outputs": [],
   "source": [
    "#in millions\n",
    "g7_pop=pd.Series([38.93,68.035,84.432,58.9,124.631,67.081,334.233])"
   ]
  },
  {
   "cell_type": "code",
   "execution_count": 4,
   "id": "569e2a6e-c27a-452c-8a77-bba04f361d3f",
   "metadata": {},
   "outputs": [
    {
     "data": {
      "text/plain": [
       "0     38.930\n",
       "1     68.035\n",
       "2     84.432\n",
       "3     58.900\n",
       "4    124.631\n",
       "5     67.081\n",
       "6    334.233\n",
       "dtype: float64"
      ]
     },
     "execution_count": 4,
     "metadata": {},
     "output_type": "execute_result"
    }
   ],
   "source": [
    "g7_pop"
   ]
  },
  {
   "cell_type": "code",
   "execution_count": 5,
   "id": "5e05334b-3f09-4e2f-ade2-28d2c4ebcb47",
   "metadata": {},
   "outputs": [],
   "source": [
    "g7_pop.name=\"G7 Population in millions\""
   ]
  },
  {
   "cell_type": "code",
   "execution_count": 6,
   "id": "a97f26b3-2c11-4ed6-80e3-1a8af1a46f70",
   "metadata": {},
   "outputs": [
    {
     "data": {
      "text/plain": [
       "0     38.930\n",
       "1     68.035\n",
       "2     84.432\n",
       "3     58.900\n",
       "4    124.631\n",
       "5     67.081\n",
       "6    334.233\n",
       "Name: G7 Population in millions, dtype: float64"
      ]
     },
     "execution_count": 6,
     "metadata": {},
     "output_type": "execute_result"
    }
   ],
   "source": [
    "g7_pop"
   ]
  },
  {
   "cell_type": "code",
   "execution_count": 7,
   "id": "25f81738-c9f9-42f4-a0ce-ff50b9028184",
   "metadata": {},
   "outputs": [
    {
     "data": {
      "text/plain": [
       "dtype('float64')"
      ]
     },
     "execution_count": 7,
     "metadata": {},
     "output_type": "execute_result"
    }
   ],
   "source": [
    "g7_pop.dtype"
   ]
  },
  {
   "cell_type": "code",
   "execution_count": 8,
   "id": "3b7f8290-42fe-4116-bab5-8fc9f016a829",
   "metadata": {},
   "outputs": [
    {
     "data": {
      "text/plain": [
       "array([ 38.93 ,  68.035,  84.432,  58.9  , 124.631,  67.081, 334.233])"
      ]
     },
     "execution_count": 8,
     "metadata": {},
     "output_type": "execute_result"
    }
   ],
   "source": [
    "g7_pop.values"
   ]
  },
  {
   "cell_type": "code",
   "execution_count": 9,
   "id": "de80b080-d8ca-4d12-8532-b45958772e7b",
   "metadata": {},
   "outputs": [
    {
     "data": {
      "text/plain": [
       "numpy.ndarray"
      ]
     },
     "execution_count": 9,
     "metadata": {},
     "output_type": "execute_result"
    }
   ],
   "source": [
    "type(g7_pop.values)"
   ]
  },
  {
   "cell_type": "code",
   "execution_count": 11,
   "id": "9623dee2-286f-495e-afb7-55011b00519e",
   "metadata": {},
   "outputs": [
    {
     "data": {
      "text/plain": [
       "38.93"
      ]
     },
     "execution_count": 11,
     "metadata": {},
     "output_type": "execute_result"
    }
   ],
   "source": [
    "g7_pop[0]"
   ]
  },
  {
   "cell_type": "code",
   "execution_count": 12,
   "id": "c2f66a87-6150-4be3-80bd-69860b0e7bdd",
   "metadata": {},
   "outputs": [
    {
     "data": {
      "text/plain": [
       "RangeIndex(start=0, stop=7, step=1)"
      ]
     },
     "execution_count": 12,
     "metadata": {},
     "output_type": "execute_result"
    }
   ],
   "source": [
    "g7_pop.index"
   ]
  },
  {
   "cell_type": "code",
   "execution_count": 15,
   "id": "fa511a7d-4c77-499e-aba3-88c056288906",
   "metadata": {},
   "outputs": [],
   "source": [
    "g7_pop.index= [\n",
    "    'Canada',\n",
    "    'France',\n",
    "    'Germany',\n",
    "    'Italy',\n",
    "    'Japan',\n",
    "    'United Kingdom',\n",
    "    'United States',\n",
    "]"
   ]
  },
  {
   "cell_type": "code",
   "execution_count": 16,
   "id": "a484994d-40ea-4923-8f3c-09d42a47c51f",
   "metadata": {},
   "outputs": [
    {
     "data": {
      "text/plain": [
       "Canada             38.930\n",
       "France             68.035\n",
       "Germany            84.432\n",
       "Italy              58.900\n",
       "Japan             124.631\n",
       "United Kingdom     67.081\n",
       "United States     334.233\n",
       "Name: G7 Population in millions, dtype: float64"
      ]
     },
     "execution_count": 16,
     "metadata": {},
     "output_type": "execute_result"
    }
   ],
   "source": [
    "g7_pop"
   ]
  },
  {
   "cell_type": "code",
   "execution_count": 19,
   "id": "25c636bb-e571-4893-bb48-5a0b489e9905",
   "metadata": {},
   "outputs": [
    {
     "data": {
      "text/plain": [
       "124.631"
      ]
     },
     "execution_count": 19,
     "metadata": {},
     "output_type": "execute_result"
    }
   ],
   "source": [
    "g7_pop['Japan']"
   ]
  },
  {
   "cell_type": "markdown",
   "id": "bd84e5c5-6461-41d8-967c-b369bf2e832c",
   "metadata": {},
   "source": [
    "**_Other Methods of Creating series in pandas_**"
   ]
  },
  {
   "cell_type": "code",
   "execution_count": 26,
   "id": "41f7168a-0c26-4baa-97d9-1b5dceeaa246",
   "metadata": {},
   "outputs": [],
   "source": [
    "g7_pop=pd.Series({\n",
    "    'Canada': 38.930,\n",
    "    'France': 68.035,\n",
    "    'Germany': 84.432,\n",
    "    'Italy': 58.900,\n",
    "    'Japan': 124.631,\n",
    "    'United Kingdom': 67.081,\n",
    "    'United States': 334.233,\n",
    "}, name='G7 population in millions')"
   ]
  },
  {
   "cell_type": "code",
   "execution_count": 27,
   "id": "e2ab3843-f530-4657-8718-bc2c2ce96fc9",
   "metadata": {},
   "outputs": [
    {
     "data": {
      "text/plain": [
       "Canada             38.930\n",
       "France             68.035\n",
       "Germany            84.432\n",
       "Italy              58.900\n",
       "Japan             124.631\n",
       "United Kingdom     67.081\n",
       "United States     334.233\n",
       "Name: G7 population in millions, dtype: float64"
      ]
     },
     "execution_count": 27,
     "metadata": {},
     "output_type": "execute_result"
    }
   ],
   "source": [
    "g7_pop"
   ]
  },
  {
   "cell_type": "code",
   "execution_count": 2,
   "id": "1188a161-3c1e-4be3-95af-b95fc837a929",
   "metadata": {},
   "outputs": [],
   "source": [
    "g7_pop = pd.Series(\n",
    "    [38.93,68.035,84.432,58.9,124.631,67.081,334.233],\n",
    "    index=['Canada','France','Germany','Italy','Japan','United Kingdom','United States',],\n",
    "    name='G7 population in millions')"
   ]
  },
  {
   "cell_type": "code",
   "execution_count": 30,
   "id": "c0c22921-d9a7-434a-8705-b2dc5c197217",
   "metadata": {},
   "outputs": [
    {
     "data": {
      "text/plain": [
       "Canada             38.930\n",
       "France             68.035\n",
       "Germany            84.432\n",
       "Italy              58.900\n",
       "Japan             124.631\n",
       "United Kingdom     67.081\n",
       "United States     334.233\n",
       "Name: G7 population in millions, dtype: float64"
      ]
     },
     "execution_count": 30,
     "metadata": {},
     "output_type": "execute_result"
    }
   ],
   "source": [
    "g7_pop"
   ]
  },
  {
   "cell_type": "markdown",
   "id": "df926440-783f-4ea9-a4ca-eb44f96cf6d7",
   "metadata": {},
   "source": [
    "## __Indexing__"
   ]
  },
  {
   "cell_type": "code",
   "execution_count": 4,
   "id": "8ba83cce-782d-4c95-abcf-475a9c56ce80",
   "metadata": {},
   "outputs": [
    {
     "data": {
      "text/plain": [
       "38.93"
      ]
     },
     "execution_count": 4,
     "metadata": {},
     "output_type": "execute_result"
    }
   ],
   "source": [
    "g7_pop['Canada']"
   ]
  },
  {
   "cell_type": "code",
   "execution_count": 5,
   "id": "9d9d4ab8-7970-4a0b-83f6-6f4fffcfd1f2",
   "metadata": {},
   "outputs": [
    {
     "data": {
      "text/plain": [
       "124.631"
      ]
     },
     "execution_count": 5,
     "metadata": {},
     "output_type": "execute_result"
    }
   ],
   "source": [
    "g7_pop['Japan']"
   ]
  },
  {
   "cell_type": "markdown",
   "id": "bdfe64c1-e2dc-4a68-bf92-5c9bcb3fecc1",
   "metadata": {},
   "source": [
    "_index can also be used with iloc[n] method_"
   ]
  },
  {
   "cell_type": "code",
   "execution_count": 6,
   "id": "20e6bd9f-1f0c-4c32-b956-c776d8d68f3b",
   "metadata": {},
   "outputs": [
    {
     "data": {
      "text/plain": [
       "38.93"
      ]
     },
     "execution_count": 6,
     "metadata": {},
     "output_type": "execute_result"
    }
   ],
   "source": [
    "g7_pop.iloc[0]"
   ]
  },
  {
   "cell_type": "code",
   "execution_count": 10,
   "id": "a8c8b3cf-b773-416a-b85c-70b6731710e4",
   "metadata": {},
   "outputs": [
    {
     "data": {
      "text/plain": [
       "Canada             38.930\n",
       "France             68.035\n",
       "Germany            84.432\n",
       "Italy              58.900\n",
       "Japan             124.631\n",
       "United Kingdom     67.081\n",
       "Name: G7 population in millions, dtype: float64"
      ]
     },
     "execution_count": 10,
     "metadata": {},
     "output_type": "execute_result"
    }
   ],
   "source": [
    "g7_pop.iloc[0:6]"
   ]
  },
  {
   "cell_type": "code",
   "execution_count": 11,
   "id": "22e02032-c485-4d37-ae9e-52de0c89fbaa",
   "metadata": {},
   "outputs": [
    {
     "data": {
      "text/plain": [
       "Canada    38.93\n",
       "Italy     58.90\n",
       "Name: G7 population in millions, dtype: float64"
      ]
     },
     "execution_count": 11,
     "metadata": {},
     "output_type": "execute_result"
    }
   ],
   "source": [
    "g7_pop.iloc[[0,3]]"
   ]
  },
  {
   "cell_type": "code",
   "execution_count": 15,
   "id": "62c0ee97-8674-4615-9727-c5a91dd066ee",
   "metadata": {},
   "outputs": [
    {
     "data": {
      "text/plain": [
       "France      68.035\n",
       "Germany     84.432\n",
       "Italy       58.900\n",
       "Japan      124.631\n",
       "Name: G7 population in millions, dtype: float64"
      ]
     },
     "execution_count": 15,
     "metadata": {},
     "output_type": "execute_result"
    }
   ],
   "source": [
    "g7_pop['France':'Japan'] #in python unlike lists the upper limit is also included while slicing"
   ]
  },
  {
   "cell_type": "markdown",
   "id": "febd8d7c-0b72-4f02-9e09-d00604f3c0c5",
   "metadata": {},
   "source": [
    "## __Conditional Selection (Boolean Series)__\n",
    "_(same boolean array techniques applied in numpy is used just name is changed to boolean series)_"
   ]
  },
  {
   "cell_type": "code",
   "execution_count": 16,
   "id": "bbdc278e-d7a5-4d87-a295-e7e2b39adc36",
   "metadata": {},
   "outputs": [
    {
     "data": {
      "text/plain": [
       "Canada            False\n",
       "France            False\n",
       "Germany            True\n",
       "Italy             False\n",
       "Japan              True\n",
       "United Kingdom    False\n",
       "United States      True\n",
       "Name: G7 population in millions, dtype: bool"
      ]
     },
     "execution_count": 16,
     "metadata": {},
     "output_type": "execute_result"
    }
   ],
   "source": [
    "g7_pop >70"
   ]
  },
  {
   "cell_type": "code",
   "execution_count": 17,
   "id": "34b73f85-e393-4fa8-bb3b-e0c87cd88ab3",
   "metadata": {},
   "outputs": [
    {
     "data": {
      "text/plain": [
       "Germany           84.432\n",
       "Japan            124.631\n",
       "United States    334.233\n",
       "Name: G7 population in millions, dtype: float64"
      ]
     },
     "execution_count": 17,
     "metadata": {},
     "output_type": "execute_result"
    }
   ],
   "source": [
    "g7_pop[g7_pop > 70] "
   ]
  },
  {
   "cell_type": "code",
   "execution_count": 18,
   "id": "582ea60f-1ff3-4207-bda5-be4630432d69",
   "metadata": {},
   "outputs": [
    {
     "data": {
      "text/plain": [
       "110.89171428571429"
      ]
     },
     "execution_count": 18,
     "metadata": {},
     "output_type": "execute_result"
    }
   ],
   "source": [
    "g7_pop.mean()"
   ]
  },
  {
   "cell_type": "code",
   "execution_count": 21,
   "id": "dddb788b-d0b4-4274-aeb4-d6811143d6df",
   "metadata": {},
   "outputs": [
    {
     "data": {
      "text/plain": [
       "Japan            124.631\n",
       "United States    334.233\n",
       "Name: G7 population in millions, dtype: float64"
      ]
     },
     "execution_count": 21,
     "metadata": {},
     "output_type": "execute_result"
    }
   ],
   "source": [
    "g7_pop[g7_pop > g7_pop.mean()]"
   ]
  },
  {
   "cell_type": "code",
   "execution_count": 26,
   "id": "db20f88f-f7d5-458b-bb05-621d9d5a9237",
   "metadata": {},
   "outputs": [
    {
     "data": {
      "text/plain": [
       "Germany    84.432\n",
       "Name: G7 population in millions, dtype: float64"
      ]
     },
     "execution_count": 26,
     "metadata": {},
     "output_type": "execute_result"
    }
   ],
   "source": [
    "g7_pop[(g7_pop >70) & (g7_pop <100)]"
   ]
  },
  {
   "cell_type": "markdown",
   "id": "a7efe7e3-678e-443e-921f-aadfb689e448",
   "metadata": {},
   "source": [
    "## __Operation and methods__"
   ]
  },
  {
   "cell_type": "code",
   "execution_count": 22,
   "id": "5edccca0-6ac8-4433-af9c-da53b25e13e8",
   "metadata": {},
   "outputs": [
    {
     "data": {
      "text/plain": [
       "Canada             3893000.0\n",
       "France             6803500.0\n",
       "Germany            8443200.0\n",
       "Italy              5890000.0\n",
       "Japan             12463100.0\n",
       "United Kingdom     6708100.0\n",
       "United States     33423300.0\n",
       "Name: G7 population in millions, dtype: float64"
      ]
     },
     "execution_count": 22,
     "metadata": {},
     "output_type": "execute_result"
    }
   ],
   "source": [
    "g7_pop * 100000"
   ]
  },
  {
   "cell_type": "code",
   "execution_count": 24,
   "id": "4a34a132-9ad4-4e65-a3ca-b4eb991d6769",
   "metadata": {},
   "outputs": [
    {
     "data": {
      "text/plain": [
       "Canada             38.930\n",
       "France             68.035\n",
       "Germany            84.432\n",
       "Italy              58.900\n",
       "Japan             124.631\n",
       "United Kingdom     67.081\n",
       "United States     334.233\n",
       "Name: G7 population in millions, dtype: float64"
      ]
     },
     "execution_count": 24,
     "metadata": {},
     "output_type": "execute_result"
    }
   ],
   "source": [
    "g7_pop"
   ]
  },
  {
   "cell_type": "markdown",
   "id": "e710a67b-c2d4-47f9-8166-8606b2c1c1e9",
   "metadata": {},
   "source": [
    "## __Modifying Series__"
   ]
  },
  {
   "cell_type": "code",
   "execution_count": 28,
   "id": "b952b802-af93-4965-af9b-b047633327e6",
   "metadata": {},
   "outputs": [],
   "source": [
    "g7_pop['Canada']=100"
   ]
  },
  {
   "cell_type": "code",
   "execution_count": 29,
   "id": "d148e59d-fc04-4791-91cd-32c3604f5481",
   "metadata": {},
   "outputs": [
    {
     "data": {
      "text/plain": [
       "Canada            100.000\n",
       "France             68.035\n",
       "Germany            84.432\n",
       "Italy              58.900\n",
       "Japan             124.631\n",
       "United Kingdom     67.081\n",
       "United States     334.233\n",
       "Name: G7 population in millions, dtype: float64"
      ]
     },
     "execution_count": 29,
     "metadata": {},
     "output_type": "execute_result"
    }
   ],
   "source": [
    "g7_pop"
   ]
  },
  {
   "cell_type": "code",
   "execution_count": 30,
   "id": "3c23668d-dc58-44c2-9e4c-ab8b656c2056",
   "metadata": {},
   "outputs": [],
   "source": [
    "g7_pop.iloc[-1]=669"
   ]
  },
  {
   "cell_type": "code",
   "execution_count": 31,
   "id": "2ba6b9b8-ae9e-4cdf-b9fa-d7788ded7768",
   "metadata": {},
   "outputs": [],
   "source": [
    "g7_pop[g7_pop<70]=99.99"
   ]
  },
  {
   "cell_type": "code",
   "execution_count": 32,
   "id": "56cca178-e7af-4a55-adee-b6ab471a1a52",
   "metadata": {},
   "outputs": [
    {
     "data": {
      "text/plain": [
       "Canada            100.000\n",
       "France             99.990\n",
       "Germany            84.432\n",
       "Italy              99.990\n",
       "Japan             124.631\n",
       "United Kingdom     99.990\n",
       "United States     669.000\n",
       "Name: G7 population in millions, dtype: float64"
      ]
     },
     "execution_count": 32,
     "metadata": {},
     "output_type": "execute_result"
    }
   ],
   "source": [
    "g7_pop"
   ]
  }
 ],
 "metadata": {
  "kernelspec": {
   "display_name": "Python 3 (ipykernel)",
   "language": "python",
   "name": "python3"
  },
  "language_info": {
   "codemirror_mode": {
    "name": "ipython",
    "version": 3
   },
   "file_extension": ".py",
   "mimetype": "text/x-python",
   "name": "python",
   "nbconvert_exporter": "python",
   "pygments_lexer": "ipython3",
   "version": "3.12.0"
  }
 },
 "nbformat": 4,
 "nbformat_minor": 5
}
