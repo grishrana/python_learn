{
 "cells": [
  {
   "cell_type": "code",
   "execution_count": 1,
   "id": "a6c6f2de-d9ec-4a3b-9463-3e05b6cf6bec",
   "metadata": {},
   "outputs": [],
   "source": [
    "import pandas as pd\n",
    "import numpy as np"
   ]
  },
  {
   "cell_type": "markdown",
   "id": "77695242-056a-4ae4-89c1-939f1c36540c",
   "metadata": {},
   "source": [
    "## __Pandas Series__\n",
    "We'll start analayzing _The Group of Seven_."
   ]
  },
  {
   "cell_type": "code",
   "execution_count": 3,
   "id": "8d57d239-f4d3-4c19-8733-7058a47a146f",
   "metadata": {},
   "outputs": [],
   "source": [
    "#in millions\n",
    "g7_pop=pd.Series([38.93,68.035,84.432,58.9,124.631,67.081,334.233])"
   ]
  },
  {
   "cell_type": "code",
   "execution_count": 4,
   "id": "569e2a6e-c27a-452c-8a77-bba04f361d3f",
   "metadata": {},
   "outputs": [
    {
     "data": {
      "text/plain": [
       "0     38.930\n",
       "1     68.035\n",
       "2     84.432\n",
       "3     58.900\n",
       "4    124.631\n",
       "5     67.081\n",
       "6    334.233\n",
       "dtype: float64"
      ]
     },
     "execution_count": 4,
     "metadata": {},
     "output_type": "execute_result"
    }
   ],
   "source": [
    "g7_pop"
   ]
  },
  {
   "cell_type": "code",
   "execution_count": 5,
   "id": "5e05334b-3f09-4e2f-ade2-28d2c4ebcb47",
   "metadata": {},
   "outputs": [],
   "source": [
    "g7_pop.name=\"G7 Population in millions\""
   ]
  },
  {
   "cell_type": "code",
   "execution_count": 6,
   "id": "a97f26b3-2c11-4ed6-80e3-1a8af1a46f70",
   "metadata": {},
   "outputs": [
    {
     "data": {
      "text/plain": [
       "0     38.930\n",
       "1     68.035\n",
       "2     84.432\n",
       "3     58.900\n",
       "4    124.631\n",
       "5     67.081\n",
       "6    334.233\n",
       "Name: G7 Population in millions, dtype: float64"
      ]
     },
     "execution_count": 6,
     "metadata": {},
     "output_type": "execute_result"
    }
   ],
   "source": [
    "g7_pop"
   ]
  },
  {
   "cell_type": "code",
   "execution_count": 7,
   "id": "25f81738-c9f9-42f4-a0ce-ff50b9028184",
   "metadata": {},
   "outputs": [
    {
     "data": {
      "text/plain": [
       "dtype('float64')"
      ]
     },
     "execution_count": 7,
     "metadata": {},
     "output_type": "execute_result"
    }
   ],
   "source": [
    "g7_pop.dtype"
   ]
  },
  {
   "cell_type": "code",
   "execution_count": 8,
   "id": "3b7f8290-42fe-4116-bab5-8fc9f016a829",
   "metadata": {},
   "outputs": [
    {
     "data": {
      "text/plain": [
       "array([ 38.93 ,  68.035,  84.432,  58.9  , 124.631,  67.081, 334.233])"
      ]
     },
     "execution_count": 8,
     "metadata": {},
     "output_type": "execute_result"
    }
   ],
   "source": [
    "g7_pop.values"
   ]
  },
  {
   "cell_type": "code",
   "execution_count": 9,
   "id": "de80b080-d8ca-4d12-8532-b45958772e7b",
   "metadata": {},
   "outputs": [
    {
     "data": {
      "text/plain": [
       "numpy.ndarray"
      ]
     },
     "execution_count": 9,
     "metadata": {},
     "output_type": "execute_result"
    }
   ],
   "source": [
    "type(g7_pop.values)"
   ]
  },
  {
   "cell_type": "code",
   "execution_count": 11,
   "id": "9623dee2-286f-495e-afb7-55011b00519e",
   "metadata": {},
   "outputs": [
    {
     "data": {
      "text/plain": [
       "38.93"
      ]
     },
     "execution_count": 11,
     "metadata": {},
     "output_type": "execute_result"
    }
   ],
   "source": [
    "g7_pop[0]"
   ]
  },
  {
   "cell_type": "code",
   "execution_count": 12,
   "id": "c2f66a87-6150-4be3-80bd-69860b0e7bdd",
   "metadata": {},
   "outputs": [
    {
     "data": {
      "text/plain": [
       "RangeIndex(start=0, stop=7, step=1)"
      ]
     },
     "execution_count": 12,
     "metadata": {},
     "output_type": "execute_result"
    }
   ],
   "source": [
    "g7_pop.index"
   ]
  },
  {
   "cell_type": "code",
   "execution_count": 15,
   "id": "fa511a7d-4c77-499e-aba3-88c056288906",
   "metadata": {},
   "outputs": [],
   "source": [
    "g7_pop.index= [\n",
    "    'Canada',\n",
    "    'France',\n",
    "    'Germany',\n",
    "    'Italy',\n",
    "    'Japan',\n",
    "    'United Kingdom',\n",
    "    'United States',\n",
    "]"
   ]
  },
  {
   "cell_type": "code",
   "execution_count": 16,
   "id": "a484994d-40ea-4923-8f3c-09d42a47c51f",
   "metadata": {},
   "outputs": [
    {
     "data": {
      "text/plain": [
       "Canada             38.930\n",
       "France             68.035\n",
       "Germany            84.432\n",
       "Italy              58.900\n",
       "Japan             124.631\n",
       "United Kingdom     67.081\n",
       "United States     334.233\n",
       "Name: G7 Population in millions, dtype: float64"
      ]
     },
     "execution_count": 16,
     "metadata": {},
     "output_type": "execute_result"
    }
   ],
   "source": [
    "g7_pop"
   ]
  },
  {
   "cell_type": "code",
   "execution_count": 19,
   "id": "25c636bb-e571-4893-bb48-5a0b489e9905",
   "metadata": {},
   "outputs": [
    {
     "data": {
      "text/plain": [
       "124.631"
      ]
     },
     "execution_count": 19,
     "metadata": {},
     "output_type": "execute_result"
    }
   ],
   "source": [
    "g7_pop['Japan']"
   ]
  },
  {
   "cell_type": "markdown",
   "id": "bd84e5c5-6461-41d8-967c-b369bf2e832c",
   "metadata": {},
   "source": [
    "**_Other Methods of Creating series in pandas_**"
   ]
  },
  {
   "cell_type": "code",
   "execution_count": 26,
   "id": "41f7168a-0c26-4baa-97d9-1b5dceeaa246",
   "metadata": {},
   "outputs": [],
   "source": [
    "g7_pop=pd.Series({\n",
    "    'Canada': 38.930,\n",
    "    'France': 68.035,\n",
    "    'Germany': 84.432,\n",
    "    'Italy': 58.900,\n",
    "    'Japan': 124.631,\n",
    "    'United Kingdom': 67.081,\n",
    "    'United States': 334.233,\n",
    "}, name='G7 population in millions')"
   ]
  },
  {
   "cell_type": "code",
   "execution_count": 27,
   "id": "e2ab3843-f530-4657-8718-bc2c2ce96fc9",
   "metadata": {},
   "outputs": [
    {
     "data": {
      "text/plain": [
       "Canada             38.930\n",
       "France             68.035\n",
       "Germany            84.432\n",
       "Italy              58.900\n",
       "Japan             124.631\n",
       "United Kingdom     67.081\n",
       "United States     334.233\n",
       "Name: G7 population in millions, dtype: float64"
      ]
     },
     "execution_count": 27,
     "metadata": {},
     "output_type": "execute_result"
    }
   ],
   "source": [
    "g7_pop"
   ]
  },
  {
   "cell_type": "code",
   "execution_count": 29,
   "id": "1188a161-3c1e-4be3-95af-b95fc837a929",
   "metadata": {},
   "outputs": [],
   "source": [
    "g7_pop = pd.Series(\n",
    "    [38.93,68.035,84.432,58.9,124.631,67.081,334.233],\n",
    "    index=['Canada','France','Germany','Italy','Japan','United Kingdom','United States',],\n",
    "    name='G7 population in millions')"
   ]
  },
  {
   "cell_type": "code",
   "execution_count": 30,
   "id": "c0c22921-d9a7-434a-8705-b2dc5c197217",
   "metadata": {},
   "outputs": [
    {
     "data": {
      "text/plain": [
       "Canada             38.930\n",
       "France             68.035\n",
       "Germany            84.432\n",
       "Italy              58.900\n",
       "Japan             124.631\n",
       "United Kingdom     67.081\n",
       "United States     334.233\n",
       "Name: G7 population in millions, dtype: float64"
      ]
     },
     "execution_count": 30,
     "metadata": {},
     "output_type": "execute_result"
    }
   ],
   "source": [
    "g7_pop"
   ]
  }
 ],
 "metadata": {
  "kernelspec": {
   "display_name": "Python 3 (ipykernel)",
   "language": "python",
   "name": "python3"
  },
  "language_info": {
   "codemirror_mode": {
    "name": "ipython",
    "version": 3
   },
   "file_extension": ".py",
   "mimetype": "text/x-python",
   "name": "python",
   "nbconvert_exporter": "python",
   "pygments_lexer": "ipython3",
   "version": "3.12.0"
  }
 },
 "nbformat": 4,
 "nbformat_minor": 5
}
