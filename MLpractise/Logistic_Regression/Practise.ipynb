{
 "cells": [
  {
   "cell_type": "code",
   "execution_count": 49,
   "id": "23417a1d-8ed8-4159-8dfa-dc6831154e5f",
   "metadata": {},
   "outputs": [],
   "source": [
    "import numpy as np\n",
    "import matplotlib.pyplot as plt\n",
    "from utils import compute_cost,sigmoid\n",
    "from sklearn.metrics import log_loss"
   ]
  },
  {
   "cell_type": "markdown",
   "id": "97ce2f82-4321-4206-8844-20baf18736e7",
   "metadata": {},
   "source": [
    "# **Testing compute_cost**"
   ]
  },
  {
   "cell_type": "code",
   "execution_count": 52,
   "id": "a85a18e7-5ade-494a-befb-1507c727ad01",
   "metadata": {},
   "outputs": [
    {
     "data": {
      "text/plain": [
       "array([1, 0])"
      ]
     },
     "execution_count": 52,
     "metadata": {},
     "output_type": "execute_result"
    }
   ],
   "source": [
    "X = np.array([[1,1.5],[1.5,2]])\n",
    "y = np.array([1,0])"
   ]
  },
  {
   "cell_type": "code",
   "execution_count": 44,
   "id": "454db9b5-6b76-4d70-b55d-eed45a910c5d",
   "metadata": {},
   "outputs": [],
   "source": [
    "w = np.array([0,0])\n",
    "b = 0"
   ]
  },
  {
   "cell_type": "code",
   "execution_count": 56,
   "id": "f731a060-a157-438d-8e4a-17fb81d536a2",
   "metadata": {},
   "outputs": [
    {
     "data": {
      "text/plain": [
       "array([0.5, 0.5])"
      ]
     },
     "execution_count": 56,
     "metadata": {},
     "output_type": "execute_result"
    }
   ],
   "source": [
    "y_pred = np.array([])\n",
    "for i in range(X.shape[0]):\n",
    "    z_i = np.dot(X[i],w)+b\n",
    "    y_pred_i = sigmoid(z_i)\n",
    "    y_pred = np.append(y_pred,y_pred_i)\n",
    "y_pred"
   ]
  },
  {
   "cell_type": "code",
   "execution_count": 59,
   "id": "087073bf-a9c8-49cf-bfa3-4a746593656c",
   "metadata": {},
   "outputs": [
    {
     "data": {
      "text/plain": [
       "0.6931471805599453"
      ]
     },
     "execution_count": 59,
     "metadata": {},
     "output_type": "execute_result"
    }
   ],
   "source": [
    "expected_cost = log_loss(y,y_pred)\n",
    "expected_cost"
   ]
  },
  {
   "cell_type": "code",
   "execution_count": 61,
   "id": "f9d31f4c-c0b9-492e-8f13-7c3e4be5560f",
   "metadata": {},
   "outputs": [
    {
     "name": "stdout",
     "output_type": "stream",
     "text": [
      "Compute Cost working properly\n",
      "Calculated cost: 0.6931471805599453\n"
     ]
    }
   ],
   "source": [
    "calc_cost = compute_cost(X,y,w,b)\n",
    "\n",
    "if calc_cost == expected_cost:\n",
    "    print(\"Compute Cost working properly\")\n",
    "    print(f\"Calculated cost: {calc_cost}\")"
   ]
  },
  {
   "cell_type": "code",
   "execution_count": null,
   "id": "546f0b1c-6f12-4e27-b2e4-8dfdd667e850",
   "metadata": {},
   "outputs": [],
   "source": []
  }
 ],
 "metadata": {
  "kernelspec": {
   "display_name": "Python 3 (ipykernel)",
   "language": "python",
   "name": "python3"
  },
  "language_info": {
   "codemirror_mode": {
    "name": "ipython",
    "version": 3
   },
   "file_extension": ".py",
   "mimetype": "text/x-python",
   "name": "python",
   "nbconvert_exporter": "python",
   "pygments_lexer": "ipython3",
   "version": "3.13.2"
  }
 },
 "nbformat": 4,
 "nbformat_minor": 5
}
