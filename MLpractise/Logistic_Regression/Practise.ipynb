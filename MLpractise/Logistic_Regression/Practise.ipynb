{
 "cells": [
  {
   "cell_type": "code",
   "execution_count": 1,
   "id": "23417a1d-8ed8-4159-8dfa-dc6831154e5f",
   "metadata": {},
   "outputs": [],
   "source": [
    "import numpy as np\n",
    "import matplotlib.pyplot as plt\n",
    "from utils import compute_cost,sigmoid, compute_gradient, gradient_descent, predict\n",
    "from sklearn.metrics import log_loss\n",
    "from sklearn.linear_model import LogisticRegression"
   ]
  },
  {
   "cell_type": "markdown",
   "id": "97ce2f82-4321-4206-8844-20baf18736e7",
   "metadata": {},
   "source": [
    "# **Testing compute_cost**"
   ]
  },
  {
   "cell_type": "code",
   "execution_count": 2,
   "id": "a85a18e7-5ade-494a-befb-1507c727ad01",
   "metadata": {},
   "outputs": [],
   "source": [
    "X = np.array([[1,1.5],[1.5,2]])\n",
    "y = np.array([1,0])"
   ]
  },
  {
   "cell_type": "code",
   "execution_count": 3,
   "id": "454db9b5-6b76-4d70-b55d-eed45a910c5d",
   "metadata": {},
   "outputs": [],
   "source": [
    "w = np.array([0,0])\n",
    "b = 0"
   ]
  },
  {
   "cell_type": "code",
   "execution_count": 4,
   "id": "f731a060-a157-438d-8e4a-17fb81d536a2",
   "metadata": {},
   "outputs": [
    {
     "data": {
      "text/plain": [
       "array([0.5, 0.5])"
      ]
     },
     "execution_count": 4,
     "metadata": {},
     "output_type": "execute_result"
    }
   ],
   "source": [
    "y_pred = predict(X,w,b)\n",
    "y_pred"
   ]
  },
  {
   "cell_type": "code",
   "execution_count": 5,
   "id": "087073bf-a9c8-49cf-bfa3-4a746593656c",
   "metadata": {},
   "outputs": [
    {
     "data": {
      "text/plain": [
       "0.6931471805599453"
      ]
     },
     "execution_count": 5,
     "metadata": {},
     "output_type": "execute_result"
    }
   ],
   "source": [
    "expected_cost = log_loss(y,y_pred)\n",
    "expected_cost"
   ]
  },
  {
   "cell_type": "code",
   "execution_count": 14,
   "id": "f9d31f4c-c0b9-492e-8f13-7c3e4be5560f",
   "metadata": {},
   "outputs": [],
   "source": [
    "def check(X,y,w,b):\n",
    "\n",
    "    y_pred = predict(X,w,b)\n",
    "    expected_cost = log_loss(y,y_pred)\n",
    "    calc_cost = compute_cost(X,y,w,b)\n",
    "    \n",
    "    if calc_cost == expected_cost:\n",
    "        print(\"Compute Cost working properly\")\n",
    "        print(f\"Calculated cost: {calc_cost}\")"
   ]
  },
  {
   "cell_type": "code",
   "execution_count": 15,
   "id": "01b89d00-cc30-4f1a-ad39-188ff7fdbb56",
   "metadata": {},
   "outputs": [
    {
     "name": "stdout",
     "output_type": "stream",
     "text": [
      "Compute Cost working properly\n",
      "Calculated cost: 0.6931471805599453\n"
     ]
    }
   ],
   "source": [
    "check(X,y,w,b)"
   ]
  },
  {
   "cell_type": "markdown",
   "id": "0753643d-b942-4c17-82d2-3f80697b969a",
   "metadata": {},
   "source": [
    "# **Testing compute_gradient, gradient_descent**"
   ]
  },
  {
   "cell_type": "code",
   "execution_count": 16,
   "id": "b5933999-8c6e-42ef-8de3-bc522f7f03c6",
   "metadata": {},
   "outputs": [
    {
     "name": "stdout",
     "output_type": "stream",
     "text": [
      "dj_dw: [0.125 0.125] dj_db: -0.0\n"
     ]
    }
   ],
   "source": [
    "dj_dw, dj_db = compute_gradient(X,y,w,b)\n",
    "print(f\"dj_dw: {dj_dw} dj_db: {dj_db}\")"
   ]
  },
  {
   "cell_type": "code",
   "execution_count": 17,
   "id": "0ac17cf5-e468-4051-8513-d1a7fd5bcc78",
   "metadata": {},
   "outputs": [
    {
     "name": "stdout",
     "output_type": "stream",
     "text": [
      "No. of iteration: 0 Cost: 0.6928364871993677\n",
      "No. of iteration: 1000 Cost: 0.6274154300779939\n",
      "No. of iteration: 2000 Cost: 0.577042738238179\n",
      "No. of iteration: 3000 Cost: 0.5323624462331092\n",
      "No. of iteration: 4000 Cost: 0.4926724469273266\n",
      "No. of iteration: 5000 Cost: 0.45734490664277827\n",
      "No. of iteration: 6000 Cost: 0.4258255335048393\n",
      "No. of iteration: 7000 Cost: 0.3976294049200499\n",
      "No. of iteration: 8000 Cost: 0.37233495160762686\n",
      "No. of iteration: 9000 Cost: 0.34957718955701594\n",
      "final w: [-3.14172546 -0.67800056] b: 4.927449813805431\n"
     ]
    }
   ],
   "source": [
    "w_out, b_out, j_hist = gradient_descent(X,y,w,b,0.01)\n",
    "print(f\"final w: {w_out} b: {b_out}\")"
   ]
  },
  {
   "cell_type": "code",
   "execution_count": 18,
   "id": "3804ee74-968a-4d13-b6db-5ccfe6a36c0a",
   "metadata": {},
   "outputs": [
    {
     "name": "stdout",
     "output_type": "stream",
     "text": [
      "Compute Cost working properly\n",
      "Calculated cost: 0.3290604152020482\n"
     ]
    }
   ],
   "source": [
    "check(X,y,w_out,b_out)"
   ]
  },
  {
   "cell_type": "code",
   "execution_count": 19,
   "id": "573a2352-830e-42a6-a5ca-d833d721db91",
   "metadata": {
    "scrolled": true
   },
   "outputs": [
    {
     "name": "stdout",
     "output_type": "stream",
     "text": [
      "No. of iteration: 0 Cost: 0.6916298458240766\n",
      "No. of iteration: 1000 Cost: 0.4571917676873346\n",
      "No. of iteration: 2000 Cost: 0.3289407824456746\n",
      "No. of iteration: 3000 Cost: 0.2512968470966987\n",
      "No. of iteration: 4000 Cost: 0.20088252627686576\n",
      "No. of iteration: 5000 Cost: 0.16614502642655915\n",
      "No. of iteration: 6000 Cost: 0.14103167050409013\n",
      "No. of iteration: 7000 Cost: 0.12216168479141823\n",
      "No. of iteration: 8000 Cost: 0.10753298271479299\n",
      "No. of iteration: 9000 Cost: 0.09589829377116416\n",
      "final w: [-8.01541775 -1.64207603] b: 12.746683448596505\n"
     ]
    }
   ],
   "source": [
    "w_out, b_out, j_hist = gradient_descent(X,y,w,b,0.05)\n",
    "print(f\"final w: {w_out} b: {b_out}\")"
   ]
  },
  {
   "cell_type": "code",
   "execution_count": 20,
   "id": "47f6bdce-e2d8-43b4-ba3d-74c2d5f19363",
   "metadata": {},
   "outputs": [
    {
     "name": "stdout",
     "output_type": "stream",
     "text": [
      "Compute Cost working properly\n",
      "Calculated cost: 0.08645477977526284\n"
     ]
    }
   ],
   "source": [
    "check(X,y,w_out,b_out)"
   ]
  },
  {
   "cell_type": "code",
   "execution_count": 21,
   "id": "a30de377-f58a-4851-bef1-5e73d8d73fdf",
   "metadata": {},
   "outputs": [
    {
     "name": "stdout",
     "output_type": "stream",
     "text": [
      "No. of iteration: 0 Cost: 0.6904810105621968\n",
      "No. of iteration: 1000 Cost: 0.3493600436847732\n",
      "No. of iteration: 2000 Cost: 0.2186325334186683\n",
      "No. of iteration: 3000 Cost: 0.15514232876132122\n",
      "No. of iteration: 4000 Cost: 0.1189229696812362\n",
      "No. of iteration: 5000 Cost: 0.0958829239944071\n",
      "No. of iteration: 6000 Cost: 0.08007045988645312\n",
      "No. of iteration: 7000 Cost: 0.06860275871615798\n",
      "No. of iteration: 8000 Cost: 0.05993261714785772\n",
      "No. of iteration: 9000 Cost: 0.05316184374434736\n",
      "final w: [-10.06010889  -2.04953644] b: 16.021144898280316\n"
     ]
    }
   ],
   "source": [
    "w_out, b_out, j_hist = gradient_descent(X,y,w,b,0.09)\n",
    "print(f\"final w: {w_out} b: {b_out}\")\n"
   ]
  },
  {
   "cell_type": "code",
   "execution_count": null,
   "id": "eda7be2e-180f-4de0-8ec3-41aee852ca40",
   "metadata": {},
   "outputs": [],
   "source": []
  }
 ],
 "metadata": {
  "kernelspec": {
   "display_name": "Python 3 (ipykernel)",
   "language": "python",
   "name": "python3"
  },
  "language_info": {
   "codemirror_mode": {
    "name": "ipython",
    "version": 3
   },
   "file_extension": ".py",
   "mimetype": "text/x-python",
   "name": "python",
   "nbconvert_exporter": "python",
   "pygments_lexer": "ipython3",
   "version": "3.13.2"
  }
 },
 "nbformat": 4,
 "nbformat_minor": 5
}
